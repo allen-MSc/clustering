{
 "cells": [
  {
   "cell_type": "markdown",
   "metadata": {},
   "source": [
    "# Clustering"
   ]
  },
  {
   "cell_type": "code",
   "execution_count": 8,
   "metadata": {},
   "outputs": [
    {
     "name": "stdout",
     "output_type": "stream",
     "text": [
      "Requirement already satisfied: plotly in /Users/allen/opt/anaconda3/lib/python3.8/site-packages (5.3.1)\n",
      "Requirement already satisfied: six in /Users/allen/opt/anaconda3/lib/python3.8/site-packages (from plotly) (1.15.0)\n",
      "Requirement already satisfied: tenacity>=6.2.0 in /Users/allen/opt/anaconda3/lib/python3.8/site-packages (from plotly) (8.0.1)\n"
     ]
    }
   ],
   "source": [
    "!pip install plotly"
   ]
  },
  {
   "cell_type": "code",
   "execution_count": 9,
   "metadata": {},
   "outputs": [],
   "source": [
    "import numpy as np\n",
    "import pandas as pd\n",
    "import matplotlib.pyplot as plt\n",
    "from sklearn.decomposition import PCA\n",
    "from sklearn import preprocessing\n",
    "from scipy.cluster.hierarchy import dendrogram\n",
    "from scipy.spatial.distance import cdist\n",
    "import plotly.graph_objects as go\n",
    "import plotly.offline as offline\n",
    "\n",
    "np.random.seed(42)"
   ]
  },
  {
   "cell_type": "markdown",
   "metadata": {},
   "source": [
    "#### Métodos utilitarios"
   ]
  },
  {
   "cell_type": "code",
   "execution_count": 10,
   "metadata": {},
   "outputs": [],
   "source": [
    "def plot_explained_variance_ratio(dim_to_plot):\n",
    "    pca = PCA(n_components=dim_to_plot, whiten=True)\n",
    "    pca.fit(data)\n",
    "    explained_variance_ratio = pca.explained_variance_ratio_\n",
    "    dims = range(dim_to_plot)\n",
    "\n",
    "    plt.plot(range(1, dim_to_plot + 1), explained_variance_ratio)\n",
    "    plt.xticks(dims)\n",
    "\n",
    "    vrSum = 0\n",
    "    minPercentage = 11\n",
    "    addlegend = True\n",
    "    for nc, vr in zip(dims, explained_variance_ratio):\n",
    "        vrSum += vr\n",
    "        if (vrSum * 100 > minPercentage and [1,2,3,5,7,10,15].count(nc + 1) > 0):\n",
    "            label = \"{:.2%} ({})\".format(vrSum, nc + 1)\n",
    "            plt.annotate(label, # this is the text\n",
    "                        (nc + 1,vr), # these are the coordinates to position the label\n",
    "                        textcoords=\"offset points\", # how to position the text\n",
    "                        xytext=(35, 0), # distance from text to points (x,y)\n",
    "                        ha='center')\n",
    "            if (addlegend):\n",
    "                plt.scatter(nc + 1, vr, c='r', label='Varianza acumulada')\n",
    "                addlegend = False\n",
    "            else:\n",
    "                plt.scatter(nc + 1, vr, c='r')\n",
    "            minPercentage += 11\n",
    "\n",
    "    plt.title('Reducción de la dimensión')\n",
    "    plt.xlabel('Número de componentes')\n",
    "    plt.ylabel('Porcentaje de varianza')\n",
    "    plt.legend(loc=\"upper right\")\n",
    "    plt.axvline(7, color='red', linestyle='--', linewidth=1, alpha=1)\n",
    "    plt.show()"
   ]
  },
  {
   "cell_type": "code",
   "execution_count": 11,
   "metadata": {},
   "outputs": [],
   "source": [
    "def plot_dendrogram(model, distance_threshold, **kwargs):\n",
    "    plt.figure(figsize=(40,10))\n",
    "    plt.title(\"Hierarchical Clustering Dendrogram\")\n",
    "\n",
    "    # Create linkage matrix and then plot the dendrogram\n",
    "    # create the counts of samples under each node\n",
    "    counts = np.zeros(model.children_.shape[0])\n",
    "    n_samples = len(model.labels_)\n",
    "    for i, merge in enumerate(model.children_):\n",
    "        current_count = 0\n",
    "        for child_idx in merge:\n",
    "            if child_idx < n_samples:\n",
    "                current_count += 1  # leaf node\n",
    "            else:\n",
    "                current_count += counts[child_idx - n_samples]\n",
    "        counts[i] = current_count\n",
    "\n",
    "    linkage_matrix = np.column_stack(\n",
    "        [model.children_, model.distances_, counts]\n",
    "    ).astype(float)\n",
    "\n",
    "    # Plot the corresponding dendrogram\n",
    "    dendrogram(linkage_matrix, truncate_mode=None, leaf_font_size=14, color_threshold=distance_threshold, **kwargs)\n",
    "    plt.axhline(distance_threshold, color='black', linestyle='-', linewidth=1, alpha=1)\n",
    "    plt.show()"
   ]
  },
  {
   "cell_type": "code",
   "execution_count": 12,
   "metadata": {},
   "outputs": [],
   "source": [
    "def plot_elbow_method(clusters, distortions, optimal):\n",
    "    plt.plot(clusters, distortions, 'bo-')\n",
    "    plt.xticks(clusters)\n",
    "    plt.xlabel('Número de clusters')\n",
    "    plt.ylabel('Distorción')\n",
    "    plt.title('Selección clusters - método del codo')\n",
    "    plt.axvline(optimal, color='red', linestyle='--', linewidth=1, alpha=1)\n",
    "    plt.show()"
   ]
  },
  {
   "cell_type": "code",
   "execution_count": 13,
   "metadata": {},
   "outputs": [],
   "source": [
    "def plot_3d(data, targets, title):\n",
    "    labels = np.unique(targets)\n",
    "    data_to_plot = []\n",
    "    for label in labels:\n",
    "        data_label = data[targets==label]\n",
    "        trace = go.Scatter3d(\n",
    "            x = data_label[:,0],\n",
    "            y = data_label[:,1],\n",
    "            z = data_label[:,2],\n",
    "            mode = 'markers',\n",
    "            name = str(label),\n",
    "            marker = dict(size = 5)\n",
    "        )\n",
    "        data_to_plot.append(trace)\n",
    "\n",
    "    layout = go.Layout(\n",
    "        width=700,\n",
    "        height=600,\n",
    "        title = title,\n",
    "        scene = dict(\n",
    "                xaxis = dict(title = 'comp 0'),\n",
    "                yaxis = dict(title = 'comp 1'),\n",
    "                zaxis = dict(title = 'comp 2')\n",
    "            )\n",
    "    )\n",
    "\n",
    "    fig = go.Figure(data=data_to_plot, layout=layout)\n",
    "    offline.iplot(fig)"
   ]
  },
  {
   "cell_type": "markdown",
   "metadata": {},
   "source": [
    "## Data - Targets"
   ]
  },
  {
   "cell_type": "code",
   "execution_count": 14,
   "metadata": {},
   "outputs": [
    {
     "name": "stdout",
     "output_type": "stream",
     "text": [
      "Tejidos: ['cerebellum' 'colon' 'endometrium' 'hippocampus' 'kidney' 'liver'\n",
      " 'placenta']\n"
     ]
    }
   ],
   "source": [
    "raw_targets = pd.read_csv('datasets/clase.txt', sep=',')\n",
    "\n",
    "# Limpiando la data de Targets\n",
    "targets = np.array(raw_targets.iloc[:,1])\n",
    "\n",
    "print('Tejidos:', np.unique(targets))"
   ]
  },
  {
   "cell_type": "markdown",
   "metadata": {},
   "source": [
    "## Data - Samples"
   ]
  },
  {
   "cell_type": "code",
   "execution_count": 15,
   "metadata": {},
   "outputs": [
    {
     "data": {
      "text/html": [
       "<div>\n",
       "<style scoped>\n",
       "    .dataframe tbody tr th:only-of-type {\n",
       "        vertical-align: middle;\n",
       "    }\n",
       "\n",
       "    .dataframe tbody tr th {\n",
       "        vertical-align: top;\n",
       "    }\n",
       "\n",
       "    .dataframe thead th {\n",
       "        text-align: right;\n",
       "    }\n",
       "</style>\n",
       "<table border=\"1\" class=\"dataframe\">\n",
       "  <thead>\n",
       "    <tr style=\"text-align: right;\">\n",
       "      <th></th>\n",
       "      <th>Unnamed: 0</th>\n",
       "      <th>GSM11805.CEL.gz</th>\n",
       "      <th>GSM11814.CEL.gz</th>\n",
       "      <th>GSM11823.CEL.gz</th>\n",
       "      <th>GSM11830.CEL.gz</th>\n",
       "      <th>GSM12067.CEL.gz</th>\n",
       "      <th>GSM12075.CEL.gz</th>\n",
       "      <th>GSM12079.CEL.gz</th>\n",
       "      <th>GSM12098.CEL.gz</th>\n",
       "      <th>GSM12105.CEL.gz</th>\n",
       "      <th>...</th>\n",
       "      <th>GSM323527.CEL.gz</th>\n",
       "      <th>GSM323565.CEL.gz</th>\n",
       "      <th>GSM323566.CEL.gz</th>\n",
       "      <th>GSM323567.CEL.gz</th>\n",
       "      <th>GSM246492.CEL.gz</th>\n",
       "      <th>GSM246493.CEL.gz</th>\n",
       "      <th>GSM246494.CEL.gz</th>\n",
       "      <th>GSM307639.CEL.gz</th>\n",
       "      <th>GSM307640.CEL.gz</th>\n",
       "      <th>GSM307641.CEL.gz</th>\n",
       "    </tr>\n",
       "  </thead>\n",
       "  <tbody>\n",
       "    <tr>\n",
       "      <th>0</th>\n",
       "      <td>1007_s_at</td>\n",
       "      <td>10.191267</td>\n",
       "      <td>10.509167</td>\n",
       "      <td>10.272027</td>\n",
       "      <td>10.252952</td>\n",
       "      <td>10.157605</td>\n",
       "      <td>9.966782</td>\n",
       "      <td>9.839348</td>\n",
       "      <td>9.945652</td>\n",
       "      <td>9.913031</td>\n",
       "      <td>...</td>\n",
       "      <td>11.797743</td>\n",
       "      <td>10.040886</td>\n",
       "      <td>11.285002</td>\n",
       "      <td>9.888693</td>\n",
       "      <td>9.661127</td>\n",
       "      <td>9.803686</td>\n",
       "      <td>10.509541</td>\n",
       "      <td>9.984502</td>\n",
       "      <td>9.937738</td>\n",
       "      <td>10.306781</td>\n",
       "    </tr>\n",
       "    <tr>\n",
       "      <th>1</th>\n",
       "      <td>1053_at</td>\n",
       "      <td>6.040463</td>\n",
       "      <td>6.696075</td>\n",
       "      <td>6.144663</td>\n",
       "      <td>6.575153</td>\n",
       "      <td>6.606701</td>\n",
       "      <td>6.060069</td>\n",
       "      <td>6.186596</td>\n",
       "      <td>5.927861</td>\n",
       "      <td>6.337478</td>\n",
       "      <td>...</td>\n",
       "      <td>6.157979</td>\n",
       "      <td>6.224848</td>\n",
       "      <td>6.170956</td>\n",
       "      <td>6.211522</td>\n",
       "      <td>6.270153</td>\n",
       "      <td>6.058488</td>\n",
       "      <td>6.345526</td>\n",
       "      <td>6.715984</td>\n",
       "      <td>6.836179</td>\n",
       "      <td>7.025547</td>\n",
       "    </tr>\n",
       "    <tr>\n",
       "      <th>2</th>\n",
       "      <td>117_at</td>\n",
       "      <td>7.447409</td>\n",
       "      <td>7.775354</td>\n",
       "      <td>7.696235</td>\n",
       "      <td>8.478135</td>\n",
       "      <td>8.116336</td>\n",
       "      <td>7.644452</td>\n",
       "      <td>8.009581</td>\n",
       "      <td>7.847192</td>\n",
       "      <td>7.983850</td>\n",
       "      <td>...</td>\n",
       "      <td>7.727192</td>\n",
       "      <td>7.573437</td>\n",
       "      <td>7.323547</td>\n",
       "      <td>7.228568</td>\n",
       "      <td>7.333568</td>\n",
       "      <td>7.486711</td>\n",
       "      <td>7.468406</td>\n",
       "      <td>7.120793</td>\n",
       "      <td>7.125811</td>\n",
       "      <td>7.407624</td>\n",
       "    </tr>\n",
       "    <tr>\n",
       "      <th>3</th>\n",
       "      <td>121_at</td>\n",
       "      <td>12.025042</td>\n",
       "      <td>12.007817</td>\n",
       "      <td>11.633279</td>\n",
       "      <td>11.075286</td>\n",
       "      <td>10.832528</td>\n",
       "      <td>11.705062</td>\n",
       "      <td>11.706145</td>\n",
       "      <td>11.750370</td>\n",
       "      <td>10.706184</td>\n",
       "      <td>...</td>\n",
       "      <td>10.443504</td>\n",
       "      <td>10.566722</td>\n",
       "      <td>10.250737</td>\n",
       "      <td>10.191332</td>\n",
       "      <td>9.703713</td>\n",
       "      <td>9.914632</td>\n",
       "      <td>9.909784</td>\n",
       "      <td>9.409933</td>\n",
       "      <td>9.587782</td>\n",
       "      <td>9.792904</td>\n",
       "    </tr>\n",
       "    <tr>\n",
       "      <th>4</th>\n",
       "      <td>1255_g_at</td>\n",
       "      <td>5.269269</td>\n",
       "      <td>5.180389</td>\n",
       "      <td>5.301714</td>\n",
       "      <td>5.372235</td>\n",
       "      <td>5.334905</td>\n",
       "      <td>5.253682</td>\n",
       "      <td>5.228794</td>\n",
       "      <td>5.155278</td>\n",
       "      <td>5.236442</td>\n",
       "      <td>...</td>\n",
       "      <td>5.263736</td>\n",
       "      <td>5.048867</td>\n",
       "      <td>5.062005</td>\n",
       "      <td>5.186962</td>\n",
       "      <td>5.158631</td>\n",
       "      <td>5.312712</td>\n",
       "      <td>5.341193</td>\n",
       "      <td>4.896124</td>\n",
       "      <td>5.296695</td>\n",
       "      <td>5.206251</td>\n",
       "    </tr>\n",
       "  </tbody>\n",
       "</table>\n",
       "<p>5 rows × 190 columns</p>\n",
       "</div>"
      ],
      "text/plain": [
       "  Unnamed: 0  GSM11805.CEL.gz  GSM11814.CEL.gz  GSM11823.CEL.gz  \\\n",
       "0  1007_s_at        10.191267        10.509167        10.272027   \n",
       "1    1053_at         6.040463         6.696075         6.144663   \n",
       "2     117_at         7.447409         7.775354         7.696235   \n",
       "3     121_at        12.025042        12.007817        11.633279   \n",
       "4  1255_g_at         5.269269         5.180389         5.301714   \n",
       "\n",
       "   GSM11830.CEL.gz  GSM12067.CEL.gz  GSM12075.CEL.gz  GSM12079.CEL.gz  \\\n",
       "0        10.252952        10.157605         9.966782         9.839348   \n",
       "1         6.575153         6.606701         6.060069         6.186596   \n",
       "2         8.478135         8.116336         7.644452         8.009581   \n",
       "3        11.075286        10.832528        11.705062        11.706145   \n",
       "4         5.372235         5.334905         5.253682         5.228794   \n",
       "\n",
       "   GSM12098.CEL.gz  GSM12105.CEL.gz  ...  GSM323527.CEL.gz  GSM323565.CEL.gz  \\\n",
       "0         9.945652         9.913031  ...         11.797743         10.040886   \n",
       "1         5.927861         6.337478  ...          6.157979          6.224848   \n",
       "2         7.847192         7.983850  ...          7.727192          7.573437   \n",
       "3        11.750370        10.706184  ...         10.443504         10.566722   \n",
       "4         5.155278         5.236442  ...          5.263736          5.048867   \n",
       "\n",
       "   GSM323566.CEL.gz  GSM323567.CEL.gz  GSM246492.CEL.gz  GSM246493.CEL.gz  \\\n",
       "0         11.285002          9.888693          9.661127          9.803686   \n",
       "1          6.170956          6.211522          6.270153          6.058488   \n",
       "2          7.323547          7.228568          7.333568          7.486711   \n",
       "3         10.250737         10.191332          9.703713          9.914632   \n",
       "4          5.062005          5.186962          5.158631          5.312712   \n",
       "\n",
       "   GSM246494.CEL.gz  GSM307639.CEL.gz  GSM307640.CEL.gz  GSM307641.CEL.gz  \n",
       "0         10.509541          9.984502          9.937738         10.306781  \n",
       "1          6.345526          6.715984          6.836179          7.025547  \n",
       "2          7.468406          7.120793          7.125811          7.407624  \n",
       "3          9.909784          9.409933          9.587782          9.792904  \n",
       "4          5.341193          4.896124          5.296695          5.206251  \n",
       "\n",
       "[5 rows x 190 columns]"
      ]
     },
     "execution_count": 15,
     "metadata": {},
     "output_type": "execute_result"
    }
   ],
   "source": [
    "raw_data = pd.read_csv('datasets/dataset_tissue.txt', sep=',')\n",
    "pd.DataFrame(raw_data).head()"
   ]
  },
  {
   "cell_type": "markdown",
   "metadata": {},
   "source": [
    "#### Normalizando la data"
   ]
  },
  {
   "cell_type": "code",
   "execution_count": 16,
   "metadata": {},
   "outputs": [
    {
     "name": "stdout",
     "output_type": "stream",
     "text": [
      "Data ajustado y normalizada, shape: (189, 22215)\n"
     ]
    },
    {
     "data": {
      "text/html": [
       "<div>\n",
       "<style scoped>\n",
       "    .dataframe tbody tr th:only-of-type {\n",
       "        vertical-align: middle;\n",
       "    }\n",
       "\n",
       "    .dataframe tbody tr th {\n",
       "        vertical-align: top;\n",
       "    }\n",
       "\n",
       "    .dataframe thead th {\n",
       "        text-align: right;\n",
       "    }\n",
       "</style>\n",
       "<table border=\"1\" class=\"dataframe\">\n",
       "  <thead>\n",
       "    <tr style=\"text-align: right;\">\n",
       "      <th></th>\n",
       "      <th>0</th>\n",
       "      <th>1</th>\n",
       "      <th>2</th>\n",
       "      <th>3</th>\n",
       "      <th>4</th>\n",
       "      <th>5</th>\n",
       "      <th>6</th>\n",
       "      <th>7</th>\n",
       "      <th>8</th>\n",
       "      <th>9</th>\n",
       "      <th>...</th>\n",
       "      <th>22205</th>\n",
       "      <th>22206</th>\n",
       "      <th>22207</th>\n",
       "      <th>22208</th>\n",
       "      <th>22209</th>\n",
       "      <th>22210</th>\n",
       "      <th>22211</th>\n",
       "      <th>22212</th>\n",
       "      <th>22213</th>\n",
       "      <th>22214</th>\n",
       "    </tr>\n",
       "  </thead>\n",
       "  <tbody>\n",
       "    <tr>\n",
       "      <th>0</th>\n",
       "      <td>0.008959</td>\n",
       "      <td>0.005310</td>\n",
       "      <td>0.006547</td>\n",
       "      <td>0.010571</td>\n",
       "      <td>0.004632</td>\n",
       "      <td>0.007503</td>\n",
       "      <td>0.006085</td>\n",
       "      <td>0.005027</td>\n",
       "      <td>0.007105</td>\n",
       "      <td>0.004777</td>\n",
       "      <td>...</td>\n",
       "      <td>0.007128</td>\n",
       "      <td>0.004616</td>\n",
       "      <td>0.006241</td>\n",
       "      <td>0.007218</td>\n",
       "      <td>0.006801</td>\n",
       "      <td>0.005657</td>\n",
       "      <td>0.005011</td>\n",
       "      <td>0.008098</td>\n",
       "      <td>0.007331</td>\n",
       "      <td>0.006477</td>\n",
       "    </tr>\n",
       "    <tr>\n",
       "      <th>1</th>\n",
       "      <td>0.009236</td>\n",
       "      <td>0.005885</td>\n",
       "      <td>0.006833</td>\n",
       "      <td>0.010553</td>\n",
       "      <td>0.004553</td>\n",
       "      <td>0.007547</td>\n",
       "      <td>0.006119</td>\n",
       "      <td>0.004918</td>\n",
       "      <td>0.006651</td>\n",
       "      <td>0.004642</td>\n",
       "      <td>...</td>\n",
       "      <td>0.007095</td>\n",
       "      <td>0.004754</td>\n",
       "      <td>0.006069</td>\n",
       "      <td>0.007314</td>\n",
       "      <td>0.007200</td>\n",
       "      <td>0.006747</td>\n",
       "      <td>0.005771</td>\n",
       "      <td>0.008275</td>\n",
       "      <td>0.007219</td>\n",
       "      <td>0.006959</td>\n",
       "    </tr>\n",
       "    <tr>\n",
       "      <th>2</th>\n",
       "      <td>0.009067</td>\n",
       "      <td>0.005424</td>\n",
       "      <td>0.006793</td>\n",
       "      <td>0.010268</td>\n",
       "      <td>0.004680</td>\n",
       "      <td>0.007306</td>\n",
       "      <td>0.006227</td>\n",
       "      <td>0.004923</td>\n",
       "      <td>0.006299</td>\n",
       "      <td>0.004663</td>\n",
       "      <td>...</td>\n",
       "      <td>0.006893</td>\n",
       "      <td>0.004676</td>\n",
       "      <td>0.005930</td>\n",
       "      <td>0.007418</td>\n",
       "      <td>0.007028</td>\n",
       "      <td>0.005671</td>\n",
       "      <td>0.004979</td>\n",
       "      <td>0.007232</td>\n",
       "      <td>0.007464</td>\n",
       "      <td>0.006707</td>\n",
       "    </tr>\n",
       "    <tr>\n",
       "      <th>3</th>\n",
       "      <td>0.009007</td>\n",
       "      <td>0.005776</td>\n",
       "      <td>0.007448</td>\n",
       "      <td>0.009730</td>\n",
       "      <td>0.004720</td>\n",
       "      <td>0.007559</td>\n",
       "      <td>0.006251</td>\n",
       "      <td>0.005149</td>\n",
       "      <td>0.007560</td>\n",
       "      <td>0.004722</td>\n",
       "      <td>...</td>\n",
       "      <td>0.007060</td>\n",
       "      <td>0.005294</td>\n",
       "      <td>0.005901</td>\n",
       "      <td>0.007729</td>\n",
       "      <td>0.007314</td>\n",
       "      <td>0.005583</td>\n",
       "      <td>0.005056</td>\n",
       "      <td>0.007487</td>\n",
       "      <td>0.007519</td>\n",
       "      <td>0.006852</td>\n",
       "    </tr>\n",
       "    <tr>\n",
       "      <th>4</th>\n",
       "      <td>0.008949</td>\n",
       "      <td>0.005821</td>\n",
       "      <td>0.007151</td>\n",
       "      <td>0.009544</td>\n",
       "      <td>0.004700</td>\n",
       "      <td>0.007316</td>\n",
       "      <td>0.006237</td>\n",
       "      <td>0.005047</td>\n",
       "      <td>0.007900</td>\n",
       "      <td>0.004832</td>\n",
       "      <td>...</td>\n",
       "      <td>0.007230</td>\n",
       "      <td>0.004945</td>\n",
       "      <td>0.005799</td>\n",
       "      <td>0.007558</td>\n",
       "      <td>0.007105</td>\n",
       "      <td>0.005672</td>\n",
       "      <td>0.005334</td>\n",
       "      <td>0.007023</td>\n",
       "      <td>0.007420</td>\n",
       "      <td>0.006644</td>\n",
       "    </tr>\n",
       "  </tbody>\n",
       "</table>\n",
       "<p>5 rows × 22215 columns</p>\n",
       "</div>"
      ],
      "text/plain": [
       "      0         1         2         3         4         5         6      \\\n",
       "0  0.008959  0.005310  0.006547  0.010571  0.004632  0.007503  0.006085   \n",
       "1  0.009236  0.005885  0.006833  0.010553  0.004553  0.007547  0.006119   \n",
       "2  0.009067  0.005424  0.006793  0.010268  0.004680  0.007306  0.006227   \n",
       "3  0.009007  0.005776  0.007448  0.009730  0.004720  0.007559  0.006251   \n",
       "4  0.008949  0.005821  0.007151  0.009544  0.004700  0.007316  0.006237   \n",
       "\n",
       "      7         8         9      ...     22205     22206     22207     22208  \\\n",
       "0  0.005027  0.007105  0.004777  ...  0.007128  0.004616  0.006241  0.007218   \n",
       "1  0.004918  0.006651  0.004642  ...  0.007095  0.004754  0.006069  0.007314   \n",
       "2  0.004923  0.006299  0.004663  ...  0.006893  0.004676  0.005930  0.007418   \n",
       "3  0.005149  0.007560  0.004722  ...  0.007060  0.005294  0.005901  0.007729   \n",
       "4  0.005047  0.007900  0.004832  ...  0.007230  0.004945  0.005799  0.007558   \n",
       "\n",
       "      22209     22210     22211     22212     22213     22214  \n",
       "0  0.006801  0.005657  0.005011  0.008098  0.007331  0.006477  \n",
       "1  0.007200  0.006747  0.005771  0.008275  0.007219  0.006959  \n",
       "2  0.007028  0.005671  0.004979  0.007232  0.007464  0.006707  \n",
       "3  0.007314  0.005583  0.005056  0.007487  0.007519  0.006852  \n",
       "4  0.007105  0.005672  0.005334  0.007023  0.007420  0.006644  \n",
       "\n",
       "[5 rows x 22215 columns]"
      ]
     },
     "execution_count": 16,
     "metadata": {},
     "output_type": "execute_result"
    }
   ],
   "source": [
    "# Ajustando la data para su procesamiento\n",
    "data = np.array(raw_data.iloc[:,1:]).T\n",
    "\n",
    "# Normalizando la data\n",
    "data = preprocessing.normalize(data)\n",
    "\n",
    "print('Data ajustado y normalizada, shape:', data.shape)\n",
    "pd.DataFrame(data).head()"
   ]
  },
  {
   "cell_type": "markdown",
   "metadata": {},
   "source": [
    "## Redución de dimensión utilizando Principal Component Analysis"
   ]
  },
  {
   "cell_type": "code",
   "execution_count": 17,
   "metadata": {},
   "outputs": [
    {
     "data": {
      "image/png": "[encoded data removed]",
      "text/plain": [
       "<Figure size 432x288 with 1 Axes>"
      ]
     },
     "metadata": {
      "needs_background": "light"
     },
     "output_type": "display_data"
    }
   ],
   "source": [
    "# Ploteando el procentaje de varianza de 1 a 20 de componentes\n",
    "plot_explained_variance_ratio(dim_to_plot=20)\n",
    "\n",
    "# Reduciendo la dimensionalidad de la data\n",
    "dim_reduced = 7\n",
    "data_reduced = PCA(n_components=dim_reduced, whiten=True).fit_transform(data)"
   ]
  },
  {
   "cell_type": "markdown",
   "metadata": {},
   "source": [
    "#### Data reducida"
   ]
  },
  {
   "cell_type": "code",
   "execution_count": 37,
   "metadata": {},
   "outputs": [
    {
     "name": "stdout",
     "output_type": "stream",
     "text": [
      "Data reducida, shape: (189, 7)\n"
     ]
    },
    {
     "data": {
      "text/html": [
       "<div>\n",
       "<style scoped>\n",
       "    .dataframe tbody tr th:only-of-type {\n",
       "        vertical-align: middle;\n",
       "    }\n",
       "\n",
       "    .dataframe tbody tr th {\n",
       "        vertical-align: top;\n",
       "    }\n",
       "\n",
       "    .dataframe thead th {\n",
       "        text-align: right;\n",
       "    }\n",
       "</style>\n",
       "<table border=\"1\" class=\"dataframe\">\n",
       "  <thead>\n",
       "    <tr style=\"text-align: right;\">\n",
       "      <th></th>\n",
       "      <th>0</th>\n",
       "      <th>1</th>\n",
       "      <th>2</th>\n",
       "      <th>3</th>\n",
       "      <th>4</th>\n",
       "      <th>5</th>\n",
       "      <th>6</th>\n",
       "    </tr>\n",
       "  </thead>\n",
       "  <tbody>\n",
       "    <tr>\n",
       "      <th>0</th>\n",
       "      <td>-0.553677</td>\n",
       "      <td>-0.676291</td>\n",
       "      <td>1.641158</td>\n",
       "      <td>0.133679</td>\n",
       "      <td>0.891150</td>\n",
       "      <td>-0.292006</td>\n",
       "      <td>-1.121255</td>\n",
       "    </tr>\n",
       "    <tr>\n",
       "      <th>1</th>\n",
       "      <td>-0.688195</td>\n",
       "      <td>-0.919342</td>\n",
       "      <td>1.173049</td>\n",
       "      <td>-0.064599</td>\n",
       "      <td>0.434606</td>\n",
       "      <td>-0.036350</td>\n",
       "      <td>-0.224672</td>\n",
       "    </tr>\n",
       "    <tr>\n",
       "      <th>2</th>\n",
       "      <td>-0.688801</td>\n",
       "      <td>0.112706</td>\n",
       "      <td>1.159383</td>\n",
       "      <td>-0.011977</td>\n",
       "      <td>2.000643</td>\n",
       "      <td>-0.044693</td>\n",
       "      <td>-1.909550</td>\n",
       "    </tr>\n",
       "    <tr>\n",
       "      <th>3</th>\n",
       "      <td>-0.665106</td>\n",
       "      <td>-0.223302</td>\n",
       "      <td>1.008195</td>\n",
       "      <td>0.175019</td>\n",
       "      <td>1.561074</td>\n",
       "      <td>0.518926</td>\n",
       "      <td>-0.260476</td>\n",
       "    </tr>\n",
       "    <tr>\n",
       "      <th>4</th>\n",
       "      <td>-0.600599</td>\n",
       "      <td>-0.481172</td>\n",
       "      <td>1.432586</td>\n",
       "      <td>0.223119</td>\n",
       "      <td>1.141321</td>\n",
       "      <td>0.268561</td>\n",
       "      <td>-0.572235</td>\n",
       "    </tr>\n",
       "    <tr>\n",
       "      <th>...</th>\n",
       "      <td>...</td>\n",
       "      <td>...</td>\n",
       "      <td>...</td>\n",
       "      <td>...</td>\n",
       "      <td>...</td>\n",
       "      <td>...</td>\n",
       "      <td>...</td>\n",
       "    </tr>\n",
       "    <tr>\n",
       "      <th>184</th>\n",
       "      <td>-0.412392</td>\n",
       "      <td>-1.313760</td>\n",
       "      <td>0.245709</td>\n",
       "      <td>-0.785470</td>\n",
       "      <td>-2.366863</td>\n",
       "      <td>3.797869</td>\n",
       "      <td>-2.098254</td>\n",
       "    </tr>\n",
       "    <tr>\n",
       "      <th>185</th>\n",
       "      <td>-0.658449</td>\n",
       "      <td>-1.139725</td>\n",
       "      <td>-0.305686</td>\n",
       "      <td>-0.714935</td>\n",
       "      <td>-2.008820</td>\n",
       "      <td>4.384100</td>\n",
       "      <td>-1.576880</td>\n",
       "    </tr>\n",
       "    <tr>\n",
       "      <th>186</th>\n",
       "      <td>-0.728159</td>\n",
       "      <td>-0.914028</td>\n",
       "      <td>-0.350815</td>\n",
       "      <td>-0.655957</td>\n",
       "      <td>-1.968228</td>\n",
       "      <td>4.730323</td>\n",
       "      <td>-1.731435</td>\n",
       "    </tr>\n",
       "    <tr>\n",
       "      <th>187</th>\n",
       "      <td>-0.756124</td>\n",
       "      <td>-0.628891</td>\n",
       "      <td>-0.673335</td>\n",
       "      <td>-0.558619</td>\n",
       "      <td>-1.467763</td>\n",
       "      <td>4.884330</td>\n",
       "      <td>-1.321957</td>\n",
       "    </tr>\n",
       "    <tr>\n",
       "      <th>188</th>\n",
       "      <td>-0.862277</td>\n",
       "      <td>-0.567812</td>\n",
       "      <td>-0.862533</td>\n",
       "      <td>-0.391267</td>\n",
       "      <td>-1.391773</td>\n",
       "      <td>5.191476</td>\n",
       "      <td>-1.468199</td>\n",
       "    </tr>\n",
       "  </tbody>\n",
       "</table>\n",
       "<p>189 rows × 7 columns</p>\n",
       "</div>"
      ],
      "text/plain": [
       "            0         1         2         3         4         5         6\n",
       "0   -0.553677 -0.676291  1.641158  0.133679  0.891150 -0.292006 -1.121255\n",
       "1   -0.688195 -0.919342  1.173049 -0.064599  0.434606 -0.036350 -0.224672\n",
       "2   -0.688801  0.112706  1.159383 -0.011977  2.000643 -0.044693 -1.909550\n",
       "3   -0.665106 -0.223302  1.008195  0.175019  1.561074  0.518926 -0.260476\n",
       "4   -0.600599 -0.481172  1.432586  0.223119  1.141321  0.268561 -0.572235\n",
       "..        ...       ...       ...       ...       ...       ...       ...\n",
       "184 -0.412392 -1.313760  0.245709 -0.785470 -2.366863  3.797869 -2.098254\n",
       "185 -0.658449 -1.139725 -0.305686 -0.714935 -2.008820  4.384100 -1.576880\n",
       "186 -0.728159 -0.914028 -0.350815 -0.655957 -1.968228  4.730323 -1.731435\n",
       "187 -0.756124 -0.628891 -0.673335 -0.558619 -1.467763  4.884330 -1.321957\n",
       "188 -0.862277 -0.567812 -0.862533 -0.391267 -1.391773  5.191476 -1.468199\n",
       "\n",
       "[189 rows x 7 columns]"
      ]
     },
     "execution_count": 37,
     "metadata": {},
     "output_type": "execute_result"
    }
   ],
   "source": [
    "print('Data reducida, shape:', data_reduced.shape)\n",
    "pd.DataFrame(data_reduced)"
   ]
  },
  {
   "cell_type": "code",
   "execution_count": 19,
   "metadata": {},
   "outputs": [
    {
     "data": {
      "application/vnd.plotly.v1+json": {
       "config": {
        "linkText": "Export to plot.ly",
        "plotlyServerURL": "https://plot.ly",
        "showLink": false
       },
       "data": [
        {
         "marker": {
          "size": 5
         },
         "mode": "markers",
         "name": "cerebellum",
         "type": "scatter3d",
         "x": [
          1.355011994083587,
          1.3149691148717135,
          1.5427060526201721,
          1.570125311913703,
          1.4043230132467377,
          1.427576787588135,
          1.5462407226257455,
          1.3583151592281497,
          1.5029754796747659,
          1.3647417620225615,
          1.450052040214887,
          1.4924746760093304,
          1.391834738519418,
          1.536192239513637,
          1.5239175443366642,
          1.4823894401423057,
          1.5065355049496656,
          1.6085790713261474,
          1.4502874740195928,
          1.5321992393777504,
          1.329362505757647,
          1.386208656023163,
          1.3408806134129332,
          1.5535530794431953,
          1.4332556721137937,
          1.5127513141396784,
          1.4612282485842831,
          1.0884279639962087,
          0.4948137130887639,
          0.4503490547726078,
          0.403558409867759,
          0.8824418375219427,
          0.8242055134816274,
          0.6735641797859786,
          0.6159550050704671,
          1.4774525304002393,
          1.3209116522166793,
          1.652787925166354
         ],
         "y": [
          0.32814143954449604,
          0.3752835194131693,
          0.2728480842396148,
          0.2965737296462478,
          0.30518746117242807,
          0.33858958053921456,
          0.26111851129089125,
          0.30957213181593507,
          0.30346535882987574,
          0.4543894628915678,
          0.34261665007835296,
          0.24415680364064385,
          0.287189243338216,
          0.33941262733009026,
          0.2973714837095838,
          0.2839257144898518,
          0.3186564164521285,
          0.25660644900799756,
          0.36034799460269873,
          0.3139101428551269,
          0.38541668776814036,
          0.3042461703572207,
          0.4055329502672465,
          0.274914861689225,
          0.3673602474992463,
          0.31829853500587496,
          0.3042541971898968,
          0.5725331173421504,
          1.0133949928870318,
          0.969166873926715,
          -0.17595109330802886,
          -0.1011673312317596,
          -0.3105942301008266,
          -0.32847174872002405,
          -0.25213093275322973,
          0.2821570539251291,
          -0.0111968361003553,
          0.20122221223537035
         ],
         "z": [
          -0.8772278580354161,
          -0.8192243200463027,
          -0.5684669038828879,
          -0.4013554583564394,
          -0.7458089208373897,
          -0.6834344450245311,
          -0.6586318351864106,
          -0.6355558220171594,
          -0.2723636364283362,
          -0.48861957639176484,
          -0.5016142884800782,
          -0.3697264650608827,
          -0.890858932531875,
          -0.3239125520861297,
          -0.5312886031652817,
          -0.6086462148174477,
          -0.8090387657313489,
          -0.42813195263131726,
          -0.6836989596485178,
          -0.605727972853336,
          -0.4880007383204615,
          -0.42068881521101537,
          -0.8185945629515419,
          -0.5684339310365433,
          -0.8013962965652078,
          -0.5262167846344327,
          -0.4167415548115252,
          -0.9642803020041348,
          -2.102545318887176,
          -2.120302167739295,
          0.9641677365438228,
          1.038651894721689,
          1.6113644768732514,
          1.445603231443064,
          1.2244871352483977,
          -0.09603343917935717,
          0.7778505917513975,
          0.16863130175410007
         ]
        },
        {
         "marker": {
          "size": 5
         },
         "mode": "markers",
         "name": "colon",
         "type": "scatter3d",
         "x": [
          -0.7839039673620989,
          -0.6707020354381948,
          -0.6691752431380324,
          -0.6816177881145178,
          -0.7228742217611994,
          -0.6181954329436884,
          -0.6126248616873262,
          -0.5760736522284975,
          -0.5246947098551743,
          -0.5895810613352455,
          -0.6769582368294591,
          -0.651245369901977,
          -0.5883580547437537,
          -0.5831262364631031,
          -0.6234828014078343,
          -0.5670246555479178,
          -0.6031151618757673,
          -0.5615585102019601,
          -0.5782271938656377,
          -0.5509613780801129,
          -0.5856813790115447,
          -0.5254328703098697,
          -0.6260058628394741,
          -0.6485880741393114,
          -0.5989997517495843,
          -0.6064714095692536,
          -0.710518208150369,
          -0.7348073571567324,
          -0.5917427320058166,
          -0.6938466399287135,
          -0.6316329938313657,
          -0.5642099382177322,
          -0.5962215049626114,
          -0.5740949600296475
         ],
         "y": [
          -1.2106259122809695,
          -1.2237616500391844,
          -1.3122434560263765,
          -1.064585074945378,
          -1.2837009525060619,
          -1.0549225022601232,
          -1.2881104903422367,
          -1.2397929384968949,
          -1.0657014823085051,
          -1.3537495930243628,
          -1.2740437621373464,
          -1.1676304096946923,
          -1.282929587394784,
          -0.8781348175918803,
          -0.961279987538851,
          -1.227033523719272,
          -1.2261283009832784,
          -1.251479802658065,
          -1.2833622124411252,
          -0.7212335721111007,
          -1.4000034066073046,
          -1.2731341067584185,
          -1.064507528631691,
          -1.2802950621658105,
          -0.798645378455959,
          -1.1518133433473239,
          -1.208551628156878,
          -1.1693622863588589,
          -1.180483930078048,
          -1.1928355004996682,
          -1.1036404950506102,
          -1.0105429777713846,
          -1.031291213806652,
          -0.9675466010906324
         ],
         "z": [
          -1.114657014325191,
          -1.1047625743194278,
          -0.9330463831133154,
          -1.162572025139125,
          -0.8073528739544159,
          -0.9131441949552643,
          -1.1580239109923036,
          -1.5456068959585274,
          -1.8338371261396031,
          -1.103485628146077,
          -1.4778959763945483,
          -1.1442957786364523,
          -1.5257892620662146,
          -1.7843323204998247,
          -1.4425468942958368,
          -1.055919066322396,
          -1.3960127451438809,
          -1.272758671103158,
          -1.4517877613494365,
          -1.845577761534724,
          -1.1561181482725262,
          -1.0619807313684182,
          -1.335014410660609,
          -0.9730337779148567,
          -1.3320477722895203,
          -1.3816830754228917,
          -1.1670419480827765,
          -1.310433002451224,
          -1.5469523175981488,
          -0.8700789360048506,
          -1.4263193476865506,
          -1.2951924825317902,
          -1.1520231780751988,
          -1.4233739991858054
         ]
        },
        {
         "marker": {
          "size": 5
         },
         "mode": "markers",
         "name": "endometrium",
         "type": "scatter3d",
         "x": [
          -0.5015990775311889,
          -0.19575507074156948,
          -0.49069445040609316,
          -0.467988359798827,
          -0.5148704477018763,
          -0.3333147083139774,
          -0.4387649133955874,
          -0.4848451081284401,
          -0.25650799473117986,
          -0.26018069993448356,
          -0.2426524945438818,
          -0.12325948592006616,
          -0.2092248800310625,
          -0.46445038936411365,
          -0.41076107741644247
         ],
         "y": [
          -0.8547286252378684,
          -0.6366708710109152,
          -1.0093587478302148,
          -0.906510343583318,
          -0.9170427735025761,
          -1.0458439231905345,
          -0.7816136347106549,
          -0.787388565918785,
          -0.887405017072128,
          -0.8062879603228603,
          -0.6085443607351539,
          -0.8941372893520255,
          -0.6678134779897577,
          -0.8030069829625284,
          -0.8835831385968372
         ],
         "z": [
          0.24342059514925674,
          0.7282914332210172,
          0.3566698217663277,
          -0.05462365164520132,
          0.2581974162363736,
          0.5243285936542926,
          -0.1231684362147447,
          0.029923320287258023,
          1.1787753400550287,
          1.088091357455928,
          0.5024714976498015,
          1.3286404668351297,
          1.1311629816445588,
          0.9357039431097325,
          1.083336353439632
         ]
        },
        {
         "marker": {
          "size": 5
         },
         "mode": "markers",
         "name": "hippocampus",
         "type": "scatter3d",
         "x": [
          1.0140638866648035,
          1.2626307435847308,
          0.7547139503958953,
          1.1943645032725552,
          0.7540381852982921,
          1.1278226815936725,
          1.0694909695143417,
          1.3147170632177876,
          0.9713325250196191,
          0.8639280873777816,
          1.4408991740572348,
          1.4345011367821139,
          1.4552986613037746,
          1.470316584335254,
          1.5638173045159889,
          1.1561406109184067,
          1.2989712366996258,
          1.4103182253712796,
          1.267714621353281,
          1.297381738161784,
          1.2508366773430442,
          1.2602663599130772,
          1.0766786576309944,
          1.2171577538132017,
          1.1951672756462193,
          1.2961083281435546,
          0.987845078168513,
          1.0884383027681284,
          1.1754194744873891,
          1.2392443674570917,
          1.1942575382057983
         ],
         "y": [
          0.2576605555122831,
          0.30399254928918495,
          0.7064752208062436,
          0.10191642924270972,
          0.532267106235756,
          0.383201151752668,
          0.4116652862001389,
          0.3732445574951917,
          0.2927856783935109,
          0.3641141425869963,
          0.3793694866930051,
          0.279453478792559,
          0.3225372768956281,
          0.3504121764465503,
          0.26121576993631224,
          0.23419523105599468,
          0.28924154691536885,
          0.3389858987390162,
          0.27078909138284185,
          0.3324889739790915,
          0.14376217305007424,
          0.2090360956459182,
          0.2789539305909884,
          0.2493351248473477,
          0.22166598949207605,
          0.2032967258011568,
          0.23193174604965947,
          0.292870433560988,
          0.3867759364368719,
          0.3571936717144712,
          0.3253661601956773
         ],
         "z": [
          0.20189875216638956,
          0.1743207650662388,
          -0.7829649961301551,
          0.8637257345388379,
          -0.8235503983999682,
          0.11112268799399089,
          0.06589630299938265,
          0.46110654348442154,
          0.24064020572583927,
          -0.032847647287841085,
          0.22999185702773633,
          0.48409765508225694,
          0.5743379557027689,
          0.42087126120988044,
          0.6424390878552217,
          0.4983817446145229,
          0.6246935435198128,
          0.49044177596638755,
          0.6685603691532986,
          0.716489920554055,
          1.160905208004032,
          0.7288195832292019,
          0.20218277395403328,
          0.630215333838688,
          0.80558110409897,
          0.7460984919020295,
          0.5108387702818608,
          0.5216246237966689,
          0.3037102123333313,
          0.17685430732154706,
          -0.01122113539473749
         ]
        },
        {
         "marker": {
          "size": 5
         },
         "mode": "markers",
         "name": "kidney",
         "type": "scatter3d",
         "x": [
          -0.5536770924327143,
          -0.6881950989432151,
          -0.6888007531181636,
          -0.6651059194827839,
          -0.6005985735491234,
          -0.6701648373002458,
          -0.5421945552052269,
          -0.7097247908884088,
          -0.5388081633087185,
          -0.7080454390035295,
          -0.6535316443273318,
          -0.6594784985614204,
          -0.6865961869776273,
          -0.7174374554750337,
          -0.5989365338194031,
          -0.681102114031526,
          -0.555018773178262,
          -0.5678065621361266,
          -0.5433159467101747,
          -0.5307265389027536,
          -0.5204847336523648,
          -0.560081534177529,
          -0.4701241575744581,
          -0.6887251176848473,
          -0.5623559805142019,
          -0.4410611451575902,
          -0.4410551684786598,
          -0.6789364527678021,
          -0.6742877166956821,
          -0.4749012394378939,
          -0.48218173991667207,
          -0.5081349493133506,
          -0.4644894099708087,
          -0.47675988730576785,
          -0.4573609782782627,
          -0.4905782354754522,
          -0.6724162612105202,
          -0.694979527145473,
          -0.6999891955989634
         ],
         "y": [
          -0.6762913861638065,
          -0.919342224607266,
          0.11270634220651674,
          -0.22330160960955336,
          -0.48117178742789246,
          0.1664325404930697,
          -0.2842784428939539,
          0.08377059914873429,
          -0.6767331948830241,
          0.06079333437322551,
          -0.5856330182317289,
          0.21969415583780866,
          -0.4827531833537271,
          0.11522805598907168,
          -0.47124114928302513,
          -0.11507595669964728,
          -0.19716011979115772,
          -0.9137372530375455,
          -0.9039820598649396,
          -0.13322454698591224,
          -0.7988739446039698,
          -0.8535416572025363,
          -0.8604226351985529,
          -0.5905448403481751,
          0.038620153686398075,
          -0.8374275764808201,
          -0.9312560958078038,
          -0.6799321225183522,
          -0.6203303013362192,
          -0.42851807613270615,
          -0.4291121829782768,
          -0.05522580467431653,
          -0.617165696074897,
          -0.5623679155106291,
          -0.6605801733738209,
          -0.2688346671905568,
          -0.028006500681982068,
          0.9958654676005518,
          0.8695560890809844
         ],
         "z": [
          1.6411582727871339,
          1.1730486128421747,
          1.1593829209857374,
          1.00819479044129,
          1.4325859790945297,
          0.948422069526681,
          0.4796826596622351,
          1.2180392471967643,
          1.5086455064018913,
          1.1781440657439202,
          1.4250297797462224,
          0.8457107400766031,
          1.3353311516577235,
          1.212595847087323,
          1.1923267098659833,
          1.4181906757253777,
          1.5790870980927811,
          1.9174324807200933,
          1.6608942638233046,
          1.1237875273854059,
          1.7512472903096266,
          2.077634685777519,
          2.1188663990210217,
          1.3132729048323344,
          1.2188900150665258,
          2.0168004765329544,
          2.198440463496719,
          1.466395374254367,
          0.6915671362968726,
          0.5893249536541676,
          0.5361275822588855,
          -0.39236538360683176,
          1.0629558513353246,
          0.9343679980352569,
          1.1973411283169815,
          0.13059169757000905,
          0.26324562900886134,
          -1.6159270411399753,
          -1.1494144055583333
         ]
        },
        {
         "marker": {
          "size": 5
         },
         "mode": "markers",
         "name": "liver",
         "type": "scatter3d",
         "x": [
          -1.1528079475610375,
          -1.161600981697713,
          -1.148454437267562,
          -1.2074440413322491,
          -1.3085240563362623,
          -1.2234040727301692,
          -1.1414480206472284,
          -1.1373601084161489,
          -1.178816507212754,
          -1.2060922495684314,
          -1.1711464820369535,
          -1.3221307273887497,
          -1.0160468492574442,
          -1.0810138609280855,
          -1.4287761962970065,
          -1.3625242236719433,
          -1.350163067359462,
          -1.395425901204041,
          -1.4287761962970065,
          -1.350163067359462,
          -1.395425901204041,
          -1.3625242236719433,
          -1.3089942740018812,
          -1.3505506007386223,
          -1.3261179717788298,
          -1.3969738909470208
         ],
         "y": [
          1.6652814252408066,
          1.7336208491456777,
          1.6627404588674946,
          1.4375502270236657,
          1.7353955690247516,
          1.4270087654170245,
          1.7503459359404674,
          1.6979038152054928,
          1.9327844079544076,
          1.5978464009078337,
          1.9874897287477948,
          2.0278825238845326,
          2.0131266075527625,
          2.1180062521709226,
          2.134580115736782,
          2.267368360139262,
          2.006304824821388,
          2.1560678501326374,
          2.134580115736782,
          2.006304824821388,
          2.1560678501326374,
          2.267368360139262,
          2.196969860900216,
          2.24912555837456,
          2.448238393995241,
          2.3591129862935056
         ],
         "z": [
          -0.39320009509599224,
          -0.5788358729876425,
          -0.46634106044618306,
          0.5639877410732286,
          -0.005689857713088713,
          0.6565693264551329,
          -0.47382783471149104,
          0.5755739600472034,
          -0.043332302247032564,
          0.6364267037164613,
          -0.49241044734088024,
          -0.058927776677374324,
          -2.066137791467695,
          -2.044522168073592,
          -0.03535767806562002,
          -0.009642743882169626,
          -0.09265608011358116,
          0.4267629592758193,
          -0.03535767806562002,
          -0.09265608011358116,
          0.4267629592758193,
          -0.009642743882169626,
          0.15893677277600382,
          0.13477282018741127,
          -0.3230532144185536,
          -0.027990204888324394
         ]
        },
        {
         "marker": {
          "size": 5
         },
         "mode": "markers",
         "name": "placenta",
         "type": "scatter3d",
         "x": [
          -0.5021371059527342,
          -0.41239225423809417,
          -0.6584491387326344,
          -0.7281590428940571,
          -0.7561239731355339,
          -0.862277251927697
         ],
         "y": [
          -1.4829658736658047,
          -1.3137603643888092,
          -1.1397246924499465,
          -0.9140278374479094,
          -0.6288905945896476,
          -0.5678122504422766
         ],
         "z": [
          0.4334208373982842,
          0.24570860187305507,
          -0.3056863752711856,
          -0.3508145961574626,
          -0.6733349515630676,
          -0.8625326919219549
         ]
        }
       ],
       "layout": {
        "height": 600,
        "scene": {
         "xaxis": {
          "title": {
           "text": "comp 0"
          }
         },
         "yaxis": {
          "title": {
           "text": "comp 1"
          }
         },
         "zaxis": {
          "title": {
           "text": "comp 2"
          }
         }
        },
        "template": {
         "data": {
          "bar": [
           {
            "error_x": {
             "color": "#2a3f5f"
            },
            "error_y": {
             "color": "#2a3f5f"
            },
            "marker": {
             "line": {
              "color": "#E5ECF6",
              "width": 0.5
             },
             "pattern": {
              "fillmode": "overlay",
              "size": 10,
              "solidity": 0.2
             }
            },
            "type": "bar"
           }
          ],
          "barpolar": [
           {
            "marker": {
             "line": {
              "color": "#E5ECF6",
              "width": 0.5
             },
             "pattern": {
              "fillmode": "overlay",
              "size": 10,
              "solidity": 0.2
             }
            },
            "type": "barpolar"
           }
          ],
          "carpet": [
           {
            "aaxis": {
             "endlinecolor": "#2a3f5f",
             "gridcolor": "white",
             "linecolor": "white",
             "minorgridcolor": "white",
             "startlinecolor": "#2a3f5f"
            },
            "baxis": {
             "endlinecolor": "#2a3f5f",
             "gridcolor": "white",
             "linecolor": "white",
             "minorgridcolor": "white",
             "startlinecolor": "#2a3f5f"
            },
            "type": "carpet"
           }
          ],
          "choropleth": [
           {
            "colorbar": {
             "outlinewidth": 0,
             "ticks": ""
            },
            "type": "choropleth"
           }
          ],
          "contour": [
           {
            "colorbar": {
             "outlinewidth": 0,
             "ticks": ""
            },
            "colorscale": [
             [
              0,
              "#0d0887"
             ],
             [
              0.1111111111111111,
              "#46039f"
             ],
             [
              0.2222222222222222,
              "#7201a8"
             ],
             [
              0.3333333333333333,
              "#9c179e"
             ],
             [
              0.4444444444444444,
              "#bd3786"
             ],
             [
              0.5555555555555556,
              "#d8576b"
             ],
             [
              0.6666666666666666,
              "#ed7953"
             ],
             [
              0.7777777777777778,
              "#fb9f3a"
             ],
             [
              0.8888888888888888,
              "#fdca26"
             ],
             [
              1,
              "#f0f921"
             ]
            ],
            "type": "contour"
           }
          ],
          "contourcarpet": [
           {
            "colorbar": {
             "outlinewidth": 0,
             "ticks": ""
            },
            "type": "contourcarpet"
           }
          ],
          "heatmap": [
           {
            "colorbar": {
             "outlinewidth": 0,
             "ticks": ""
            },
            "colorscale": [
             [
              0,
              "#0d0887"
             ],
             [
              0.1111111111111111,
              "#46039f"
             ],
             [
              0.2222222222222222,
              "#7201a8"
             ],
             [
              0.3333333333333333,
              "#9c179e"
             ],
             [
              0.4444444444444444,
              "#bd3786"
             ],
             [
              0.5555555555555556,
              "#d8576b"
             ],
             [
              0.6666666666666666,
              "#ed7953"
             ],
             [
              0.7777777777777778,
              "#fb9f3a"
             ],
             [
              0.8888888888888888,
              "#fdca26"
             ],
             [
              1,
              "#f0f921"
             ]
            ],
            "type": "heatmap"
           }
          ],
          "heatmapgl": [
           {
            "colorbar": {
             "outlinewidth": 0,
             "ticks": ""
            },
            "colorscale": [
             [
              0,
              "#0d0887"
             ],
             [
              0.1111111111111111,
              "#46039f"
             ],
             [
              0.2222222222222222,
              "#7201a8"
             ],
             [
              0.3333333333333333,
              "#9c179e"
             ],
             [
              0.4444444444444444,
              "#bd3786"
             ],
             [
              0.5555555555555556,
              "#d8576b"
             ],
             [
              0.6666666666666666,
              "#ed7953"
             ],
             [
              0.7777777777777778,
              "#fb9f3a"
             ],
             [
              0.8888888888888888,
              "#fdca26"
             ],
             [
              1,
              "#f0f921"
             ]
            ],
            "type": "heatmapgl"
           }
          ],
          "histogram": [
           {
            "marker": {
             "pattern": {
              "fillmode": "overlay",
              "size": 10,
              "solidity": 0.2
             }
            },
            "type": "histogram"
           }
          ],
          "histogram2d": [
           {
            "colorbar": {
             "outlinewidth": 0,
             "ticks": ""
            },
            "colorscale": [
             [
              0,
              "#0d0887"
             ],
             [
              0.1111111111111111,
              "#46039f"
             ],
             [
              0.2222222222222222,
              "#7201a8"
             ],
             [
              0.3333333333333333,
              "#9c179e"
             ],
             [
              0.4444444444444444,
              "#bd3786"
             ],
             [
              0.5555555555555556,
              "#d8576b"
             ],
             [
              0.6666666666666666,
              "#ed7953"
             ],
             [
              0.7777777777777778,
              "#fb9f3a"
             ],
             [
              0.8888888888888888,
              "#fdca26"
             ],
             [
              1,
              "#f0f921"
             ]
            ],
            "type": "histogram2d"
           }
          ],
          "histogram2dcontour": [
           {
            "colorbar": {
             "outlinewidth": 0,
             "ticks": ""
            },
            "colorscale": [
             [
              0,
              "#0d0887"
             ],
             [
              0.1111111111111111,
              "#46039f"
             ],
             [
              0.2222222222222222,
              "#7201a8"
             ],
             [
              0.3333333333333333,
              "#9c179e"
             ],
             [
              0.4444444444444444,
              "#bd3786"
             ],
             [
              0.5555555555555556,
              "#d8576b"
             ],
             [
              0.6666666666666666,
              "#ed7953"
             ],
             [
              0.7777777777777778,
              "#fb9f3a"
             ],
             [
              0.8888888888888888,
              "#fdca26"
             ],
             [
              1,
              "#f0f921"
             ]
            ],
            "type": "histogram2dcontour"
           }
          ],
          "mesh3d": [
           {
            "colorbar": {
             "outlinewidth": 0,
             "ticks": ""
            },
            "type": "mesh3d"
           }
          ],
          "parcoords": [
           {
            "line": {
             "colorbar": {
              "outlinewidth": 0,
              "ticks": ""
             }
            },
            "type": "parcoords"
           }
          ],
          "pie": [
           {
            "automargin": true,
            "type": "pie"
           }
          ],
          "scatter": [
           {
            "marker": {
             "colorbar": {
              "outlinewidth": 0,
              "ticks": ""
             }
            },
            "type": "scatter"
           }
          ],
          "scatter3d": [
           {
            "line": {
             "colorbar": {
              "outlinewidth": 0,
              "ticks": ""
             }
            },
            "marker": {
             "colorbar": {
              "outlinewidth": 0,
              "ticks": ""
             }
            },
            "type": "scatter3d"
           }
          ],
          "scattercarpet": [
           {
            "marker": {
             "colorbar": {
              "outlinewidth": 0,
              "ticks": ""
             }
            },
            "type": "scattercarpet"
           }
          ],
          "scattergeo": [
           {
            "marker": {
             "colorbar": {
              "outlinewidth": 0,
              "ticks": ""
             }
            },
            "type": "scattergeo"
           }
          ],
          "scattergl": [
           {
            "marker": {
             "colorbar": {
              "outlinewidth": 0,
              "ticks": ""
             }
            },
            "type": "scattergl"
           }
          ],
          "scattermapbox": [
           {
            "marker": {
             "colorbar": {
              "outlinewidth": 0,
              "ticks": ""
             }
            },
            "type": "scattermapbox"
           }
          ],
          "scatterpolar": [
           {
            "marker": {
             "colorbar": {
              "outlinewidth": 0,
              "ticks": ""
             }
            },
            "type": "scatterpolar"
           }
          ],
          "scatterpolargl": [
           {
            "marker": {
             "colorbar": {
              "outlinewidth": 0,
              "ticks": ""
             }
            },
            "type": "scatterpolargl"
           }
          ],
          "scatterternary": [
           {
            "marker": {
             "colorbar": {
              "outlinewidth": 0,
              "ticks": ""
             }
            },
            "type": "scatterternary"
           }
          ],
          "surface": [
           {
            "colorbar": {
             "outlinewidth": 0,
             "ticks": ""
            },
            "colorscale": [
             [
              0,
              "#0d0887"
             ],
             [
              0.1111111111111111,
              "#46039f"
             ],
             [
              0.2222222222222222,
              "#7201a8"
             ],
             [
              0.3333333333333333,
              "#9c179e"
             ],
             [
              0.4444444444444444,
              "#bd3786"
             ],
             [
              0.5555555555555556,
              "#d8576b"
             ],
             [
              0.6666666666666666,
              "#ed7953"
             ],
             [
              0.7777777777777778,
              "#fb9f3a"
             ],
             [
              0.8888888888888888,
              "#fdca26"
             ],
             [
              1,
              "#f0f921"
             ]
            ],
            "type": "surface"
           }
          ],
          "table": [
           {
            "cells": {
             "fill": {
              "color": "#EBF0F8"
             },
             "line": {
              "color": "white"
             }
            },
            "header": {
             "fill": {
              "color": "#C8D4E3"
             },
             "line": {
              "color": "white"
             }
            },
            "type": "table"
           }
          ]
         },
         "layout": {
          "annotationdefaults": {
           "arrowcolor": "#2a3f5f",
           "arrowhead": 0,
           "arrowwidth": 1
          },
          "autotypenumbers": "strict",
          "coloraxis": {
           "colorbar": {
            "outlinewidth": 0,
            "ticks": ""
           }
          },
          "colorscale": {
           "diverging": [
            [
             0,
             "#8e0152"
            ],
            [
             0.1,
             "#c51b7d"
            ],
            [
             0.2,
             "#de77ae"
            ],
            [
             0.3,
             "#f1b6da"
            ],
            [
             0.4,
             "#fde0ef"
            ],
            [
             0.5,
             "#f7f7f7"
            ],
            [
             0.6,
             "#e6f5d0"
            ],
            [
             0.7,
             "#b8e186"
            ],
            [
             0.8,
             "#7fbc41"
            ],
            [
             0.9,
             "#4d9221"
            ],
            [
             1,
             "#276419"
            ]
           ],
           "sequential": [
            [
             0,
             "#0d0887"
            ],
            [
             0.1111111111111111,
             "#46039f"
            ],
            [
             0.2222222222222222,
             "#7201a8"
            ],
            [
             0.3333333333333333,
             "#9c179e"
            ],
            [
             0.4444444444444444,
             "#bd3786"
            ],
            [
             0.5555555555555556,
             "#d8576b"
            ],
            [
             0.6666666666666666,
             "#ed7953"
            ],
            [
             0.7777777777777778,
             "#fb9f3a"
            ],
            [
             0.8888888888888888,
             "#fdca26"
            ],
            [
             1,
             "#f0f921"
            ]
           ],
           "sequentialminus": [
            [
             0,
             "#0d0887"
            ],
            [
             0.1111111111111111,
             "#46039f"
            ],
            [
             0.2222222222222222,
             "#7201a8"
            ],
            [
             0.3333333333333333,
             "#9c179e"
            ],
            [
             0.4444444444444444,
             "#bd3786"
            ],
            [
             0.5555555555555556,
             "#d8576b"
            ],
            [
             0.6666666666666666,
             "#ed7953"
            ],
            [
             0.7777777777777778,
             "#fb9f3a"
            ],
            [
             0.8888888888888888,
             "#fdca26"
            ],
            [
             1,
             "#f0f921"
            ]
           ]
          },
          "colorway": [
           "#636efa",
           "#EF553B",
           "#00cc96",
           "#ab63fa",
           "#FFA15A",
           "#19d3f3",
           "#FF6692",
           "#B6E880",
           "#FF97FF",
           "#FECB52"
          ],
          "font": {
           "color": "#2a3f5f"
          },
          "geo": {
           "bgcolor": "white",
           "lakecolor": "white",
           "landcolor": "#E5ECF6",
           "showlakes": true,
           "showland": true,
           "subunitcolor": "white"
          },
          "hoverlabel": {
           "align": "left"
          },
          "hovermode": "closest",
          "mapbox": {
           "style": "light"
          },
          "paper_bgcolor": "white",
          "plot_bgcolor": "#E5ECF6",
          "polar": {
           "angularaxis": {
            "gridcolor": "white",
            "linecolor": "white",
            "ticks": ""
           },
           "bgcolor": "#E5ECF6",
           "radialaxis": {
            "gridcolor": "white",
            "linecolor": "white",
            "ticks": ""
           }
          },
          "scene": {
           "xaxis": {
            "backgroundcolor": "#E5ECF6",
            "gridcolor": "white",
            "gridwidth": 2,
            "linecolor": "white",
            "showbackground": true,
            "ticks": "",
            "zerolinecolor": "white"
           },
           "yaxis": {
            "backgroundcolor": "#E5ECF6",
            "gridcolor": "white",
            "gridwidth": 2,
            "linecolor": "white",
            "showbackground": true,
            "ticks": "",
            "zerolinecolor": "white"
           },
           "zaxis": {
            "backgroundcolor": "#E5ECF6",
            "gridcolor": "white",
            "gridwidth": 2,
            "linecolor": "white",
            "showbackground": true,
            "ticks": "",
            "zerolinecolor": "white"
           }
          },
          "shapedefaults": {
           "line": {
            "color": "#2a3f5f"
           }
          },
          "ternary": {
           "aaxis": {
            "gridcolor": "white",
            "linecolor": "white",
            "ticks": ""
           },
           "baxis": {
            "gridcolor": "white",
            "linecolor": "white",
            "ticks": ""
           },
           "bgcolor": "#E5ECF6",
           "caxis": {
            "gridcolor": "white",
            "linecolor": "white",
            "ticks": ""
           }
          },
          "title": {
           "x": 0.05
          },
          "xaxis": {
           "automargin": true,
           "gridcolor": "white",
           "linecolor": "white",
           "ticks": "",
           "title": {
            "standoff": 15
           },
           "zerolinecolor": "white",
           "zerolinewidth": 2
          },
          "yaxis": {
           "automargin": true,
           "gridcolor": "white",
           "linecolor": "white",
           "ticks": "",
           "title": {
            "standoff": 15
           },
           "zerolinecolor": "white",
           "zerolinewidth": 2
          }
         }
        },
        "title": {
         "text": "Clusters originales de Tejidos"
        },
        "width": 700
       }
      }
     },
     "metadata": {},
     "output_type": "display_data"
    }
   ],
   "source": [
    "plot_3d(data_reduced, targets, 'Clusters originales de Tejidos')\n"
   ]
  },
  {
   "cell_type": "markdown",
   "metadata": {},
   "source": [
    "## Análisis cantidad de clusters - Método del codo"
   ]
  },
  {
   "cell_type": "code",
   "execution_count": 20,
   "metadata": {},
   "outputs": [
    {
     "data": {
      "image/png": "[encoded data removed]",
      "text/plain": [
       "<Figure size 432x288 with 1 Axes>"
      ]
     },
     "metadata": {
      "needs_background": "light"
     },
     "output_type": "display_data"
    }
   ],
   "source": [
    "from sklearn.cluster import KMeans\n",
    "\n",
    "clusters = range(1,20)\n",
    "distortions = []\n",
    "for c in clusters:\n",
    "    kmeanModel = KMeans(init=\"k-means++\", n_clusters=c, n_init=10, random_state=0)\n",
    "    kmeanModel.fit(data_reduced)\n",
    "    # Distortion: It is calculated as the average of the squared distances\n",
    "    # from the cluster centers of the respective clusters. Typically, the\n",
    "    # Euclidean distance metric is used.\n",
    "    distortions.append(sum(np.min(cdist(data_reduced, kmeanModel.cluster_centers_, 'euclidean'), axis=1)) / data_reduced.shape[0])\n",
    "\n",
    "plot_elbow_method(clusters, distortions, 7)\n"
   ]
  },
  {
   "cell_type": "markdown",
   "metadata": {},
   "source": [
    "## Agglomerative Hierarchical Clustering"
   ]
  },
  {
   "cell_type": "code",
   "execution_count": 21,
   "metadata": {},
   "outputs": [
    {
     "name": "stdout",
     "output_type": "stream",
     "text": [
      "Número de clusters: 7\n"
     ]
    },
    {
     "data": {
      "image/png": "[encoded data removed]",
      "text/plain": [
       "<Figure size 2880x720 with 1 Axes>"
      ]
     },
     "metadata": {
      "needs_background": "light"
     },
     "output_type": "display_data"
    }
   ],
   "source": [
    "# Agglomerative Hierarchical Clustering\n",
    "from sklearn.cluster import AgglomerativeClustering\n",
    "distance_threshold=16\n",
    "model = AgglomerativeClustering(distance_threshold=distance_threshold, n_clusters=None)\n",
    "model = model.fit(data_reduced)\n",
    "print('Número de clusters:', model.n_clusters_)\n",
    "\n",
    "# Ploteando el dendrograma que ilustra cómo está compuesto cada cluster\n",
    "plot_dendrogram(model, distance_threshold, labels=targets)"
   ]
  },
  {
   "cell_type": "code",
   "execution_count": 22,
   "metadata": {},
   "outputs": [
    {
     "data": {
      "text/html": [
       "<div>\n",
       "<style scoped>\n",
       "    .dataframe tbody tr th:only-of-type {\n",
       "        vertical-align: middle;\n",
       "    }\n",
       "\n",
       "    .dataframe tbody tr th {\n",
       "        vertical-align: top;\n",
       "    }\n",
       "\n",
       "    .dataframe thead th {\n",
       "        text-align: right;\n",
       "    }\n",
       "</style>\n",
       "<table border=\"1\" class=\"dataframe\">\n",
       "  <thead>\n",
       "    <tr style=\"text-align: right;\">\n",
       "      <th>cluster</th>\n",
       "      <th>0</th>\n",
       "      <th>1</th>\n",
       "      <th>2</th>\n",
       "      <th>3</th>\n",
       "      <th>4</th>\n",
       "      <th>5</th>\n",
       "      <th>6</th>\n",
       "      <th>All</th>\n",
       "    </tr>\n",
       "    <tr>\n",
       "      <th>target</th>\n",
       "      <th></th>\n",
       "      <th></th>\n",
       "      <th></th>\n",
       "      <th></th>\n",
       "      <th></th>\n",
       "      <th></th>\n",
       "      <th></th>\n",
       "      <th></th>\n",
       "    </tr>\n",
       "  </thead>\n",
       "  <tbody>\n",
       "    <tr>\n",
       "      <th>cerebellum</th>\n",
       "      <td>2</td>\n",
       "      <td>0</td>\n",
       "      <td>5</td>\n",
       "      <td>0</td>\n",
       "      <td>0</td>\n",
       "      <td>31</td>\n",
       "      <td>0</td>\n",
       "      <td>38</td>\n",
       "    </tr>\n",
       "    <tr>\n",
       "      <th>colon</th>\n",
       "      <td>0</td>\n",
       "      <td>0</td>\n",
       "      <td>0</td>\n",
       "      <td>0</td>\n",
       "      <td>0</td>\n",
       "      <td>0</td>\n",
       "      <td>34</td>\n",
       "      <td>34</td>\n",
       "    </tr>\n",
       "    <tr>\n",
       "      <th>endometrium</th>\n",
       "      <td>0</td>\n",
       "      <td>0</td>\n",
       "      <td>15</td>\n",
       "      <td>0</td>\n",
       "      <td>0</td>\n",
       "      <td>0</td>\n",
       "      <td>0</td>\n",
       "      <td>15</td>\n",
       "    </tr>\n",
       "    <tr>\n",
       "      <th>hippocampus</th>\n",
       "      <td>0</td>\n",
       "      <td>31</td>\n",
       "      <td>0</td>\n",
       "      <td>0</td>\n",
       "      <td>0</td>\n",
       "      <td>0</td>\n",
       "      <td>0</td>\n",
       "      <td>31</td>\n",
       "    </tr>\n",
       "    <tr>\n",
       "      <th>kidney</th>\n",
       "      <td>39</td>\n",
       "      <td>0</td>\n",
       "      <td>0</td>\n",
       "      <td>0</td>\n",
       "      <td>0</td>\n",
       "      <td>0</td>\n",
       "      <td>0</td>\n",
       "      <td>39</td>\n",
       "    </tr>\n",
       "    <tr>\n",
       "      <th>liver</th>\n",
       "      <td>2</td>\n",
       "      <td>0</td>\n",
       "      <td>0</td>\n",
       "      <td>0</td>\n",
       "      <td>24</td>\n",
       "      <td>0</td>\n",
       "      <td>0</td>\n",
       "      <td>26</td>\n",
       "    </tr>\n",
       "    <tr>\n",
       "      <th>placenta</th>\n",
       "      <td>0</td>\n",
       "      <td>0</td>\n",
       "      <td>0</td>\n",
       "      <td>6</td>\n",
       "      <td>0</td>\n",
       "      <td>0</td>\n",
       "      <td>0</td>\n",
       "      <td>6</td>\n",
       "    </tr>\n",
       "    <tr>\n",
       "      <th>All</th>\n",
       "      <td>43</td>\n",
       "      <td>31</td>\n",
       "      <td>20</td>\n",
       "      <td>6</td>\n",
       "      <td>24</td>\n",
       "      <td>31</td>\n",
       "      <td>34</td>\n",
       "      <td>189</td>\n",
       "    </tr>\n",
       "  </tbody>\n",
       "</table>\n",
       "</div>"
      ],
      "text/plain": [
       "cluster       0   1   2  3   4   5   6  All\n",
       "target                                     \n",
       "cerebellum    2   0   5  0   0  31   0   38\n",
       "colon         0   0   0  0   0   0  34   34\n",
       "endometrium   0   0  15  0   0   0   0   15\n",
       "hippocampus   0  31   0  0   0   0   0   31\n",
       "kidney       39   0   0  0   0   0   0   39\n",
       "liver         2   0   0  0  24   0   0   26\n",
       "placenta      0   0   0  6   0   0   0    6\n",
       "All          43  31  20  6  24  31  34  189"
      ]
     },
     "execution_count": 22,
     "metadata": {},
     "output_type": "execute_result"
    }
   ],
   "source": [
    "y_pred = model.fit_predict(data_reduced)\n",
    "pd.crosstab(targets, y_pred, rownames=['target'], colnames=['cluster'], margins=True)"
   ]
  },
  {
   "cell_type": "code",
   "execution_count": 23,
   "metadata": {},
   "outputs": [
    {
     "data": {
      "application/vnd.plotly.v1+json": {
       "config": {
        "linkText": "Export to plot.ly",
        "plotlyServerURL": "https://plot.ly",
        "showLink": false
       },
       "data": [
        {
         "marker": {
          "size": 5
         },
         "mode": "markers",
         "name": "0",
         "type": "scatter3d",
         "x": [
          -0.5536770924327143,
          -0.6881950989432151,
          -0.6888007531181636,
          -0.6651059194827839,
          -0.6005985735491234,
          -0.6701648373002458,
          -0.5421945552052269,
          -0.7097247908884088,
          -0.5388081633087185,
          -0.7080454390035295,
          -0.6535316443273318,
          -0.6594784985614204,
          -0.6865961869776273,
          -0.7174374554750337,
          -0.5989365338194031,
          -0.681102114031526,
          -0.555018773178262,
          -0.5678065621361266,
          -0.5433159467101747,
          -0.5307265389027536,
          -0.5204847336523648,
          -0.560081534177529,
          -0.4701241575744581,
          -0.6887251176848473,
          -0.5623559805142019,
          -0.4410611451575902,
          -0.4410551684786598,
          -0.6789364527678021,
          -0.6742877166956821,
          -0.4749012394378939,
          -0.48218173991667207,
          -0.5081349493133506,
          -0.4644894099708087,
          -0.47675988730576785,
          -0.4573609782782627,
          -0.4905782354754522,
          -0.6724162612105202,
          0.4948137130887639,
          0.4503490547726078,
          -1.0160468492574442,
          -1.0810138609280855,
          -0.694979527145473,
          -0.6999891955989634
         ],
         "y": [
          -0.6762913861638065,
          -0.919342224607266,
          0.11270634220651674,
          -0.22330160960955336,
          -0.48117178742789246,
          0.1664325404930697,
          -0.2842784428939539,
          0.08377059914873429,
          -0.6767331948830241,
          0.06079333437322551,
          -0.5856330182317289,
          0.21969415583780866,
          -0.4827531833537271,
          0.11522805598907168,
          -0.47124114928302513,
          -0.11507595669964728,
          -0.19716011979115772,
          -0.9137372530375455,
          -0.9039820598649396,
          -0.13322454698591224,
          -0.7988739446039698,
          -0.8535416572025363,
          -0.8604226351985529,
          -0.5905448403481751,
          0.038620153686398075,
          -0.8374275764808201,
          -0.9312560958078038,
          -0.6799321225183522,
          -0.6203303013362192,
          -0.42851807613270615,
          -0.4291121829782768,
          -0.05522580467431653,
          -0.617165696074897,
          -0.5623679155106291,
          -0.6605801733738209,
          -0.2688346671905568,
          -0.028006500681982068,
          1.0133949928870318,
          0.969166873926715,
          2.0131266075527625,
          2.1180062521709226,
          0.9958654676005518,
          0.8695560890809844
         ],
         "z": [
          1.6411582727871339,
          1.1730486128421747,
          1.1593829209857374,
          1.00819479044129,
          1.4325859790945297,
          0.948422069526681,
          0.4796826596622351,
          1.2180392471967643,
          1.5086455064018913,
          1.1781440657439202,
          1.4250297797462224,
          0.8457107400766031,
          1.3353311516577235,
          1.212595847087323,
          1.1923267098659833,
          1.4181906757253777,
          1.5790870980927811,
          1.9174324807200933,
          1.6608942638233046,
          1.1237875273854059,
          1.7512472903096266,
          2.077634685777519,
          2.1188663990210217,
          1.3132729048323344,
          1.2188900150665258,
          2.0168004765329544,
          2.198440463496719,
          1.466395374254367,
          0.6915671362968726,
          0.5893249536541676,
          0.5361275822588855,
          -0.39236538360683176,
          1.0629558513353246,
          0.9343679980352569,
          1.1973411283169815,
          0.13059169757000905,
          0.26324562900886134,
          -2.102545318887176,
          -2.120302167739295,
          -2.066137791467695,
          -2.044522168073592,
          -1.6159270411399753,
          -1.1494144055583333
         ]
        },
        {
         "marker": {
          "size": 5
         },
         "mode": "markers",
         "name": "1",
         "type": "scatter3d",
         "x": [
          1.0140638866648035,
          1.2626307435847308,
          0.7547139503958953,
          1.1943645032725552,
          0.7540381852982921,
          1.1278226815936725,
          1.0694909695143417,
          1.3147170632177876,
          0.9713325250196191,
          0.8639280873777816,
          1.4408991740572348,
          1.4345011367821139,
          1.4552986613037746,
          1.470316584335254,
          1.5638173045159889,
          1.1561406109184067,
          1.2989712366996258,
          1.4103182253712796,
          1.267714621353281,
          1.297381738161784,
          1.2508366773430442,
          1.2602663599130772,
          1.0766786576309944,
          1.2171577538132017,
          1.1951672756462193,
          1.2961083281435546,
          0.987845078168513,
          1.0884383027681284,
          1.1754194744873891,
          1.2392443674570917,
          1.1942575382057983
         ],
         "y": [
          0.2576605555122831,
          0.30399254928918495,
          0.7064752208062436,
          0.10191642924270972,
          0.532267106235756,
          0.383201151752668,
          0.4116652862001389,
          0.3732445574951917,
          0.2927856783935109,
          0.3641141425869963,
          0.3793694866930051,
          0.279453478792559,
          0.3225372768956281,
          0.3504121764465503,
          0.26121576993631224,
          0.23419523105599468,
          0.28924154691536885,
          0.3389858987390162,
          0.27078909138284185,
          0.3324889739790915,
          0.14376217305007424,
          0.2090360956459182,
          0.2789539305909884,
          0.2493351248473477,
          0.22166598949207605,
          0.2032967258011568,
          0.23193174604965947,
          0.292870433560988,
          0.3867759364368719,
          0.3571936717144712,
          0.3253661601956773
         ],
         "z": [
          0.20189875216638956,
          0.1743207650662388,
          -0.7829649961301551,
          0.8637257345388379,
          -0.8235503983999682,
          0.11112268799399089,
          0.06589630299938265,
          0.46110654348442154,
          0.24064020572583927,
          -0.032847647287841085,
          0.22999185702773633,
          0.48409765508225694,
          0.5743379557027689,
          0.42087126120988044,
          0.6424390878552217,
          0.4983817446145229,
          0.6246935435198128,
          0.49044177596638755,
          0.6685603691532986,
          0.716489920554055,
          1.160905208004032,
          0.7288195832292019,
          0.20218277395403328,
          0.630215333838688,
          0.80558110409897,
          0.7460984919020295,
          0.5108387702818608,
          0.5216246237966689,
          0.3037102123333313,
          0.17685430732154706,
          -0.01122113539473749
         ]
        },
        {
         "marker": {
          "size": 5
         },
         "mode": "markers",
         "name": "2",
         "type": "scatter3d",
         "x": [
          -0.5015990775311889,
          -0.19575507074156948,
          -0.49069445040609316,
          -0.467988359798827,
          -0.5148704477018763,
          -0.3333147083139774,
          -0.4387649133955874,
          -0.4848451081284401,
          -0.25650799473117986,
          -0.26018069993448356,
          -0.2426524945438818,
          -0.12325948592006616,
          -0.2092248800310625,
          -0.46445038936411365,
          -0.41076107741644247,
          0.403558409867759,
          0.8824418375219427,
          0.8242055134816274,
          0.6735641797859786,
          0.6159550050704671
         ],
         "y": [
          -0.8547286252378684,
          -0.6366708710109152,
          -1.0093587478302148,
          -0.906510343583318,
          -0.9170427735025761,
          -1.0458439231905345,
          -0.7816136347106549,
          -0.787388565918785,
          -0.887405017072128,
          -0.8062879603228603,
          -0.6085443607351539,
          -0.8941372893520255,
          -0.6678134779897577,
          -0.8030069829625284,
          -0.8835831385968372,
          -0.17595109330802886,
          -0.1011673312317596,
          -0.3105942301008266,
          -0.32847174872002405,
          -0.25213093275322973
         ],
         "z": [
          0.24342059514925674,
          0.7282914332210172,
          0.3566698217663277,
          -0.05462365164520132,
          0.2581974162363736,
          0.5243285936542926,
          -0.1231684362147447,
          0.029923320287258023,
          1.1787753400550287,
          1.088091357455928,
          0.5024714976498015,
          1.3286404668351297,
          1.1311629816445588,
          0.9357039431097325,
          1.083336353439632,
          0.9641677365438228,
          1.038651894721689,
          1.6113644768732514,
          1.445603231443064,
          1.2244871352483977
         ]
        },
        {
         "marker": {
          "size": 5
         },
         "mode": "markers",
         "name": "3",
         "type": "scatter3d",
         "x": [
          -0.5021371059527342,
          -0.41239225423809417,
          -0.6584491387326344,
          -0.7281590428940571,
          -0.7561239731355339,
          -0.862277251927697
         ],
         "y": [
          -1.4829658736658047,
          -1.3137603643888092,
          -1.1397246924499465,
          -0.9140278374479094,
          -0.6288905945896476,
          -0.5678122504422766
         ],
         "z": [
          0.4334208373982842,
          0.24570860187305507,
          -0.3056863752711856,
          -0.3508145961574626,
          -0.6733349515630676,
          -0.8625326919219549
         ]
        },
        {
         "marker": {
          "size": 5
         },
         "mode": "markers",
         "name": "4",
         "type": "scatter3d",
         "x": [
          -1.1528079475610375,
          -1.161600981697713,
          -1.148454437267562,
          -1.2074440413322491,
          -1.3085240563362623,
          -1.2234040727301692,
          -1.1414480206472284,
          -1.1373601084161489,
          -1.178816507212754,
          -1.2060922495684314,
          -1.1711464820369535,
          -1.3221307273887497,
          -1.4287761962970065,
          -1.3625242236719433,
          -1.350163067359462,
          -1.395425901204041,
          -1.4287761962970065,
          -1.350163067359462,
          -1.395425901204041,
          -1.3625242236719433,
          -1.3089942740018812,
          -1.3505506007386223,
          -1.3261179717788298,
          -1.3969738909470208
         ],
         "y": [
          1.6652814252408066,
          1.7336208491456777,
          1.6627404588674946,
          1.4375502270236657,
          1.7353955690247516,
          1.4270087654170245,
          1.7503459359404674,
          1.6979038152054928,
          1.9327844079544076,
          1.5978464009078337,
          1.9874897287477948,
          2.0278825238845326,
          2.134580115736782,
          2.267368360139262,
          2.006304824821388,
          2.1560678501326374,
          2.134580115736782,
          2.006304824821388,
          2.1560678501326374,
          2.267368360139262,
          2.196969860900216,
          2.24912555837456,
          2.448238393995241,
          2.3591129862935056
         ],
         "z": [
          -0.39320009509599224,
          -0.5788358729876425,
          -0.46634106044618306,
          0.5639877410732286,
          -0.005689857713088713,
          0.6565693264551329,
          -0.47382783471149104,
          0.5755739600472034,
          -0.043332302247032564,
          0.6364267037164613,
          -0.49241044734088024,
          -0.058927776677374324,
          -0.03535767806562002,
          -0.009642743882169626,
          -0.09265608011358116,
          0.4267629592758193,
          -0.03535767806562002,
          -0.09265608011358116,
          0.4267629592758193,
          -0.009642743882169626,
          0.15893677277600382,
          0.13477282018741127,
          -0.3230532144185536,
          -0.027990204888324394
         ]
        },
        {
         "marker": {
          "size": 5
         },
         "mode": "markers",
         "name": "5",
         "type": "scatter3d",
         "x": [
          1.355011994083587,
          1.3149691148717135,
          1.5427060526201721,
          1.570125311913703,
          1.4043230132467377,
          1.427576787588135,
          1.5462407226257455,
          1.3583151592281497,
          1.5029754796747659,
          1.3647417620225615,
          1.450052040214887,
          1.4924746760093304,
          1.391834738519418,
          1.536192239513637,
          1.5239175443366642,
          1.4823894401423057,
          1.5065355049496656,
          1.6085790713261474,
          1.4502874740195928,
          1.5321992393777504,
          1.329362505757647,
          1.386208656023163,
          1.3408806134129332,
          1.5535530794431953,
          1.4332556721137937,
          1.5127513141396784,
          1.4612282485842831,
          1.0884279639962087,
          1.4774525304002393,
          1.3209116522166793,
          1.652787925166354
         ],
         "y": [
          0.32814143954449604,
          0.3752835194131693,
          0.2728480842396148,
          0.2965737296462478,
          0.30518746117242807,
          0.33858958053921456,
          0.26111851129089125,
          0.30957213181593507,
          0.30346535882987574,
          0.4543894628915678,
          0.34261665007835296,
          0.24415680364064385,
          0.287189243338216,
          0.33941262733009026,
          0.2973714837095838,
          0.2839257144898518,
          0.3186564164521285,
          0.25660644900799756,
          0.36034799460269873,
          0.3139101428551269,
          0.38541668776814036,
          0.3042461703572207,
          0.4055329502672465,
          0.274914861689225,
          0.3673602474992463,
          0.31829853500587496,
          0.3042541971898968,
          0.5725331173421504,
          0.2821570539251291,
          -0.0111968361003553,
          0.20122221223537035
         ],
         "z": [
          -0.8772278580354161,
          -0.8192243200463027,
          -0.5684669038828879,
          -0.4013554583564394,
          -0.7458089208373897,
          -0.6834344450245311,
          -0.6586318351864106,
          -0.6355558220171594,
          -0.2723636364283362,
          -0.48861957639176484,
          -0.5016142884800782,
          -0.3697264650608827,
          -0.890858932531875,
          -0.3239125520861297,
          -0.5312886031652817,
          -0.6086462148174477,
          -0.8090387657313489,
          -0.42813195263131726,
          -0.6836989596485178,
          -0.605727972853336,
          -0.4880007383204615,
          -0.42068881521101537,
          -0.8185945629515419,
          -0.5684339310365433,
          -0.8013962965652078,
          -0.5262167846344327,
          -0.4167415548115252,
          -0.9642803020041348,
          -0.09603343917935717,
          0.7778505917513975,
          0.16863130175410007
         ]
        },
        {
         "marker": {
          "size": 5
         },
         "mode": "markers",
         "name": "6",
         "type": "scatter3d",
         "x": [
          -0.7839039673620989,
          -0.6707020354381948,
          -0.6691752431380324,
          -0.6816177881145178,
          -0.7228742217611994,
          -0.6181954329436884,
          -0.6126248616873262,
          -0.5760736522284975,
          -0.5246947098551743,
          -0.5895810613352455,
          -0.6769582368294591,
          -0.651245369901977,
          -0.5883580547437537,
          -0.5831262364631031,
          -0.6234828014078343,
          -0.5670246555479178,
          -0.6031151618757673,
          -0.5615585102019601,
          -0.5782271938656377,
          -0.5509613780801129,
          -0.5856813790115447,
          -0.5254328703098697,
          -0.6260058628394741,
          -0.6485880741393114,
          -0.5989997517495843,
          -0.6064714095692536,
          -0.710518208150369,
          -0.7348073571567324,
          -0.5917427320058166,
          -0.6938466399287135,
          -0.6316329938313657,
          -0.5642099382177322,
          -0.5962215049626114,
          -0.5740949600296475
         ],
         "y": [
          -1.2106259122809695,
          -1.2237616500391844,
          -1.3122434560263765,
          -1.064585074945378,
          -1.2837009525060619,
          -1.0549225022601232,
          -1.2881104903422367,
          -1.2397929384968949,
          -1.0657014823085051,
          -1.3537495930243628,
          -1.2740437621373464,
          -1.1676304096946923,
          -1.282929587394784,
          -0.8781348175918803,
          -0.961279987538851,
          -1.227033523719272,
          -1.2261283009832784,
          -1.251479802658065,
          -1.2833622124411252,
          -0.7212335721111007,
          -1.4000034066073046,
          -1.2731341067584185,
          -1.064507528631691,
          -1.2802950621658105,
          -0.798645378455959,
          -1.1518133433473239,
          -1.208551628156878,
          -1.1693622863588589,
          -1.180483930078048,
          -1.1928355004996682,
          -1.1036404950506102,
          -1.0105429777713846,
          -1.031291213806652,
          -0.9675466010906324
         ],
         "z": [
          -1.114657014325191,
          -1.1047625743194278,
          -0.9330463831133154,
          -1.162572025139125,
          -0.8073528739544159,
          -0.9131441949552643,
          -1.1580239109923036,
          -1.5456068959585274,
          -1.8338371261396031,
          -1.103485628146077,
          -1.4778959763945483,
          -1.1442957786364523,
          -1.5257892620662146,
          -1.7843323204998247,
          -1.4425468942958368,
          -1.055919066322396,
          -1.3960127451438809,
          -1.272758671103158,
          -1.4517877613494365,
          -1.845577761534724,
          -1.1561181482725262,
          -1.0619807313684182,
          -1.335014410660609,
          -0.9730337779148567,
          -1.3320477722895203,
          -1.3816830754228917,
          -1.1670419480827765,
          -1.310433002451224,
          -1.5469523175981488,
          -0.8700789360048506,
          -1.4263193476865506,
          -1.2951924825317902,
          -1.1520231780751988,
          -1.4233739991858054
         ]
        }
       ],
       "layout": {
        "height": 600,
        "scene": {
         "xaxis": {
          "title": {
           "text": "comp 0"
          }
         },
         "yaxis": {
          "title": {
           "text": "comp 1"
          }
         },
         "zaxis": {
          "title": {
           "text": "comp 2"
          }
         }
        },
        "template": {
         "data": {
          "bar": [
           {
            "error_x": {
             "color": "#2a3f5f"
            },
            "error_y": {
             "color": "#2a3f5f"
            },
            "marker": {
             "line": {
              "color": "#E5ECF6",
              "width": 0.5
             },
             "pattern": {
              "fillmode": "overlay",
              "size": 10,
              "solidity": 0.2
             }
            },
            "type": "bar"
           }
          ],
          "barpolar": [
           {
            "marker": {
             "line": {
              "color": "#E5ECF6",
              "width": 0.5
             },
             "pattern": {
              "fillmode": "overlay",
              "size": 10,
              "solidity": 0.2
             }
            },
            "type": "barpolar"
           }
          ],
          "carpet": [
           {
            "aaxis": {
             "endlinecolor": "#2a3f5f",
             "gridcolor": "white",
             "linecolor": "white",
             "minorgridcolor": "white",
             "startlinecolor": "#2a3f5f"
            },
            "baxis": {
             "endlinecolor": "#2a3f5f",
             "gridcolor": "white",
             "linecolor": "white",
             "minorgridcolor": "white",
             "startlinecolor": "#2a3f5f"
            },
            "type": "carpet"
           }
          ],
          "choropleth": [
           {
            "colorbar": {
             "outlinewidth": 0,
             "ticks": ""
            },
            "type": "choropleth"
           }
          ],
          "contour": [
           {
            "colorbar": {
             "outlinewidth": 0,
             "ticks": ""
            },
            "colorscale": [
             [
              0,
              "#0d0887"
             ],
             [
              0.1111111111111111,
              "#46039f"
             ],
             [
              0.2222222222222222,
              "#7201a8"
             ],
             [
              0.3333333333333333,
              "#9c179e"
             ],
             [
              0.4444444444444444,
              "#bd3786"
             ],
             [
              0.5555555555555556,
              "#d8576b"
             ],
             [
              0.6666666666666666,
              "#ed7953"
             ],
             [
              0.7777777777777778,
              "#fb9f3a"
             ],
             [
              0.8888888888888888,
              "#fdca26"
             ],
             [
              1,
              "#f0f921"
             ]
            ],
            "type": "contour"
           }
          ],
          "contourcarpet": [
           {
            "colorbar": {
             "outlinewidth": 0,
             "ticks": ""
            },
            "type": "contourcarpet"
           }
          ],
          "heatmap": [
           {
            "colorbar": {
             "outlinewidth": 0,
             "ticks": ""
            },
            "colorscale": [
             [
              0,
              "#0d0887"
             ],
             [
              0.1111111111111111,
              "#46039f"
             ],
             [
              0.2222222222222222,
              "#7201a8"
             ],
             [
              0.3333333333333333,
              "#9c179e"
             ],
             [
              0.4444444444444444,
              "#bd3786"
             ],
             [
              0.5555555555555556,
              "#d8576b"
             ],
             [
              0.6666666666666666,
              "#ed7953"
             ],
             [
              0.7777777777777778,
              "#fb9f3a"
             ],
             [
              0.8888888888888888,
              "#fdca26"
             ],
             [
              1,
              "#f0f921"
             ]
            ],
            "type": "heatmap"
           }
          ],
          "heatmapgl": [
           {
            "colorbar": {
             "outlinewidth": 0,
             "ticks": ""
            },
            "colorscale": [
             [
              0,
              "#0d0887"
             ],
             [
              0.1111111111111111,
              "#46039f"
             ],
             [
              0.2222222222222222,
              "#7201a8"
             ],
             [
              0.3333333333333333,
              "#9c179e"
             ],
             [
              0.4444444444444444,
              "#bd3786"
             ],
             [
              0.5555555555555556,
              "#d8576b"
             ],
             [
              0.6666666666666666,
              "#ed7953"
             ],
             [
              0.7777777777777778,
              "#fb9f3a"
             ],
             [
              0.8888888888888888,
              "#fdca26"
             ],
             [
              1,
              "#f0f921"
             ]
            ],
            "type": "heatmapgl"
           }
          ],
          "histogram": [
           {
            "marker": {
             "pattern": {
              "fillmode": "overlay",
              "size": 10,
              "solidity": 0.2
             }
            },
            "type": "histogram"
           }
          ],
          "histogram2d": [
           {
            "colorbar": {
             "outlinewidth": 0,
             "ticks": ""
            },
            "colorscale": [
             [
              0,
              "#0d0887"
             ],
             [
              0.1111111111111111,
              "#46039f"
             ],
             [
              0.2222222222222222,
              "#7201a8"
             ],
             [
              0.3333333333333333,
              "#9c179e"
             ],
             [
              0.4444444444444444,
              "#bd3786"
             ],
             [
              0.5555555555555556,
              "#d8576b"
             ],
             [
              0.6666666666666666,
              "#ed7953"
             ],
             [
              0.7777777777777778,
              "#fb9f3a"
             ],
             [
              0.8888888888888888,
              "#fdca26"
             ],
             [
              1,
              "#f0f921"
             ]
            ],
            "type": "histogram2d"
           }
          ],
          "histogram2dcontour": [
           {
            "colorbar": {
             "outlinewidth": 0,
             "ticks": ""
            },
            "colorscale": [
             [
              0,
              "#0d0887"
             ],
             [
              0.1111111111111111,
              "#46039f"
             ],
             [
              0.2222222222222222,
              "#7201a8"
             ],
             [
              0.3333333333333333,
              "#9c179e"
             ],
             [
              0.4444444444444444,
              "#bd3786"
             ],
             [
              0.5555555555555556,
              "#d8576b"
             ],
             [
              0.6666666666666666,
              "#ed7953"
             ],
             [
              0.7777777777777778,
              "#fb9f3a"
             ],
             [
              0.8888888888888888,
              "#fdca26"
             ],
             [
              1,
              "#f0f921"
             ]
            ],
            "type": "histogram2dcontour"
           }
          ],
          "mesh3d": [
           {
            "colorbar": {
             "outlinewidth": 0,
             "ticks": ""
            },
            "type": "mesh3d"
           }
          ],
          "parcoords": [
           {
            "line": {
             "colorbar": {
              "outlinewidth": 0,
              "ticks": ""
             }
            },
            "type": "parcoords"
           }
          ],
          "pie": [
           {
            "automargin": true,
            "type": "pie"
           }
          ],
          "scatter": [
           {
            "marker": {
             "colorbar": {
              "outlinewidth": 0,
              "ticks": ""
             }
            },
            "type": "scatter"
           }
          ],
          "scatter3d": [
           {
            "line": {
             "colorbar": {
              "outlinewidth": 0,
              "ticks": ""
             }
            },
            "marker": {
             "colorbar": {
              "outlinewidth": 0,
              "ticks": ""
             }
            },
            "type": "scatter3d"
           }
          ],
          "scattercarpet": [
           {
            "marker": {
             "colorbar": {
              "outlinewidth": 0,
              "ticks": ""
             }
            },
            "type": "scattercarpet"
           }
          ],
          "scattergeo": [
           {
            "marker": {
             "colorbar": {
              "outlinewidth": 0,
              "ticks": ""
             }
            },
            "type": "scattergeo"
           }
          ],
          "scattergl": [
           {
            "marker": {
             "colorbar": {
              "outlinewidth": 0,
              "ticks": ""
             }
            },
            "type": "scattergl"
           }
          ],
          "scattermapbox": [
           {
            "marker": {
             "colorbar": {
              "outlinewidth": 0,
              "ticks": ""
             }
            },
            "type": "scattermapbox"
           }
          ],
          "scatterpolar": [
           {
            "marker": {
             "colorbar": {
              "outlinewidth": 0,
              "ticks": ""
             }
            },
            "type": "scatterpolar"
           }
          ],
          "scatterpolargl": [
           {
            "marker": {
             "colorbar": {
              "outlinewidth": 0,
              "ticks": ""
             }
            },
            "type": "scatterpolargl"
           }
          ],
          "scatterternary": [
           {
            "marker": {
             "colorbar": {
              "outlinewidth": 0,
              "ticks": ""
             }
            },
            "type": "scatterternary"
           }
          ],
          "surface": [
           {
            "colorbar": {
             "outlinewidth": 0,
             "ticks": ""
            },
            "colorscale": [
             [
              0,
              "#0d0887"
             ],
             [
              0.1111111111111111,
              "#46039f"
             ],
             [
              0.2222222222222222,
              "#7201a8"
             ],
             [
              0.3333333333333333,
              "#9c179e"
             ],
             [
              0.4444444444444444,
              "#bd3786"
             ],
             [
              0.5555555555555556,
              "#d8576b"
             ],
             [
              0.6666666666666666,
              "#ed7953"
             ],
             [
              0.7777777777777778,
              "#fb9f3a"
             ],
             [
              0.8888888888888888,
              "#fdca26"
             ],
             [
              1,
              "#f0f921"
             ]
            ],
            "type": "surface"
           }
          ],
          "table": [
           {
            "cells": {
             "fill": {
              "color": "#EBF0F8"
             },
             "line": {
              "color": "white"
             }
            },
            "header": {
             "fill": {
              "color": "#C8D4E3"
             },
             "line": {
              "color": "white"
             }
            },
            "type": "table"
           }
          ]
         },
         "layout": {
          "annotationdefaults": {
           "arrowcolor": "#2a3f5f",
           "arrowhead": 0,
           "arrowwidth": 1
          },
          "autotypenumbers": "strict",
          "coloraxis": {
           "colorbar": {
            "outlinewidth": 0,
            "ticks": ""
           }
          },
          "colorscale": {
           "diverging": [
            [
             0,
             "#8e0152"
            ],
            [
             0.1,
             "#c51b7d"
            ],
            [
             0.2,
             "#de77ae"
            ],
            [
             0.3,
             "#f1b6da"
            ],
            [
             0.4,
             "#fde0ef"
            ],
            [
             0.5,
             "#f7f7f7"
            ],
            [
             0.6,
             "#e6f5d0"
            ],
            [
             0.7,
             "#b8e186"
            ],
            [
             0.8,
             "#7fbc41"
            ],
            [
             0.9,
             "#4d9221"
            ],
            [
             1,
             "#276419"
            ]
           ],
           "sequential": [
            [
             0,
             "#0d0887"
            ],
            [
             0.1111111111111111,
             "#46039f"
            ],
            [
             0.2222222222222222,
             "#7201a8"
            ],
            [
             0.3333333333333333,
             "#9c179e"
            ],
            [
             0.4444444444444444,
             "#bd3786"
            ],
            [
             0.5555555555555556,
             "#d8576b"
            ],
            [
             0.6666666666666666,
             "#ed7953"
            ],
            [
             0.7777777777777778,
             "#fb9f3a"
            ],
            [
             0.8888888888888888,
             "#fdca26"
            ],
            [
             1,
             "#f0f921"
            ]
           ],
           "sequentialminus": [
            [
             0,
             "#0d0887"
            ],
            [
             0.1111111111111111,
             "#46039f"
            ],
            [
             0.2222222222222222,
             "#7201a8"
            ],
            [
             0.3333333333333333,
             "#9c179e"
            ],
            [
             0.4444444444444444,
             "#bd3786"
            ],
            [
             0.5555555555555556,
             "#d8576b"
            ],
            [
             0.6666666666666666,
             "#ed7953"
            ],
            [
             0.7777777777777778,
             "#fb9f3a"
            ],
            [
             0.8888888888888888,
             "#fdca26"
            ],
            [
             1,
             "#f0f921"
            ]
           ]
          },
          "colorway": [
           "#636efa",
           "#EF553B",
           "#00cc96",
           "#ab63fa",
           "#FFA15A",
           "#19d3f3",
           "#FF6692",
           "#B6E880",
           "#FF97FF",
           "#FECB52"
          ],
          "font": {
           "color": "#2a3f5f"
          },
          "geo": {
           "bgcolor": "white",
           "lakecolor": "white",
           "landcolor": "#E5ECF6",
           "showlakes": true,
           "showland": true,
           "subunitcolor": "white"
          },
          "hoverlabel": {
           "align": "left"
          },
          "hovermode": "closest",
          "mapbox": {
           "style": "light"
          },
          "paper_bgcolor": "white",
          "plot_bgcolor": "#E5ECF6",
          "polar": {
           "angularaxis": {
            "gridcolor": "white",
            "linecolor": "white",
            "ticks": ""
           },
           "bgcolor": "#E5ECF6",
           "radialaxis": {
            "gridcolor": "white",
            "linecolor": "white",
            "ticks": ""
           }
          },
          "scene": {
           "xaxis": {
            "backgroundcolor": "#E5ECF6",
            "gridcolor": "white",
            "gridwidth": 2,
            "linecolor": "white",
            "showbackground": true,
            "ticks": "",
            "zerolinecolor": "white"
           },
           "yaxis": {
            "backgroundcolor": "#E5ECF6",
            "gridcolor": "white",
            "gridwidth": 2,
            "linecolor": "white",
            "showbackground": true,
            "ticks": "",
            "zerolinecolor": "white"
           },
           "zaxis": {
            "backgroundcolor": "#E5ECF6",
            "gridcolor": "white",
            "gridwidth": 2,
            "linecolor": "white",
            "showbackground": true,
            "ticks": "",
            "zerolinecolor": "white"
           }
          },
          "shapedefaults": {
           "line": {
            "color": "#2a3f5f"
           }
          },
          "ternary": {
           "aaxis": {
            "gridcolor": "white",
            "linecolor": "white",
            "ticks": ""
           },
           "baxis": {
            "gridcolor": "white",
            "linecolor": "white",
            "ticks": ""
           },
           "bgcolor": "#E5ECF6",
           "caxis": {
            "gridcolor": "white",
            "linecolor": "white",
            "ticks": ""
           }
          },
          "title": {
           "x": 0.05
          },
          "xaxis": {
           "automargin": true,
           "gridcolor": "white",
           "linecolor": "white",
           "ticks": "",
           "title": {
            "standoff": 15
           },
           "zerolinecolor": "white",
           "zerolinewidth": 2
          },
          "yaxis": {
           "automargin": true,
           "gridcolor": "white",
           "linecolor": "white",
           "ticks": "",
           "title": {
            "standoff": 15
           },
           "zerolinecolor": "white",
           "zerolinewidth": 2
          }
         }
        },
        "title": {
         "text": "Clusters con Agglomerative Hierarchical Clustering"
        },
        "width": 700
       }
      }
     },
     "metadata": {},
     "output_type": "display_data"
    }
   ],
   "source": [
    "plot_3d(data_reduced, y_pred, 'Clusters con Agglomerative Hierarchical Clustering')"
   ]
  },
  {
   "cell_type": "markdown",
   "metadata": {},
   "source": [
    "## Hiperparámetros"
   ]
  },
  {
   "cell_type": "code",
   "execution_count": 24,
   "metadata": {},
   "outputs": [],
   "source": [
    "n_clusters = 7"
   ]
  },
  {
   "cell_type": "markdown",
   "metadata": {},
   "source": [
    "## K-Means"
   ]
  },
  {
   "cell_type": "code",
   "execution_count": 25,
   "metadata": {},
   "outputs": [
    {
     "name": "stdout",
     "output_type": "stream",
     "text": [
      "Break on interation: 5\n"
     ]
    },
    {
     "data": {
      "text/html": [
       "<div>\n",
       "<style scoped>\n",
       "    .dataframe tbody tr th:only-of-type {\n",
       "        vertical-align: middle;\n",
       "    }\n",
       "\n",
       "    .dataframe tbody tr th {\n",
       "        vertical-align: top;\n",
       "    }\n",
       "\n",
       "    .dataframe thead th {\n",
       "        text-align: right;\n",
       "    }\n",
       "</style>\n",
       "<table border=\"1\" class=\"dataframe\">\n",
       "  <thead>\n",
       "    <tr style=\"text-align: right;\">\n",
       "      <th>cluster</th>\n",
       "      <th>0</th>\n",
       "      <th>1</th>\n",
       "      <th>2</th>\n",
       "      <th>3</th>\n",
       "      <th>4</th>\n",
       "      <th>5</th>\n",
       "      <th>6</th>\n",
       "      <th>All</th>\n",
       "    </tr>\n",
       "    <tr>\n",
       "      <th>target</th>\n",
       "      <th></th>\n",
       "      <th></th>\n",
       "      <th></th>\n",
       "      <th></th>\n",
       "      <th></th>\n",
       "      <th></th>\n",
       "      <th></th>\n",
       "      <th></th>\n",
       "    </tr>\n",
       "  </thead>\n",
       "  <tbody>\n",
       "    <tr>\n",
       "      <th>cerebellum</th>\n",
       "      <td>5</td>\n",
       "      <td>0</td>\n",
       "      <td>0</td>\n",
       "      <td>0</td>\n",
       "      <td>33</td>\n",
       "      <td>0</td>\n",
       "      <td>0</td>\n",
       "      <td>38</td>\n",
       "    </tr>\n",
       "    <tr>\n",
       "      <th>colon</th>\n",
       "      <td>0</td>\n",
       "      <td>34</td>\n",
       "      <td>0</td>\n",
       "      <td>0</td>\n",
       "      <td>0</td>\n",
       "      <td>0</td>\n",
       "      <td>0</td>\n",
       "      <td>34</td>\n",
       "    </tr>\n",
       "    <tr>\n",
       "      <th>endometrium</th>\n",
       "      <td>15</td>\n",
       "      <td>0</td>\n",
       "      <td>0</td>\n",
       "      <td>0</td>\n",
       "      <td>0</td>\n",
       "      <td>0</td>\n",
       "      <td>0</td>\n",
       "      <td>15</td>\n",
       "    </tr>\n",
       "    <tr>\n",
       "      <th>hippocampus</th>\n",
       "      <td>0</td>\n",
       "      <td>0</td>\n",
       "      <td>0</td>\n",
       "      <td>0</td>\n",
       "      <td>0</td>\n",
       "      <td>31</td>\n",
       "      <td>0</td>\n",
       "      <td>31</td>\n",
       "    </tr>\n",
       "    <tr>\n",
       "      <th>kidney</th>\n",
       "      <td>0</td>\n",
       "      <td>0</td>\n",
       "      <td>39</td>\n",
       "      <td>0</td>\n",
       "      <td>0</td>\n",
       "      <td>0</td>\n",
       "      <td>0</td>\n",
       "      <td>39</td>\n",
       "    </tr>\n",
       "    <tr>\n",
       "      <th>liver</th>\n",
       "      <td>0</td>\n",
       "      <td>0</td>\n",
       "      <td>0</td>\n",
       "      <td>26</td>\n",
       "      <td>0</td>\n",
       "      <td>0</td>\n",
       "      <td>0</td>\n",
       "      <td>26</td>\n",
       "    </tr>\n",
       "    <tr>\n",
       "      <th>placenta</th>\n",
       "      <td>0</td>\n",
       "      <td>0</td>\n",
       "      <td>0</td>\n",
       "      <td>0</td>\n",
       "      <td>0</td>\n",
       "      <td>0</td>\n",
       "      <td>6</td>\n",
       "      <td>6</td>\n",
       "    </tr>\n",
       "    <tr>\n",
       "      <th>All</th>\n",
       "      <td>20</td>\n",
       "      <td>34</td>\n",
       "      <td>39</td>\n",
       "      <td>26</td>\n",
       "      <td>33</td>\n",
       "      <td>31</td>\n",
       "      <td>6</td>\n",
       "      <td>189</td>\n",
       "    </tr>\n",
       "  </tbody>\n",
       "</table>\n",
       "</div>"
      ],
      "text/plain": [
       "cluster       0   1   2   3   4   5  6  All\n",
       "target                                     \n",
       "cerebellum    5   0   0   0  33   0  0   38\n",
       "colon         0  34   0   0   0   0  0   34\n",
       "endometrium  15   0   0   0   0   0  0   15\n",
       "hippocampus   0   0   0   0   0  31  0   31\n",
       "kidney        0   0  39   0   0   0  0   39\n",
       "liver         0   0   0  26   0   0  0   26\n",
       "placenta      0   0   0   0   0   0  6    6\n",
       "All          20  34  39  26  33  31  6  189"
      ]
     },
     "execution_count": 25,
     "metadata": {},
     "output_type": "execute_result"
    }
   ],
   "source": [
    "# KMeans - implementación propia\n",
    "from kmeans import Kmeans\n",
    "\n",
    "kmeansModel = Kmeans(data_reduced, n_clusters, n_iterations=10, seed=456523)\n",
    "kmeansModel.fit()\n",
    "kmeans_pred = np.array(kmeansModel.idx_centroid_assigned)\n",
    "\n",
    "pd.crosstab(targets, kmeans_pred, rownames=['target'], colnames=['cluster'], margins=True)"
   ]
  },
  {
   "cell_type": "code",
   "execution_count": 26,
   "metadata": {},
   "outputs": [
    {
     "data": {
      "text/html": [
       "<div>\n",
       "<style scoped>\n",
       "    .dataframe tbody tr th:only-of-type {\n",
       "        vertical-align: middle;\n",
       "    }\n",
       "\n",
       "    .dataframe tbody tr th {\n",
       "        vertical-align: top;\n",
       "    }\n",
       "\n",
       "    .dataframe thead th {\n",
       "        text-align: right;\n",
       "    }\n",
       "</style>\n",
       "<table border=\"1\" class=\"dataframe\">\n",
       "  <thead>\n",
       "    <tr style=\"text-align: right;\">\n",
       "      <th>cluster</th>\n",
       "      <th>0</th>\n",
       "      <th>1</th>\n",
       "      <th>2</th>\n",
       "      <th>3</th>\n",
       "      <th>4</th>\n",
       "      <th>5</th>\n",
       "      <th>6</th>\n",
       "      <th>All</th>\n",
       "    </tr>\n",
       "    <tr>\n",
       "      <th>target</th>\n",
       "      <th></th>\n",
       "      <th></th>\n",
       "      <th></th>\n",
       "      <th></th>\n",
       "      <th></th>\n",
       "      <th></th>\n",
       "      <th></th>\n",
       "      <th></th>\n",
       "    </tr>\n",
       "  </thead>\n",
       "  <tbody>\n",
       "    <tr>\n",
       "      <th>cerebellum</th>\n",
       "      <td>0</td>\n",
       "      <td>0</td>\n",
       "      <td>0</td>\n",
       "      <td>31</td>\n",
       "      <td>2</td>\n",
       "      <td>5</td>\n",
       "      <td>0</td>\n",
       "      <td>38</td>\n",
       "    </tr>\n",
       "    <tr>\n",
       "      <th>colon</th>\n",
       "      <td>0</td>\n",
       "      <td>0</td>\n",
       "      <td>0</td>\n",
       "      <td>0</td>\n",
       "      <td>0</td>\n",
       "      <td>0</td>\n",
       "      <td>34</td>\n",
       "      <td>34</td>\n",
       "    </tr>\n",
       "    <tr>\n",
       "      <th>endometrium</th>\n",
       "      <td>0</td>\n",
       "      <td>0</td>\n",
       "      <td>0</td>\n",
       "      <td>0</td>\n",
       "      <td>0</td>\n",
       "      <td>15</td>\n",
       "      <td>0</td>\n",
       "      <td>15</td>\n",
       "    </tr>\n",
       "    <tr>\n",
       "      <th>hippocampus</th>\n",
       "      <td>0</td>\n",
       "      <td>0</td>\n",
       "      <td>31</td>\n",
       "      <td>0</td>\n",
       "      <td>0</td>\n",
       "      <td>0</td>\n",
       "      <td>0</td>\n",
       "      <td>31</td>\n",
       "    </tr>\n",
       "    <tr>\n",
       "      <th>kidney</th>\n",
       "      <td>0</td>\n",
       "      <td>0</td>\n",
       "      <td>0</td>\n",
       "      <td>0</td>\n",
       "      <td>26</td>\n",
       "      <td>13</td>\n",
       "      <td>0</td>\n",
       "      <td>39</td>\n",
       "    </tr>\n",
       "    <tr>\n",
       "      <th>liver</th>\n",
       "      <td>0</td>\n",
       "      <td>24</td>\n",
       "      <td>0</td>\n",
       "      <td>0</td>\n",
       "      <td>2</td>\n",
       "      <td>0</td>\n",
       "      <td>0</td>\n",
       "      <td>26</td>\n",
       "    </tr>\n",
       "    <tr>\n",
       "      <th>placenta</th>\n",
       "      <td>6</td>\n",
       "      <td>0</td>\n",
       "      <td>0</td>\n",
       "      <td>0</td>\n",
       "      <td>0</td>\n",
       "      <td>0</td>\n",
       "      <td>0</td>\n",
       "      <td>6</td>\n",
       "    </tr>\n",
       "    <tr>\n",
       "      <th>All</th>\n",
       "      <td>6</td>\n",
       "      <td>24</td>\n",
       "      <td>31</td>\n",
       "      <td>31</td>\n",
       "      <td>30</td>\n",
       "      <td>33</td>\n",
       "      <td>34</td>\n",
       "      <td>189</td>\n",
       "    </tr>\n",
       "  </tbody>\n",
       "</table>\n",
       "</div>"
      ],
      "text/plain": [
       "cluster      0   1   2   3   4   5   6  All\n",
       "target                                     \n",
       "cerebellum   0   0   0  31   2   5   0   38\n",
       "colon        0   0   0   0   0   0  34   34\n",
       "endometrium  0   0   0   0   0  15   0   15\n",
       "hippocampus  0   0  31   0   0   0   0   31\n",
       "kidney       0   0   0   0  26  13   0   39\n",
       "liver        0  24   0   0   2   0   0   26\n",
       "placenta     6   0   0   0   0   0   0    6\n",
       "All          6  24  31  31  30  33  34  189"
      ]
     },
     "execution_count": 26,
     "metadata": {},
     "output_type": "execute_result"
    }
   ],
   "source": [
    "# KMeans - implementación de sklearn\n",
    "from sklearn.cluster import KMeans\n",
    "\n",
    "skModel = KMeans(init=\"random\", n_clusters=n_clusters, n_init=10, random_state=42).fit(data_reduced)\n",
    "\n",
    "pd.crosstab(targets, skModel.labels_, rownames=['target'], colnames=['cluster'], margins=True)"
   ]
  },
  {
   "cell_type": "code",
   "execution_count": 27,
   "metadata": {},
   "outputs": [
    {
     "data": {
      "application/vnd.plotly.v1+json": {
       "config": {
        "linkText": "Export to plot.ly",
        "plotlyServerURL": "https://plot.ly",
        "showLink": false
       },
       "data": [
        {
         "marker": {
          "size": 5
         },
         "mode": "markers",
         "name": "0",
         "type": "scatter3d",
         "x": [
          -0.5015990775311889,
          -0.19575507074156948,
          -0.49069445040609316,
          -0.467988359798827,
          -0.5148704477018763,
          -0.3333147083139774,
          -0.4387649133955874,
          -0.4848451081284401,
          -0.25650799473117986,
          -0.26018069993448356,
          -0.2426524945438818,
          -0.12325948592006616,
          -0.2092248800310625,
          -0.46445038936411365,
          -0.41076107741644247,
          0.403558409867759,
          0.8824418375219427,
          0.8242055134816274,
          0.6735641797859786,
          0.6159550050704671
         ],
         "y": [
          -0.8547286252378684,
          -0.6366708710109152,
          -1.0093587478302148,
          -0.906510343583318,
          -0.9170427735025761,
          -1.0458439231905345,
          -0.7816136347106549,
          -0.787388565918785,
          -0.887405017072128,
          -0.8062879603228603,
          -0.6085443607351539,
          -0.8941372893520255,
          -0.6678134779897577,
          -0.8030069829625284,
          -0.8835831385968372,
          -0.17595109330802886,
          -0.1011673312317596,
          -0.3105942301008266,
          -0.32847174872002405,
          -0.25213093275322973
         ],
         "z": [
          0.24342059514925674,
          0.7282914332210172,
          0.3566698217663277,
          -0.05462365164520132,
          0.2581974162363736,
          0.5243285936542926,
          -0.1231684362147447,
          0.029923320287258023,
          1.1787753400550287,
          1.088091357455928,
          0.5024714976498015,
          1.3286404668351297,
          1.1311629816445588,
          0.9357039431097325,
          1.083336353439632,
          0.9641677365438228,
          1.038651894721689,
          1.6113644768732514,
          1.445603231443064,
          1.2244871352483977
         ]
        },
        {
         "marker": {
          "size": 5
         },
         "mode": "markers",
         "name": "1",
         "type": "scatter3d",
         "x": [
          -0.7839039673620989,
          -0.6707020354381948,
          -0.6691752431380324,
          -0.6816177881145178,
          -0.7228742217611994,
          -0.6181954329436884,
          -0.6126248616873262,
          -0.5760736522284975,
          -0.5246947098551743,
          -0.5895810613352455,
          -0.6769582368294591,
          -0.651245369901977,
          -0.5883580547437537,
          -0.5831262364631031,
          -0.6234828014078343,
          -0.5670246555479178,
          -0.6031151618757673,
          -0.5615585102019601,
          -0.5782271938656377,
          -0.5509613780801129,
          -0.5856813790115447,
          -0.5254328703098697,
          -0.6260058628394741,
          -0.6485880741393114,
          -0.5989997517495843,
          -0.6064714095692536,
          -0.710518208150369,
          -0.7348073571567324,
          -0.5917427320058166,
          -0.6938466399287135,
          -0.6316329938313657,
          -0.5642099382177322,
          -0.5962215049626114,
          -0.5740949600296475
         ],
         "y": [
          -1.2106259122809695,
          -1.2237616500391844,
          -1.3122434560263765,
          -1.064585074945378,
          -1.2837009525060619,
          -1.0549225022601232,
          -1.2881104903422367,
          -1.2397929384968949,
          -1.0657014823085051,
          -1.3537495930243628,
          -1.2740437621373464,
          -1.1676304096946923,
          -1.282929587394784,
          -0.8781348175918803,
          -0.961279987538851,
          -1.227033523719272,
          -1.2261283009832784,
          -1.251479802658065,
          -1.2833622124411252,
          -0.7212335721111007,
          -1.4000034066073046,
          -1.2731341067584185,
          -1.064507528631691,
          -1.2802950621658105,
          -0.798645378455959,
          -1.1518133433473239,
          -1.208551628156878,
          -1.1693622863588589,
          -1.180483930078048,
          -1.1928355004996682,
          -1.1036404950506102,
          -1.0105429777713846,
          -1.031291213806652,
          -0.9675466010906324
         ],
         "z": [
          -1.114657014325191,
          -1.1047625743194278,
          -0.9330463831133154,
          -1.162572025139125,
          -0.8073528739544159,
          -0.9131441949552643,
          -1.1580239109923036,
          -1.5456068959585274,
          -1.8338371261396031,
          -1.103485628146077,
          -1.4778959763945483,
          -1.1442957786364523,
          -1.5257892620662146,
          -1.7843323204998247,
          -1.4425468942958368,
          -1.055919066322396,
          -1.3960127451438809,
          -1.272758671103158,
          -1.4517877613494365,
          -1.845577761534724,
          -1.1561181482725262,
          -1.0619807313684182,
          -1.335014410660609,
          -0.9730337779148567,
          -1.3320477722895203,
          -1.3816830754228917,
          -1.1670419480827765,
          -1.310433002451224,
          -1.5469523175981488,
          -0.8700789360048506,
          -1.4263193476865506,
          -1.2951924825317902,
          -1.1520231780751988,
          -1.4233739991858054
         ]
        },
        {
         "marker": {
          "size": 5
         },
         "mode": "markers",
         "name": "2",
         "type": "scatter3d",
         "x": [
          -0.5536770924327143,
          -0.6881950989432151,
          -0.6888007531181636,
          -0.6651059194827839,
          -0.6005985735491234,
          -0.6701648373002458,
          -0.5421945552052269,
          -0.7097247908884088,
          -0.5388081633087185,
          -0.7080454390035295,
          -0.6535316443273318,
          -0.6594784985614204,
          -0.6865961869776273,
          -0.7174374554750337,
          -0.5989365338194031,
          -0.681102114031526,
          -0.555018773178262,
          -0.5678065621361266,
          -0.5433159467101747,
          -0.5307265389027536,
          -0.5204847336523648,
          -0.560081534177529,
          -0.4701241575744581,
          -0.6887251176848473,
          -0.5623559805142019,
          -0.4410611451575902,
          -0.4410551684786598,
          -0.6789364527678021,
          -0.6742877166956821,
          -0.4749012394378939,
          -0.48218173991667207,
          -0.5081349493133506,
          -0.4644894099708087,
          -0.47675988730576785,
          -0.4573609782782627,
          -0.4905782354754522,
          -0.6724162612105202,
          -0.694979527145473,
          -0.6999891955989634
         ],
         "y": [
          -0.6762913861638065,
          -0.919342224607266,
          0.11270634220651674,
          -0.22330160960955336,
          -0.48117178742789246,
          0.1664325404930697,
          -0.2842784428939539,
          0.08377059914873429,
          -0.6767331948830241,
          0.06079333437322551,
          -0.5856330182317289,
          0.21969415583780866,
          -0.4827531833537271,
          0.11522805598907168,
          -0.47124114928302513,
          -0.11507595669964728,
          -0.19716011979115772,
          -0.9137372530375455,
          -0.9039820598649396,
          -0.13322454698591224,
          -0.7988739446039698,
          -0.8535416572025363,
          -0.8604226351985529,
          -0.5905448403481751,
          0.038620153686398075,
          -0.8374275764808201,
          -0.9312560958078038,
          -0.6799321225183522,
          -0.6203303013362192,
          -0.42851807613270615,
          -0.4291121829782768,
          -0.05522580467431653,
          -0.617165696074897,
          -0.5623679155106291,
          -0.6605801733738209,
          -0.2688346671905568,
          -0.028006500681982068,
          0.9958654676005518,
          0.8695560890809844
         ],
         "z": [
          1.6411582727871339,
          1.1730486128421747,
          1.1593829209857374,
          1.00819479044129,
          1.4325859790945297,
          0.948422069526681,
          0.4796826596622351,
          1.2180392471967643,
          1.5086455064018913,
          1.1781440657439202,
          1.4250297797462224,
          0.8457107400766031,
          1.3353311516577235,
          1.212595847087323,
          1.1923267098659833,
          1.4181906757253777,
          1.5790870980927811,
          1.9174324807200933,
          1.6608942638233046,
          1.1237875273854059,
          1.7512472903096266,
          2.077634685777519,
          2.1188663990210217,
          1.3132729048323344,
          1.2188900150665258,
          2.0168004765329544,
          2.198440463496719,
          1.466395374254367,
          0.6915671362968726,
          0.5893249536541676,
          0.5361275822588855,
          -0.39236538360683176,
          1.0629558513353246,
          0.9343679980352569,
          1.1973411283169815,
          0.13059169757000905,
          0.26324562900886134,
          -1.6159270411399753,
          -1.1494144055583333
         ]
        },
        {
         "marker": {
          "size": 5
         },
         "mode": "markers",
         "name": "3",
         "type": "scatter3d",
         "x": [
          -1.1528079475610375,
          -1.161600981697713,
          -1.148454437267562,
          -1.2074440413322491,
          -1.3085240563362623,
          -1.2234040727301692,
          -1.1414480206472284,
          -1.1373601084161489,
          -1.178816507212754,
          -1.2060922495684314,
          -1.1711464820369535,
          -1.3221307273887497,
          -1.0160468492574442,
          -1.0810138609280855,
          -1.4287761962970065,
          -1.3625242236719433,
          -1.350163067359462,
          -1.395425901204041,
          -1.4287761962970065,
          -1.350163067359462,
          -1.395425901204041,
          -1.3625242236719433,
          -1.3089942740018812,
          -1.3505506007386223,
          -1.3261179717788298,
          -1.3969738909470208
         ],
         "y": [
          1.6652814252408066,
          1.7336208491456777,
          1.6627404588674946,
          1.4375502270236657,
          1.7353955690247516,
          1.4270087654170245,
          1.7503459359404674,
          1.6979038152054928,
          1.9327844079544076,
          1.5978464009078337,
          1.9874897287477948,
          2.0278825238845326,
          2.0131266075527625,
          2.1180062521709226,
          2.134580115736782,
          2.267368360139262,
          2.006304824821388,
          2.1560678501326374,
          2.134580115736782,
          2.006304824821388,
          2.1560678501326374,
          2.267368360139262,
          2.196969860900216,
          2.24912555837456,
          2.448238393995241,
          2.3591129862935056
         ],
         "z": [
          -0.39320009509599224,
          -0.5788358729876425,
          -0.46634106044618306,
          0.5639877410732286,
          -0.005689857713088713,
          0.6565693264551329,
          -0.47382783471149104,
          0.5755739600472034,
          -0.043332302247032564,
          0.6364267037164613,
          -0.49241044734088024,
          -0.058927776677374324,
          -2.066137791467695,
          -2.044522168073592,
          -0.03535767806562002,
          -0.009642743882169626,
          -0.09265608011358116,
          0.4267629592758193,
          -0.03535767806562002,
          -0.09265608011358116,
          0.4267629592758193,
          -0.009642743882169626,
          0.15893677277600382,
          0.13477282018741127,
          -0.3230532144185536,
          -0.027990204888324394
         ]
        },
        {
         "marker": {
          "size": 5
         },
         "mode": "markers",
         "name": "4",
         "type": "scatter3d",
         "x": [
          1.355011994083587,
          1.3149691148717135,
          1.5427060526201721,
          1.570125311913703,
          1.4043230132467377,
          1.427576787588135,
          1.5462407226257455,
          1.3583151592281497,
          1.5029754796747659,
          1.3647417620225615,
          1.450052040214887,
          1.4924746760093304,
          1.391834738519418,
          1.536192239513637,
          1.5239175443366642,
          1.4823894401423057,
          1.5065355049496656,
          1.6085790713261474,
          1.4502874740195928,
          1.5321992393777504,
          1.329362505757647,
          1.386208656023163,
          1.3408806134129332,
          1.5535530794431953,
          1.4332556721137937,
          1.5127513141396784,
          1.4612282485842831,
          1.0884279639962087,
          0.4948137130887639,
          0.4503490547726078,
          1.4774525304002393,
          1.3209116522166793,
          1.652787925166354
         ],
         "y": [
          0.32814143954449604,
          0.3752835194131693,
          0.2728480842396148,
          0.2965737296462478,
          0.30518746117242807,
          0.33858958053921456,
          0.26111851129089125,
          0.30957213181593507,
          0.30346535882987574,
          0.4543894628915678,
          0.34261665007835296,
          0.24415680364064385,
          0.287189243338216,
          0.33941262733009026,
          0.2973714837095838,
          0.2839257144898518,
          0.3186564164521285,
          0.25660644900799756,
          0.36034799460269873,
          0.3139101428551269,
          0.38541668776814036,
          0.3042461703572207,
          0.4055329502672465,
          0.274914861689225,
          0.3673602474992463,
          0.31829853500587496,
          0.3042541971898968,
          0.5725331173421504,
          1.0133949928870318,
          0.969166873926715,
          0.2821570539251291,
          -0.0111968361003553,
          0.20122221223537035
         ],
         "z": [
          -0.8772278580354161,
          -0.8192243200463027,
          -0.5684669038828879,
          -0.4013554583564394,
          -0.7458089208373897,
          -0.6834344450245311,
          -0.6586318351864106,
          -0.6355558220171594,
          -0.2723636364283362,
          -0.48861957639176484,
          -0.5016142884800782,
          -0.3697264650608827,
          -0.890858932531875,
          -0.3239125520861297,
          -0.5312886031652817,
          -0.6086462148174477,
          -0.8090387657313489,
          -0.42813195263131726,
          -0.6836989596485178,
          -0.605727972853336,
          -0.4880007383204615,
          -0.42068881521101537,
          -0.8185945629515419,
          -0.5684339310365433,
          -0.8013962965652078,
          -0.5262167846344327,
          -0.4167415548115252,
          -0.9642803020041348,
          -2.102545318887176,
          -2.120302167739295,
          -0.09603343917935717,
          0.7778505917513975,
          0.16863130175410007
         ]
        },
        {
         "marker": {
          "size": 5
         },
         "mode": "markers",
         "name": "5",
         "type": "scatter3d",
         "x": [
          1.0140638866648035,
          1.2626307435847308,
          0.7547139503958953,
          1.1943645032725552,
          0.7540381852982921,
          1.1278226815936725,
          1.0694909695143417,
          1.3147170632177876,
          0.9713325250196191,
          0.8639280873777816,
          1.4408991740572348,
          1.4345011367821139,
          1.4552986613037746,
          1.470316584335254,
          1.5638173045159889,
          1.1561406109184067,
          1.2989712366996258,
          1.4103182253712796,
          1.267714621353281,
          1.297381738161784,
          1.2508366773430442,
          1.2602663599130772,
          1.0766786576309944,
          1.2171577538132017,
          1.1951672756462193,
          1.2961083281435546,
          0.987845078168513,
          1.0884383027681284,
          1.1754194744873891,
          1.2392443674570917,
          1.1942575382057983
         ],
         "y": [
          0.2576605555122831,
          0.30399254928918495,
          0.7064752208062436,
          0.10191642924270972,
          0.532267106235756,
          0.383201151752668,
          0.4116652862001389,
          0.3732445574951917,
          0.2927856783935109,
          0.3641141425869963,
          0.3793694866930051,
          0.279453478792559,
          0.3225372768956281,
          0.3504121764465503,
          0.26121576993631224,
          0.23419523105599468,
          0.28924154691536885,
          0.3389858987390162,
          0.27078909138284185,
          0.3324889739790915,
          0.14376217305007424,
          0.2090360956459182,
          0.2789539305909884,
          0.2493351248473477,
          0.22166598949207605,
          0.2032967258011568,
          0.23193174604965947,
          0.292870433560988,
          0.3867759364368719,
          0.3571936717144712,
          0.3253661601956773
         ],
         "z": [
          0.20189875216638956,
          0.1743207650662388,
          -0.7829649961301551,
          0.8637257345388379,
          -0.8235503983999682,
          0.11112268799399089,
          0.06589630299938265,
          0.46110654348442154,
          0.24064020572583927,
          -0.032847647287841085,
          0.22999185702773633,
          0.48409765508225694,
          0.5743379557027689,
          0.42087126120988044,
          0.6424390878552217,
          0.4983817446145229,
          0.6246935435198128,
          0.49044177596638755,
          0.6685603691532986,
          0.716489920554055,
          1.160905208004032,
          0.7288195832292019,
          0.20218277395403328,
          0.630215333838688,
          0.80558110409897,
          0.7460984919020295,
          0.5108387702818608,
          0.5216246237966689,
          0.3037102123333313,
          0.17685430732154706,
          -0.01122113539473749
         ]
        },
        {
         "marker": {
          "size": 5
         },
         "mode": "markers",
         "name": "6",
         "type": "scatter3d",
         "x": [
          -0.5021371059527342,
          -0.41239225423809417,
          -0.6584491387326344,
          -0.7281590428940571,
          -0.7561239731355339,
          -0.862277251927697
         ],
         "y": [
          -1.4829658736658047,
          -1.3137603643888092,
          -1.1397246924499465,
          -0.9140278374479094,
          -0.6288905945896476,
          -0.5678122504422766
         ],
         "z": [
          0.4334208373982842,
          0.24570860187305507,
          -0.3056863752711856,
          -0.3508145961574626,
          -0.6733349515630676,
          -0.8625326919219549
         ]
        }
       ],
       "layout": {
        "height": 600,
        "scene": {
         "xaxis": {
          "title": {
           "text": "comp 0"
          }
         },
         "yaxis": {
          "title": {
           "text": "comp 1"
          }
         },
         "zaxis": {
          "title": {
           "text": "comp 2"
          }
         }
        },
        "template": {
         "data": {
          "bar": [
           {
            "error_x": {
             "color": "#2a3f5f"
            },
            "error_y": {
             "color": "#2a3f5f"
            },
            "marker": {
             "line": {
              "color": "#E5ECF6",
              "width": 0.5
             },
             "pattern": {
              "fillmode": "overlay",
              "size": 10,
              "solidity": 0.2
             }
            },
            "type": "bar"
           }
          ],
          "barpolar": [
           {
            "marker": {
             "line": {
              "color": "#E5ECF6",
              "width": 0.5
             },
             "pattern": {
              "fillmode": "overlay",
              "size": 10,
              "solidity": 0.2
             }
            },
            "type": "barpolar"
           }
          ],
          "carpet": [
           {
            "aaxis": {
             "endlinecolor": "#2a3f5f",
             "gridcolor": "white",
             "linecolor": "white",
             "minorgridcolor": "white",
             "startlinecolor": "#2a3f5f"
            },
            "baxis": {
             "endlinecolor": "#2a3f5f",
             "gridcolor": "white",
             "linecolor": "white",
             "minorgridcolor": "white",
             "startlinecolor": "#2a3f5f"
            },
            "type": "carpet"
           }
          ],
          "choropleth": [
           {
            "colorbar": {
             "outlinewidth": 0,
             "ticks": ""
            },
            "type": "choropleth"
           }
          ],
          "contour": [
           {
            "colorbar": {
             "outlinewidth": 0,
             "ticks": ""
            },
            "colorscale": [
             [
              0,
              "#0d0887"
             ],
             [
              0.1111111111111111,
              "#46039f"
             ],
             [
              0.2222222222222222,
              "#7201a8"
             ],
             [
              0.3333333333333333,
              "#9c179e"
             ],
             [
              0.4444444444444444,
              "#bd3786"
             ],
             [
              0.5555555555555556,
              "#d8576b"
             ],
             [
              0.6666666666666666,
              "#ed7953"
             ],
             [
              0.7777777777777778,
              "#fb9f3a"
             ],
             [
              0.8888888888888888,
              "#fdca26"
             ],
             [
              1,
              "#f0f921"
             ]
            ],
            "type": "contour"
           }
          ],
          "contourcarpet": [
           {
            "colorbar": {
             "outlinewidth": 0,
             "ticks": ""
            },
            "type": "contourcarpet"
           }
          ],
          "heatmap": [
           {
            "colorbar": {
             "outlinewidth": 0,
             "ticks": ""
            },
            "colorscale": [
             [
              0,
              "#0d0887"
             ],
             [
              0.1111111111111111,
              "#46039f"
             ],
             [
              0.2222222222222222,
              "#7201a8"
             ],
             [
              0.3333333333333333,
              "#9c179e"
             ],
             [
              0.4444444444444444,
              "#bd3786"
             ],
             [
              0.5555555555555556,
              "#d8576b"
             ],
             [
              0.6666666666666666,
              "#ed7953"
             ],
             [
              0.7777777777777778,
              "#fb9f3a"
             ],
             [
              0.8888888888888888,
              "#fdca26"
             ],
             [
              1,
              "#f0f921"
             ]
            ],
            "type": "heatmap"
           }
          ],
          "heatmapgl": [
           {
            "colorbar": {
             "outlinewidth": 0,
             "ticks": ""
            },
            "colorscale": [
             [
              0,
              "#0d0887"
             ],
             [
              0.1111111111111111,
              "#46039f"
             ],
             [
              0.2222222222222222,
              "#7201a8"
             ],
             [
              0.3333333333333333,
              "#9c179e"
             ],
             [
              0.4444444444444444,
              "#bd3786"
             ],
             [
              0.5555555555555556,
              "#d8576b"
             ],
             [
              0.6666666666666666,
              "#ed7953"
             ],
             [
              0.7777777777777778,
              "#fb9f3a"
             ],
             [
              0.8888888888888888,
              "#fdca26"
             ],
             [
              1,
              "#f0f921"
             ]
            ],
            "type": "heatmapgl"
           }
          ],
          "histogram": [
           {
            "marker": {
             "pattern": {
              "fillmode": "overlay",
              "size": 10,
              "solidity": 0.2
             }
            },
            "type": "histogram"
           }
          ],
          "histogram2d": [
           {
            "colorbar": {
             "outlinewidth": 0,
             "ticks": ""
            },
            "colorscale": [
             [
              0,
              "#0d0887"
             ],
             [
              0.1111111111111111,
              "#46039f"
             ],
             [
              0.2222222222222222,
              "#7201a8"
             ],
             [
              0.3333333333333333,
              "#9c179e"
             ],
             [
              0.4444444444444444,
              "#bd3786"
             ],
             [
              0.5555555555555556,
              "#d8576b"
             ],
             [
              0.6666666666666666,
              "#ed7953"
             ],
             [
              0.7777777777777778,
              "#fb9f3a"
             ],
             [
              0.8888888888888888,
              "#fdca26"
             ],
             [
              1,
              "#f0f921"
             ]
            ],
            "type": "histogram2d"
           }
          ],
          "histogram2dcontour": [
           {
            "colorbar": {
             "outlinewidth": 0,
             "ticks": ""
            },
            "colorscale": [
             [
              0,
              "#0d0887"
             ],
             [
              0.1111111111111111,
              "#46039f"
             ],
             [
              0.2222222222222222,
              "#7201a8"
             ],
             [
              0.3333333333333333,
              "#9c179e"
             ],
             [
              0.4444444444444444,
              "#bd3786"
             ],
             [
              0.5555555555555556,
              "#d8576b"
             ],
             [
              0.6666666666666666,
              "#ed7953"
             ],
             [
              0.7777777777777778,
              "#fb9f3a"
             ],
             [
              0.8888888888888888,
              "#fdca26"
             ],
             [
              1,
              "#f0f921"
             ]
            ],
            "type": "histogram2dcontour"
           }
          ],
          "mesh3d": [
           {
            "colorbar": {
             "outlinewidth": 0,
             "ticks": ""
            },
            "type": "mesh3d"
           }
          ],
          "parcoords": [
           {
            "line": {
             "colorbar": {
              "outlinewidth": 0,
              "ticks": ""
             }
            },
            "type": "parcoords"
           }
          ],
          "pie": [
           {
            "automargin": true,
            "type": "pie"
           }
          ],
          "scatter": [
           {
            "marker": {
             "colorbar": {
              "outlinewidth": 0,
              "ticks": ""
             }
            },
            "type": "scatter"
           }
          ],
          "scatter3d": [
           {
            "line": {
             "colorbar": {
              "outlinewidth": 0,
              "ticks": ""
             }
            },
            "marker": {
             "colorbar": {
              "outlinewidth": 0,
              "ticks": ""
             }
            },
            "type": "scatter3d"
           }
          ],
          "scattercarpet": [
           {
            "marker": {
             "colorbar": {
              "outlinewidth": 0,
              "ticks": ""
             }
            },
            "type": "scattercarpet"
           }
          ],
          "scattergeo": [
           {
            "marker": {
             "colorbar": {
              "outlinewidth": 0,
              "ticks": ""
             }
            },
            "type": "scattergeo"
           }
          ],
          "scattergl": [
           {
            "marker": {
             "colorbar": {
              "outlinewidth": 0,
              "ticks": ""
             }
            },
            "type": "scattergl"
           }
          ],
          "scattermapbox": [
           {
            "marker": {
             "colorbar": {
              "outlinewidth": 0,
              "ticks": ""
             }
            },
            "type": "scattermapbox"
           }
          ],
          "scatterpolar": [
           {
            "marker": {
             "colorbar": {
              "outlinewidth": 0,
              "ticks": ""
             }
            },
            "type": "scatterpolar"
           }
          ],
          "scatterpolargl": [
           {
            "marker": {
             "colorbar": {
              "outlinewidth": 0,
              "ticks": ""
             }
            },
            "type": "scatterpolargl"
           }
          ],
          "scatterternary": [
           {
            "marker": {
             "colorbar": {
              "outlinewidth": 0,
              "ticks": ""
             }
            },
            "type": "scatterternary"
           }
          ],
          "surface": [
           {
            "colorbar": {
             "outlinewidth": 0,
             "ticks": ""
            },
            "colorscale": [
             [
              0,
              "#0d0887"
             ],
             [
              0.1111111111111111,
              "#46039f"
             ],
             [
              0.2222222222222222,
              "#7201a8"
             ],
             [
              0.3333333333333333,
              "#9c179e"
             ],
             [
              0.4444444444444444,
              "#bd3786"
             ],
             [
              0.5555555555555556,
              "#d8576b"
             ],
             [
              0.6666666666666666,
              "#ed7953"
             ],
             [
              0.7777777777777778,
              "#fb9f3a"
             ],
             [
              0.8888888888888888,
              "#fdca26"
             ],
             [
              1,
              "#f0f921"
             ]
            ],
            "type": "surface"
           }
          ],
          "table": [
           {
            "cells": {
             "fill": {
              "color": "#EBF0F8"
             },
             "line": {
              "color": "white"
             }
            },
            "header": {
             "fill": {
              "color": "#C8D4E3"
             },
             "line": {
              "color": "white"
             }
            },
            "type": "table"
           }
          ]
         },
         "layout": {
          "annotationdefaults": {
           "arrowcolor": "#2a3f5f",
           "arrowhead": 0,
           "arrowwidth": 1
          },
          "autotypenumbers": "strict",
          "coloraxis": {
           "colorbar": {
            "outlinewidth": 0,
            "ticks": ""
           }
          },
          "colorscale": {
           "diverging": [
            [
             0,
             "#8e0152"
            ],
            [
             0.1,
             "#c51b7d"
            ],
            [
             0.2,
             "#de77ae"
            ],
            [
             0.3,
             "#f1b6da"
            ],
            [
             0.4,
             "#fde0ef"
            ],
            [
             0.5,
             "#f7f7f7"
            ],
            [
             0.6,
             "#e6f5d0"
            ],
            [
             0.7,
             "#b8e186"
            ],
            [
             0.8,
             "#7fbc41"
            ],
            [
             0.9,
             "#4d9221"
            ],
            [
             1,
             "#276419"
            ]
           ],
           "sequential": [
            [
             0,
             "#0d0887"
            ],
            [
             0.1111111111111111,
             "#46039f"
            ],
            [
             0.2222222222222222,
             "#7201a8"
            ],
            [
             0.3333333333333333,
             "#9c179e"
            ],
            [
             0.4444444444444444,
             "#bd3786"
            ],
            [
             0.5555555555555556,
             "#d8576b"
            ],
            [
             0.6666666666666666,
             "#ed7953"
            ],
            [
             0.7777777777777778,
             "#fb9f3a"
            ],
            [
             0.8888888888888888,
             "#fdca26"
            ],
            [
             1,
             "#f0f921"
            ]
           ],
           "sequentialminus": [
            [
             0,
             "#0d0887"
            ],
            [
             0.1111111111111111,
             "#46039f"
            ],
            [
             0.2222222222222222,
             "#7201a8"
            ],
            [
             0.3333333333333333,
             "#9c179e"
            ],
            [
             0.4444444444444444,
             "#bd3786"
            ],
            [
             0.5555555555555556,
             "#d8576b"
            ],
            [
             0.6666666666666666,
             "#ed7953"
            ],
            [
             0.7777777777777778,
             "#fb9f3a"
            ],
            [
             0.8888888888888888,
             "#fdca26"
            ],
            [
             1,
             "#f0f921"
            ]
           ]
          },
          "colorway": [
           "#636efa",
           "#EF553B",
           "#00cc96",
           "#ab63fa",
           "#FFA15A",
           "#19d3f3",
           "#FF6692",
           "#B6E880",
           "#FF97FF",
           "#FECB52"
          ],
          "font": {
           "color": "#2a3f5f"
          },
          "geo": {
           "bgcolor": "white",
           "lakecolor": "white",
           "landcolor": "#E5ECF6",
           "showlakes": true,
           "showland": true,
           "subunitcolor": "white"
          },
          "hoverlabel": {
           "align": "left"
          },
          "hovermode": "closest",
          "mapbox": {
           "style": "light"
          },
          "paper_bgcolor": "white",
          "plot_bgcolor": "#E5ECF6",
          "polar": {
           "angularaxis": {
            "gridcolor": "white",
            "linecolor": "white",
            "ticks": ""
           },
           "bgcolor": "#E5ECF6",
           "radialaxis": {
            "gridcolor": "white",
            "linecolor": "white",
            "ticks": ""
           }
          },
          "scene": {
           "xaxis": {
            "backgroundcolor": "#E5ECF6",
            "gridcolor": "white",
            "gridwidth": 2,
            "linecolor": "white",
            "showbackground": true,
            "ticks": "",
            "zerolinecolor": "white"
           },
           "yaxis": {
            "backgroundcolor": "#E5ECF6",
            "gridcolor": "white",
            "gridwidth": 2,
            "linecolor": "white",
            "showbackground": true,
            "ticks": "",
            "zerolinecolor": "white"
           },
           "zaxis": {
            "backgroundcolor": "#E5ECF6",
            "gridcolor": "white",
            "gridwidth": 2,
            "linecolor": "white",
            "showbackground": true,
            "ticks": "",
            "zerolinecolor": "white"
           }
          },
          "shapedefaults": {
           "line": {
            "color": "#2a3f5f"
           }
          },
          "ternary": {
           "aaxis": {
            "gridcolor": "white",
            "linecolor": "white",
            "ticks": ""
           },
           "baxis": {
            "gridcolor": "white",
            "linecolor": "white",
            "ticks": ""
           },
           "bgcolor": "#E5ECF6",
           "caxis": {
            "gridcolor": "white",
            "linecolor": "white",
            "ticks": ""
           }
          },
          "title": {
           "x": 0.05
          },
          "xaxis": {
           "automargin": true,
           "gridcolor": "white",
           "linecolor": "white",
           "ticks": "",
           "title": {
            "standoff": 15
           },
           "zerolinecolor": "white",
           "zerolinewidth": 2
          },
          "yaxis": {
           "automargin": true,
           "gridcolor": "white",
           "linecolor": "white",
           "ticks": "",
           "title": {
            "standoff": 15
           },
           "zerolinecolor": "white",
           "zerolinewidth": 2
          }
         }
        },
        "title": {
         "text": "Clusters con K-Means"
        },
        "width": 700
       }
      }
     },
     "metadata": {},
     "output_type": "display_data"
    }
   ],
   "source": [
    "plot_3d(data_reduced, kmeans_pred, 'Clusters con K-Means')"
   ]
  },
  {
   "cell_type": "markdown",
   "metadata": {},
   "source": [
    "## Gaussian Mixture Model"
   ]
  },
  {
   "cell_type": "code",
   "execution_count": 28,
   "metadata": {},
   "outputs": [
    {
     "data": {
      "text/html": [
       "<div>\n",
       "<style scoped>\n",
       "    .dataframe tbody tr th:only-of-type {\n",
       "        vertical-align: middle;\n",
       "    }\n",
       "\n",
       "    .dataframe tbody tr th {\n",
       "        vertical-align: top;\n",
       "    }\n",
       "\n",
       "    .dataframe thead th {\n",
       "        text-align: right;\n",
       "    }\n",
       "</style>\n",
       "<table border=\"1\" class=\"dataframe\">\n",
       "  <thead>\n",
       "    <tr style=\"text-align: right;\">\n",
       "      <th>cluster</th>\n",
       "      <th>0</th>\n",
       "      <th>1</th>\n",
       "      <th>2</th>\n",
       "      <th>3</th>\n",
       "      <th>4</th>\n",
       "      <th>5</th>\n",
       "      <th>6</th>\n",
       "      <th>All</th>\n",
       "    </tr>\n",
       "    <tr>\n",
       "      <th>target</th>\n",
       "      <th></th>\n",
       "      <th></th>\n",
       "      <th></th>\n",
       "      <th></th>\n",
       "      <th></th>\n",
       "      <th></th>\n",
       "      <th></th>\n",
       "      <th></th>\n",
       "    </tr>\n",
       "  </thead>\n",
       "  <tbody>\n",
       "    <tr>\n",
       "      <th>cerebellum</th>\n",
       "      <td>0</td>\n",
       "      <td>0</td>\n",
       "      <td>0</td>\n",
       "      <td>30</td>\n",
       "      <td>3</td>\n",
       "      <td>5</td>\n",
       "      <td>0</td>\n",
       "      <td>38</td>\n",
       "    </tr>\n",
       "    <tr>\n",
       "      <th>colon</th>\n",
       "      <td>0</td>\n",
       "      <td>0</td>\n",
       "      <td>32</td>\n",
       "      <td>0</td>\n",
       "      <td>0</td>\n",
       "      <td>2</td>\n",
       "      <td>0</td>\n",
       "      <td>34</td>\n",
       "    </tr>\n",
       "    <tr>\n",
       "      <th>endometrium</th>\n",
       "      <td>0</td>\n",
       "      <td>0</td>\n",
       "      <td>0</td>\n",
       "      <td>0</td>\n",
       "      <td>4</td>\n",
       "      <td>11</td>\n",
       "      <td>0</td>\n",
       "      <td>15</td>\n",
       "    </tr>\n",
       "    <tr>\n",
       "      <th>hippocampus</th>\n",
       "      <td>0</td>\n",
       "      <td>25</td>\n",
       "      <td>0</td>\n",
       "      <td>0</td>\n",
       "      <td>0</td>\n",
       "      <td>4</td>\n",
       "      <td>2</td>\n",
       "      <td>31</td>\n",
       "    </tr>\n",
       "    <tr>\n",
       "      <th>kidney</th>\n",
       "      <td>17</td>\n",
       "      <td>0</td>\n",
       "      <td>0</td>\n",
       "      <td>2</td>\n",
       "      <td>14</td>\n",
       "      <td>0</td>\n",
       "      <td>6</td>\n",
       "      <td>39</td>\n",
       "    </tr>\n",
       "    <tr>\n",
       "      <th>liver</th>\n",
       "      <td>9</td>\n",
       "      <td>15</td>\n",
       "      <td>0</td>\n",
       "      <td>2</td>\n",
       "      <td>0</td>\n",
       "      <td>0</td>\n",
       "      <td>0</td>\n",
       "      <td>26</td>\n",
       "    </tr>\n",
       "    <tr>\n",
       "      <th>placenta</th>\n",
       "      <td>0</td>\n",
       "      <td>0</td>\n",
       "      <td>6</td>\n",
       "      <td>0</td>\n",
       "      <td>0</td>\n",
       "      <td>0</td>\n",
       "      <td>0</td>\n",
       "      <td>6</td>\n",
       "    </tr>\n",
       "    <tr>\n",
       "      <th>All</th>\n",
       "      <td>26</td>\n",
       "      <td>40</td>\n",
       "      <td>38</td>\n",
       "      <td>34</td>\n",
       "      <td>21</td>\n",
       "      <td>22</td>\n",
       "      <td>8</td>\n",
       "      <td>189</td>\n",
       "    </tr>\n",
       "  </tbody>\n",
       "</table>\n",
       "</div>"
      ],
      "text/plain": [
       "cluster       0   1   2   3   4   5  6  All\n",
       "target                                     \n",
       "cerebellum    0   0   0  30   3   5  0   38\n",
       "colon         0   0  32   0   0   2  0   34\n",
       "endometrium   0   0   0   0   4  11  0   15\n",
       "hippocampus   0  25   0   0   0   4  2   31\n",
       "kidney       17   0   0   2  14   0  6   39\n",
       "liver         9  15   0   2   0   0  0   26\n",
       "placenta      0   0   6   0   0   0  0    6\n",
       "All          26  40  38  34  21  22  8  189"
      ]
     },
     "execution_count": 28,
     "metadata": {},
     "output_type": "execute_result"
    }
   ],
   "source": [
    "# Gaussian Mixture Model - implementación propia\n",
    "from gmm import GMM\n",
    "\n",
    "GMM = GMM(data_reduced, n_clusters, n_iterations=10, seed=0)\n",
    "GMM.run()\n",
    "\n",
    "data_predicted = [np.array(GMM.predict(data_reduced[i])).argmax(axis=0) for i in range(len(data_reduced))]\n",
    "\n",
    "pd.crosstab(targets, np.array(data_predicted), rownames=['target'], colnames=['cluster'], margins=True)"
   ]
  },
  {
   "cell_type": "code",
   "execution_count": 29,
   "metadata": {},
   "outputs": [
    {
     "data": {
      "text/html": [
       "<div>\n",
       "<style scoped>\n",
       "    .dataframe tbody tr th:only-of-type {\n",
       "        vertical-align: middle;\n",
       "    }\n",
       "\n",
       "    .dataframe tbody tr th {\n",
       "        vertical-align: top;\n",
       "    }\n",
       "\n",
       "    .dataframe thead th {\n",
       "        text-align: right;\n",
       "    }\n",
       "</style>\n",
       "<table border=\"1\" class=\"dataframe\">\n",
       "  <thead>\n",
       "    <tr style=\"text-align: right;\">\n",
       "      <th>cluster</th>\n",
       "      <th>0</th>\n",
       "      <th>1</th>\n",
       "      <th>2</th>\n",
       "      <th>3</th>\n",
       "      <th>4</th>\n",
       "      <th>5</th>\n",
       "      <th>6</th>\n",
       "      <th>All</th>\n",
       "    </tr>\n",
       "    <tr>\n",
       "      <th>target</th>\n",
       "      <th></th>\n",
       "      <th></th>\n",
       "      <th></th>\n",
       "      <th></th>\n",
       "      <th></th>\n",
       "      <th></th>\n",
       "      <th></th>\n",
       "      <th></th>\n",
       "    </tr>\n",
       "  </thead>\n",
       "  <tbody>\n",
       "    <tr>\n",
       "      <th>cerebellum</th>\n",
       "      <td>0</td>\n",
       "      <td>0</td>\n",
       "      <td>33</td>\n",
       "      <td>0</td>\n",
       "      <td>0</td>\n",
       "      <td>0</td>\n",
       "      <td>5</td>\n",
       "      <td>38</td>\n",
       "    </tr>\n",
       "    <tr>\n",
       "      <th>colon</th>\n",
       "      <td>0</td>\n",
       "      <td>34</td>\n",
       "      <td>0</td>\n",
       "      <td>0</td>\n",
       "      <td>0</td>\n",
       "      <td>0</td>\n",
       "      <td>0</td>\n",
       "      <td>34</td>\n",
       "    </tr>\n",
       "    <tr>\n",
       "      <th>endometrium</th>\n",
       "      <td>0</td>\n",
       "      <td>0</td>\n",
       "      <td>0</td>\n",
       "      <td>0</td>\n",
       "      <td>0</td>\n",
       "      <td>0</td>\n",
       "      <td>15</td>\n",
       "      <td>15</td>\n",
       "    </tr>\n",
       "    <tr>\n",
       "      <th>hippocampus</th>\n",
       "      <td>0</td>\n",
       "      <td>0</td>\n",
       "      <td>0</td>\n",
       "      <td>31</td>\n",
       "      <td>0</td>\n",
       "      <td>0</td>\n",
       "      <td>0</td>\n",
       "      <td>31</td>\n",
       "    </tr>\n",
       "    <tr>\n",
       "      <th>kidney</th>\n",
       "      <td>0</td>\n",
       "      <td>0</td>\n",
       "      <td>0</td>\n",
       "      <td>0</td>\n",
       "      <td>39</td>\n",
       "      <td>0</td>\n",
       "      <td>0</td>\n",
       "      <td>39</td>\n",
       "    </tr>\n",
       "    <tr>\n",
       "      <th>liver</th>\n",
       "      <td>26</td>\n",
       "      <td>0</td>\n",
       "      <td>0</td>\n",
       "      <td>0</td>\n",
       "      <td>0</td>\n",
       "      <td>0</td>\n",
       "      <td>0</td>\n",
       "      <td>26</td>\n",
       "    </tr>\n",
       "    <tr>\n",
       "      <th>placenta</th>\n",
       "      <td>0</td>\n",
       "      <td>0</td>\n",
       "      <td>0</td>\n",
       "      <td>0</td>\n",
       "      <td>0</td>\n",
       "      <td>6</td>\n",
       "      <td>0</td>\n",
       "      <td>6</td>\n",
       "    </tr>\n",
       "    <tr>\n",
       "      <th>All</th>\n",
       "      <td>26</td>\n",
       "      <td>34</td>\n",
       "      <td>33</td>\n",
       "      <td>31</td>\n",
       "      <td>39</td>\n",
       "      <td>6</td>\n",
       "      <td>20</td>\n",
       "      <td>189</td>\n",
       "    </tr>\n",
       "  </tbody>\n",
       "</table>\n",
       "</div>"
      ],
      "text/plain": [
       "cluster       0   1   2   3   4  5   6  All\n",
       "target                                     \n",
       "cerebellum    0   0  33   0   0  0   5   38\n",
       "colon         0  34   0   0   0  0   0   34\n",
       "endometrium   0   0   0   0   0  0  15   15\n",
       "hippocampus   0   0   0  31   0  0   0   31\n",
       "kidney        0   0   0   0  39  0   0   39\n",
       "liver        26   0   0   0   0  0   0   26\n",
       "placenta      0   0   0   0   0  6   0    6\n",
       "All          26  34  33  31  39  6  20  189"
      ]
     },
     "execution_count": 29,
     "metadata": {},
     "output_type": "execute_result"
    }
   ],
   "source": [
    "# Gaussian Mixture Model - implementación de sklearn\n",
    "from sklearn.mixture import GaussianMixture\n",
    "\n",
    "gm = GaussianMixture(n_components=n_clusters, random_state=0).fit(data_reduced)\n",
    "gmm_predic = gm.predict(data_reduced)\n",
    "\n",
    "pd.crosstab(targets, gmm_predic, rownames=['target'], colnames=['cluster'], margins=True)"
   ]
  },
  {
   "cell_type": "code",
   "execution_count": 30,
   "metadata": {},
   "outputs": [
    {
     "data": {
      "application/vnd.plotly.v1+json": {
       "config": {
        "linkText": "Export to plot.ly",
        "plotlyServerURL": "https://plot.ly",
        "showLink": false
       },
       "data": [
        {
         "marker": {
          "size": 5
         },
         "mode": "markers",
         "name": "0",
         "type": "scatter3d",
         "x": [
          -1.1528079475610375,
          -1.161600981697713,
          -1.148454437267562,
          -1.2074440413322491,
          -1.3085240563362623,
          -1.2234040727301692,
          -1.1414480206472284,
          -1.1373601084161489,
          -1.178816507212754,
          -1.2060922495684314,
          -1.1711464820369535,
          -1.3221307273887497,
          -1.0160468492574442,
          -1.0810138609280855,
          -1.4287761962970065,
          -1.3625242236719433,
          -1.350163067359462,
          -1.395425901204041,
          -1.4287761962970065,
          -1.350163067359462,
          -1.395425901204041,
          -1.3625242236719433,
          -1.3089942740018812,
          -1.3505506007386223,
          -1.3261179717788298,
          -1.3969738909470208
         ],
         "y": [
          1.6652814252408066,
          1.7336208491456777,
          1.6627404588674946,
          1.4375502270236657,
          1.7353955690247516,
          1.4270087654170245,
          1.7503459359404674,
          1.6979038152054928,
          1.9327844079544076,
          1.5978464009078337,
          1.9874897287477948,
          2.0278825238845326,
          2.0131266075527625,
          2.1180062521709226,
          2.134580115736782,
          2.267368360139262,
          2.006304824821388,
          2.1560678501326374,
          2.134580115736782,
          2.006304824821388,
          2.1560678501326374,
          2.267368360139262,
          2.196969860900216,
          2.24912555837456,
          2.448238393995241,
          2.3591129862935056
         ],
         "z": [
          -0.39320009509599224,
          -0.5788358729876425,
          -0.46634106044618306,
          0.5639877410732286,
          -0.005689857713088713,
          0.6565693264551329,
          -0.47382783471149104,
          0.5755739600472034,
          -0.043332302247032564,
          0.6364267037164613,
          -0.49241044734088024,
          -0.058927776677374324,
          -2.066137791467695,
          -2.044522168073592,
          -0.03535767806562002,
          -0.009642743882169626,
          -0.09265608011358116,
          0.4267629592758193,
          -0.03535767806562002,
          -0.09265608011358116,
          0.4267629592758193,
          -0.009642743882169626,
          0.15893677277600382,
          0.13477282018741127,
          -0.3230532144185536,
          -0.027990204888324394
         ]
        },
        {
         "marker": {
          "size": 5
         },
         "mode": "markers",
         "name": "1",
         "type": "scatter3d",
         "x": [
          -0.7839039673620989,
          -0.6707020354381948,
          -0.6691752431380324,
          -0.6816177881145178,
          -0.7228742217611994,
          -0.6181954329436884,
          -0.6126248616873262,
          -0.5760736522284975,
          -0.5246947098551743,
          -0.5895810613352455,
          -0.6769582368294591,
          -0.651245369901977,
          -0.5883580547437537,
          -0.5831262364631031,
          -0.6234828014078343,
          -0.5670246555479178,
          -0.6031151618757673,
          -0.5615585102019601,
          -0.5782271938656377,
          -0.5509613780801129,
          -0.5856813790115447,
          -0.5254328703098697,
          -0.6260058628394741,
          -0.6485880741393114,
          -0.5989997517495843,
          -0.6064714095692536,
          -0.710518208150369,
          -0.7348073571567324,
          -0.5917427320058166,
          -0.6938466399287135,
          -0.6316329938313657,
          -0.5642099382177322,
          -0.5962215049626114,
          -0.5740949600296475
         ],
         "y": [
          -1.2106259122809695,
          -1.2237616500391844,
          -1.3122434560263765,
          -1.064585074945378,
          -1.2837009525060619,
          -1.0549225022601232,
          -1.2881104903422367,
          -1.2397929384968949,
          -1.0657014823085051,
          -1.3537495930243628,
          -1.2740437621373464,
          -1.1676304096946923,
          -1.282929587394784,
          -0.8781348175918803,
          -0.961279987538851,
          -1.227033523719272,
          -1.2261283009832784,
          -1.251479802658065,
          -1.2833622124411252,
          -0.7212335721111007,
          -1.4000034066073046,
          -1.2731341067584185,
          -1.064507528631691,
          -1.2802950621658105,
          -0.798645378455959,
          -1.1518133433473239,
          -1.208551628156878,
          -1.1693622863588589,
          -1.180483930078048,
          -1.1928355004996682,
          -1.1036404950506102,
          -1.0105429777713846,
          -1.031291213806652,
          -0.9675466010906324
         ],
         "z": [
          -1.114657014325191,
          -1.1047625743194278,
          -0.9330463831133154,
          -1.162572025139125,
          -0.8073528739544159,
          -0.9131441949552643,
          -1.1580239109923036,
          -1.5456068959585274,
          -1.8338371261396031,
          -1.103485628146077,
          -1.4778959763945483,
          -1.1442957786364523,
          -1.5257892620662146,
          -1.7843323204998247,
          -1.4425468942958368,
          -1.055919066322396,
          -1.3960127451438809,
          -1.272758671103158,
          -1.4517877613494365,
          -1.845577761534724,
          -1.1561181482725262,
          -1.0619807313684182,
          -1.335014410660609,
          -0.9730337779148567,
          -1.3320477722895203,
          -1.3816830754228917,
          -1.1670419480827765,
          -1.310433002451224,
          -1.5469523175981488,
          -0.8700789360048506,
          -1.4263193476865506,
          -1.2951924825317902,
          -1.1520231780751988,
          -1.4233739991858054
         ]
        },
        {
         "marker": {
          "size": 5
         },
         "mode": "markers",
         "name": "2",
         "type": "scatter3d",
         "x": [
          1.355011994083587,
          1.3149691148717135,
          1.5427060526201721,
          1.570125311913703,
          1.4043230132467377,
          1.427576787588135,
          1.5462407226257455,
          1.3583151592281497,
          1.5029754796747659,
          1.3647417620225615,
          1.450052040214887,
          1.4924746760093304,
          1.391834738519418,
          1.536192239513637,
          1.5239175443366642,
          1.4823894401423057,
          1.5065355049496656,
          1.6085790713261474,
          1.4502874740195928,
          1.5321992393777504,
          1.329362505757647,
          1.386208656023163,
          1.3408806134129332,
          1.5535530794431953,
          1.4332556721137937,
          1.5127513141396784,
          1.4612282485842831,
          1.0884279639962087,
          0.4948137130887639,
          0.4503490547726078,
          1.4774525304002393,
          1.3209116522166793,
          1.652787925166354
         ],
         "y": [
          0.32814143954449604,
          0.3752835194131693,
          0.2728480842396148,
          0.2965737296462478,
          0.30518746117242807,
          0.33858958053921456,
          0.26111851129089125,
          0.30957213181593507,
          0.30346535882987574,
          0.4543894628915678,
          0.34261665007835296,
          0.24415680364064385,
          0.287189243338216,
          0.33941262733009026,
          0.2973714837095838,
          0.2839257144898518,
          0.3186564164521285,
          0.25660644900799756,
          0.36034799460269873,
          0.3139101428551269,
          0.38541668776814036,
          0.3042461703572207,
          0.4055329502672465,
          0.274914861689225,
          0.3673602474992463,
          0.31829853500587496,
          0.3042541971898968,
          0.5725331173421504,
          1.0133949928870318,
          0.969166873926715,
          0.2821570539251291,
          -0.0111968361003553,
          0.20122221223537035
         ],
         "z": [
          -0.8772278580354161,
          -0.8192243200463027,
          -0.5684669038828879,
          -0.4013554583564394,
          -0.7458089208373897,
          -0.6834344450245311,
          -0.6586318351864106,
          -0.6355558220171594,
          -0.2723636364283362,
          -0.48861957639176484,
          -0.5016142884800782,
          -0.3697264650608827,
          -0.890858932531875,
          -0.3239125520861297,
          -0.5312886031652817,
          -0.6086462148174477,
          -0.8090387657313489,
          -0.42813195263131726,
          -0.6836989596485178,
          -0.605727972853336,
          -0.4880007383204615,
          -0.42068881521101537,
          -0.8185945629515419,
          -0.5684339310365433,
          -0.8013962965652078,
          -0.5262167846344327,
          -0.4167415548115252,
          -0.9642803020041348,
          -2.102545318887176,
          -2.120302167739295,
          -0.09603343917935717,
          0.7778505917513975,
          0.16863130175410007
         ]
        },
        {
         "marker": {
          "size": 5
         },
         "mode": "markers",
         "name": "3",
         "type": "scatter3d",
         "x": [
          1.0140638866648035,
          1.2626307435847308,
          0.7547139503958953,
          1.1943645032725552,
          0.7540381852982921,
          1.1278226815936725,
          1.0694909695143417,
          1.3147170632177876,
          0.9713325250196191,
          0.8639280873777816,
          1.4408991740572348,
          1.4345011367821139,
          1.4552986613037746,
          1.470316584335254,
          1.5638173045159889,
          1.1561406109184067,
          1.2989712366996258,
          1.4103182253712796,
          1.267714621353281,
          1.297381738161784,
          1.2508366773430442,
          1.2602663599130772,
          1.0766786576309944,
          1.2171577538132017,
          1.1951672756462193,
          1.2961083281435546,
          0.987845078168513,
          1.0884383027681284,
          1.1754194744873891,
          1.2392443674570917,
          1.1942575382057983
         ],
         "y": [
          0.2576605555122831,
          0.30399254928918495,
          0.7064752208062436,
          0.10191642924270972,
          0.532267106235756,
          0.383201151752668,
          0.4116652862001389,
          0.3732445574951917,
          0.2927856783935109,
          0.3641141425869963,
          0.3793694866930051,
          0.279453478792559,
          0.3225372768956281,
          0.3504121764465503,
          0.26121576993631224,
          0.23419523105599468,
          0.28924154691536885,
          0.3389858987390162,
          0.27078909138284185,
          0.3324889739790915,
          0.14376217305007424,
          0.2090360956459182,
          0.2789539305909884,
          0.2493351248473477,
          0.22166598949207605,
          0.2032967258011568,
          0.23193174604965947,
          0.292870433560988,
          0.3867759364368719,
          0.3571936717144712,
          0.3253661601956773
         ],
         "z": [
          0.20189875216638956,
          0.1743207650662388,
          -0.7829649961301551,
          0.8637257345388379,
          -0.8235503983999682,
          0.11112268799399089,
          0.06589630299938265,
          0.46110654348442154,
          0.24064020572583927,
          -0.032847647287841085,
          0.22999185702773633,
          0.48409765508225694,
          0.5743379557027689,
          0.42087126120988044,
          0.6424390878552217,
          0.4983817446145229,
          0.6246935435198128,
          0.49044177596638755,
          0.6685603691532986,
          0.716489920554055,
          1.160905208004032,
          0.7288195832292019,
          0.20218277395403328,
          0.630215333838688,
          0.80558110409897,
          0.7460984919020295,
          0.5108387702818608,
          0.5216246237966689,
          0.3037102123333313,
          0.17685430732154706,
          -0.01122113539473749
         ]
        },
        {
         "marker": {
          "size": 5
         },
         "mode": "markers",
         "name": "4",
         "type": "scatter3d",
         "x": [
          -0.5536770924327143,
          -0.6881950989432151,
          -0.6888007531181636,
          -0.6651059194827839,
          -0.6005985735491234,
          -0.6701648373002458,
          -0.5421945552052269,
          -0.7097247908884088,
          -0.5388081633087185,
          -0.7080454390035295,
          -0.6535316443273318,
          -0.6594784985614204,
          -0.6865961869776273,
          -0.7174374554750337,
          -0.5989365338194031,
          -0.681102114031526,
          -0.555018773178262,
          -0.5678065621361266,
          -0.5433159467101747,
          -0.5307265389027536,
          -0.5204847336523648,
          -0.560081534177529,
          -0.4701241575744581,
          -0.6887251176848473,
          -0.5623559805142019,
          -0.4410611451575902,
          -0.4410551684786598,
          -0.6789364527678021,
          -0.6742877166956821,
          -0.4749012394378939,
          -0.48218173991667207,
          -0.5081349493133506,
          -0.4644894099708087,
          -0.47675988730576785,
          -0.4573609782782627,
          -0.4905782354754522,
          -0.6724162612105202,
          -0.694979527145473,
          -0.6999891955989634
         ],
         "y": [
          -0.6762913861638065,
          -0.919342224607266,
          0.11270634220651674,
          -0.22330160960955336,
          -0.48117178742789246,
          0.1664325404930697,
          -0.2842784428939539,
          0.08377059914873429,
          -0.6767331948830241,
          0.06079333437322551,
          -0.5856330182317289,
          0.21969415583780866,
          -0.4827531833537271,
          0.11522805598907168,
          -0.47124114928302513,
          -0.11507595669964728,
          -0.19716011979115772,
          -0.9137372530375455,
          -0.9039820598649396,
          -0.13322454698591224,
          -0.7988739446039698,
          -0.8535416572025363,
          -0.8604226351985529,
          -0.5905448403481751,
          0.038620153686398075,
          -0.8374275764808201,
          -0.9312560958078038,
          -0.6799321225183522,
          -0.6203303013362192,
          -0.42851807613270615,
          -0.4291121829782768,
          -0.05522580467431653,
          -0.617165696074897,
          -0.5623679155106291,
          -0.6605801733738209,
          -0.2688346671905568,
          -0.028006500681982068,
          0.9958654676005518,
          0.8695560890809844
         ],
         "z": [
          1.6411582727871339,
          1.1730486128421747,
          1.1593829209857374,
          1.00819479044129,
          1.4325859790945297,
          0.948422069526681,
          0.4796826596622351,
          1.2180392471967643,
          1.5086455064018913,
          1.1781440657439202,
          1.4250297797462224,
          0.8457107400766031,
          1.3353311516577235,
          1.212595847087323,
          1.1923267098659833,
          1.4181906757253777,
          1.5790870980927811,
          1.9174324807200933,
          1.6608942638233046,
          1.1237875273854059,
          1.7512472903096266,
          2.077634685777519,
          2.1188663990210217,
          1.3132729048323344,
          1.2188900150665258,
          2.0168004765329544,
          2.198440463496719,
          1.466395374254367,
          0.6915671362968726,
          0.5893249536541676,
          0.5361275822588855,
          -0.39236538360683176,
          1.0629558513353246,
          0.9343679980352569,
          1.1973411283169815,
          0.13059169757000905,
          0.26324562900886134,
          -1.6159270411399753,
          -1.1494144055583333
         ]
        },
        {
         "marker": {
          "size": 5
         },
         "mode": "markers",
         "name": "5",
         "type": "scatter3d",
         "x": [
          -0.5021371059527342,
          -0.41239225423809417,
          -0.6584491387326344,
          -0.7281590428940571,
          -0.7561239731355339,
          -0.862277251927697
         ],
         "y": [
          -1.4829658736658047,
          -1.3137603643888092,
          -1.1397246924499465,
          -0.9140278374479094,
          -0.6288905945896476,
          -0.5678122504422766
         ],
         "z": [
          0.4334208373982842,
          0.24570860187305507,
          -0.3056863752711856,
          -0.3508145961574626,
          -0.6733349515630676,
          -0.8625326919219549
         ]
        },
        {
         "marker": {
          "size": 5
         },
         "mode": "markers",
         "name": "6",
         "type": "scatter3d",
         "x": [
          -0.5015990775311889,
          -0.19575507074156948,
          -0.49069445040609316,
          -0.467988359798827,
          -0.5148704477018763,
          -0.3333147083139774,
          -0.4387649133955874,
          -0.4848451081284401,
          -0.25650799473117986,
          -0.26018069993448356,
          -0.2426524945438818,
          -0.12325948592006616,
          -0.2092248800310625,
          -0.46445038936411365,
          -0.41076107741644247,
          0.403558409867759,
          0.8824418375219427,
          0.8242055134816274,
          0.6735641797859786,
          0.6159550050704671
         ],
         "y": [
          -0.8547286252378684,
          -0.6366708710109152,
          -1.0093587478302148,
          -0.906510343583318,
          -0.9170427735025761,
          -1.0458439231905345,
          -0.7816136347106549,
          -0.787388565918785,
          -0.887405017072128,
          -0.8062879603228603,
          -0.6085443607351539,
          -0.8941372893520255,
          -0.6678134779897577,
          -0.8030069829625284,
          -0.8835831385968372,
          -0.17595109330802886,
          -0.1011673312317596,
          -0.3105942301008266,
          -0.32847174872002405,
          -0.25213093275322973
         ],
         "z": [
          0.24342059514925674,
          0.7282914332210172,
          0.3566698217663277,
          -0.05462365164520132,
          0.2581974162363736,
          0.5243285936542926,
          -0.1231684362147447,
          0.029923320287258023,
          1.1787753400550287,
          1.088091357455928,
          0.5024714976498015,
          1.3286404668351297,
          1.1311629816445588,
          0.9357039431097325,
          1.083336353439632,
          0.9641677365438228,
          1.038651894721689,
          1.6113644768732514,
          1.445603231443064,
          1.2244871352483977
         ]
        }
       ],
       "layout": {
        "height": 600,
        "scene": {
         "xaxis": {
          "title": {
           "text": "comp 0"
          }
         },
         "yaxis": {
          "title": {
           "text": "comp 1"
          }
         },
         "zaxis": {
          "title": {
           "text": "comp 2"
          }
         }
        },
        "template": {
         "data": {
          "bar": [
           {
            "error_x": {
             "color": "#2a3f5f"
            },
            "error_y": {
             "color": "#2a3f5f"
            },
            "marker": {
             "line": {
              "color": "#E5ECF6",
              "width": 0.5
             },
             "pattern": {
              "fillmode": "overlay",
              "size": 10,
              "solidity": 0.2
             }
            },
            "type": "bar"
           }
          ],
          "barpolar": [
           {
            "marker": {
             "line": {
              "color": "#E5ECF6",
              "width": 0.5
             },
             "pattern": {
              "fillmode": "overlay",
              "size": 10,
              "solidity": 0.2
             }
            },
            "type": "barpolar"
           }
          ],
          "carpet": [
           {
            "aaxis": {
             "endlinecolor": "#2a3f5f",
             "gridcolor": "white",
             "linecolor": "white",
             "minorgridcolor": "white",
             "startlinecolor": "#2a3f5f"
            },
            "baxis": {
             "endlinecolor": "#2a3f5f",
             "gridcolor": "white",
             "linecolor": "white",
             "minorgridcolor": "white",
             "startlinecolor": "#2a3f5f"
            },
            "type": "carpet"
           }
          ],
          "choropleth": [
           {
            "colorbar": {
             "outlinewidth": 0,
             "ticks": ""
            },
            "type": "choropleth"
           }
          ],
          "contour": [
           {
            "colorbar": {
             "outlinewidth": 0,
             "ticks": ""
            },
            "colorscale": [
             [
              0,
              "#0d0887"
             ],
             [
              0.1111111111111111,
              "#46039f"
             ],
             [
              0.2222222222222222,
              "#7201a8"
             ],
             [
              0.3333333333333333,
              "#9c179e"
             ],
             [
              0.4444444444444444,
              "#bd3786"
             ],
             [
              0.5555555555555556,
              "#d8576b"
             ],
             [
              0.6666666666666666,
              "#ed7953"
             ],
             [
              0.7777777777777778,
              "#fb9f3a"
             ],
             [
              0.8888888888888888,
              "#fdca26"
             ],
             [
              1,
              "#f0f921"
             ]
            ],
            "type": "contour"
           }
          ],
          "contourcarpet": [
           {
            "colorbar": {
             "outlinewidth": 0,
             "ticks": ""
            },
            "type": "contourcarpet"
           }
          ],
          "heatmap": [
           {
            "colorbar": {
             "outlinewidth": 0,
             "ticks": ""
            },
            "colorscale": [
             [
              0,
              "#0d0887"
             ],
             [
              0.1111111111111111,
              "#46039f"
             ],
             [
              0.2222222222222222,
              "#7201a8"
             ],
             [
              0.3333333333333333,
              "#9c179e"
             ],
             [
              0.4444444444444444,
              "#bd3786"
             ],
             [
              0.5555555555555556,
              "#d8576b"
             ],
             [
              0.6666666666666666,
              "#ed7953"
             ],
             [
              0.7777777777777778,
              "#fb9f3a"
             ],
             [
              0.8888888888888888,
              "#fdca26"
             ],
             [
              1,
              "#f0f921"
             ]
            ],
            "type": "heatmap"
           }
          ],
          "heatmapgl": [
           {
            "colorbar": {
             "outlinewidth": 0,
             "ticks": ""
            },
            "colorscale": [
             [
              0,
              "#0d0887"
             ],
             [
              0.1111111111111111,
              "#46039f"
             ],
             [
              0.2222222222222222,
              "#7201a8"
             ],
             [
              0.3333333333333333,
              "#9c179e"
             ],
             [
              0.4444444444444444,
              "#bd3786"
             ],
             [
              0.5555555555555556,
              "#d8576b"
             ],
             [
              0.6666666666666666,
              "#ed7953"
             ],
             [
              0.7777777777777778,
              "#fb9f3a"
             ],
             [
              0.8888888888888888,
              "#fdca26"
             ],
             [
              1,
              "#f0f921"
             ]
            ],
            "type": "heatmapgl"
           }
          ],
          "histogram": [
           {
            "marker": {
             "pattern": {
              "fillmode": "overlay",
              "size": 10,
              "solidity": 0.2
             }
            },
            "type": "histogram"
           }
          ],
          "histogram2d": [
           {
            "colorbar": {
             "outlinewidth": 0,
             "ticks": ""
            },
            "colorscale": [
             [
              0,
              "#0d0887"
             ],
             [
              0.1111111111111111,
              "#46039f"
             ],
             [
              0.2222222222222222,
              "#7201a8"
             ],
             [
              0.3333333333333333,
              "#9c179e"
             ],
             [
              0.4444444444444444,
              "#bd3786"
             ],
             [
              0.5555555555555556,
              "#d8576b"
             ],
             [
              0.6666666666666666,
              "#ed7953"
             ],
             [
              0.7777777777777778,
              "#fb9f3a"
             ],
             [
              0.8888888888888888,
              "#fdca26"
             ],
             [
              1,
              "#f0f921"
             ]
            ],
            "type": "histogram2d"
           }
          ],
          "histogram2dcontour": [
           {
            "colorbar": {
             "outlinewidth": 0,
             "ticks": ""
            },
            "colorscale": [
             [
              0,
              "#0d0887"
             ],
             [
              0.1111111111111111,
              "#46039f"
             ],
             [
              0.2222222222222222,
              "#7201a8"
             ],
             [
              0.3333333333333333,
              "#9c179e"
             ],
             [
              0.4444444444444444,
              "#bd3786"
             ],
             [
              0.5555555555555556,
              "#d8576b"
             ],
             [
              0.6666666666666666,
              "#ed7953"
             ],
             [
              0.7777777777777778,
              "#fb9f3a"
             ],
             [
              0.8888888888888888,
              "#fdca26"
             ],
             [
              1,
              "#f0f921"
             ]
            ],
            "type": "histogram2dcontour"
           }
          ],
          "mesh3d": [
           {
            "colorbar": {
             "outlinewidth": 0,
             "ticks": ""
            },
            "type": "mesh3d"
           }
          ],
          "parcoords": [
           {
            "line": {
             "colorbar": {
              "outlinewidth": 0,
              "ticks": ""
             }
            },
            "type": "parcoords"
           }
          ],
          "pie": [
           {
            "automargin": true,
            "type": "pie"
           }
          ],
          "scatter": [
           {
            "marker": {
             "colorbar": {
              "outlinewidth": 0,
              "ticks": ""
             }
            },
            "type": "scatter"
           }
          ],
          "scatter3d": [
           {
            "line": {
             "colorbar": {
              "outlinewidth": 0,
              "ticks": ""
             }
            },
            "marker": {
             "colorbar": {
              "outlinewidth": 0,
              "ticks": ""
             }
            },
            "type": "scatter3d"
           }
          ],
          "scattercarpet": [
           {
            "marker": {
             "colorbar": {
              "outlinewidth": 0,
              "ticks": ""
             }
            },
            "type": "scattercarpet"
           }
          ],
          "scattergeo": [
           {
            "marker": {
             "colorbar": {
              "outlinewidth": 0,
              "ticks": ""
             }
            },
            "type": "scattergeo"
           }
          ],
          "scattergl": [
           {
            "marker": {
             "colorbar": {
              "outlinewidth": 0,
              "ticks": ""
             }
            },
            "type": "scattergl"
           }
          ],
          "scattermapbox": [
           {
            "marker": {
             "colorbar": {
              "outlinewidth": 0,
              "ticks": ""
             }
            },
            "type": "scattermapbox"
           }
          ],
          "scatterpolar": [
           {
            "marker": {
             "colorbar": {
              "outlinewidth": 0,
              "ticks": ""
             }
            },
            "type": "scatterpolar"
           }
          ],
          "scatterpolargl": [
           {
            "marker": {
             "colorbar": {
              "outlinewidth": 0,
              "ticks": ""
             }
            },
            "type": "scatterpolargl"
           }
          ],
          "scatterternary": [
           {
            "marker": {
             "colorbar": {
              "outlinewidth": 0,
              "ticks": ""
             }
            },
            "type": "scatterternary"
           }
          ],
          "surface": [
           {
            "colorbar": {
             "outlinewidth": 0,
             "ticks": ""
            },
            "colorscale": [
             [
              0,
              "#0d0887"
             ],
             [
              0.1111111111111111,
              "#46039f"
             ],
             [
              0.2222222222222222,
              "#7201a8"
             ],
             [
              0.3333333333333333,
              "#9c179e"
             ],
             [
              0.4444444444444444,
              "#bd3786"
             ],
             [
              0.5555555555555556,
              "#d8576b"
             ],
             [
              0.6666666666666666,
              "#ed7953"
             ],
             [
              0.7777777777777778,
              "#fb9f3a"
             ],
             [
              0.8888888888888888,
              "#fdca26"
             ],
             [
              1,
              "#f0f921"
             ]
            ],
            "type": "surface"
           }
          ],
          "table": [
           {
            "cells": {
             "fill": {
              "color": "#EBF0F8"
             },
             "line": {
              "color": "white"
             }
            },
            "header": {
             "fill": {
              "color": "#C8D4E3"
             },
             "line": {
              "color": "white"
             }
            },
            "type": "table"
           }
          ]
         },
         "layout": {
          "annotationdefaults": {
           "arrowcolor": "#2a3f5f",
           "arrowhead": 0,
           "arrowwidth": 1
          },
          "autotypenumbers": "strict",
          "coloraxis": {
           "colorbar": {
            "outlinewidth": 0,
            "ticks": ""
           }
          },
          "colorscale": {
           "diverging": [
            [
             0,
             "#8e0152"
            ],
            [
             0.1,
             "#c51b7d"
            ],
            [
             0.2,
             "#de77ae"
            ],
            [
             0.3,
             "#f1b6da"
            ],
            [
             0.4,
             "#fde0ef"
            ],
            [
             0.5,
             "#f7f7f7"
            ],
            [
             0.6,
             "#e6f5d0"
            ],
            [
             0.7,
             "#b8e186"
            ],
            [
             0.8,
             "#7fbc41"
            ],
            [
             0.9,
             "#4d9221"
            ],
            [
             1,
             "#276419"
            ]
           ],
           "sequential": [
            [
             0,
             "#0d0887"
            ],
            [
             0.1111111111111111,
             "#46039f"
            ],
            [
             0.2222222222222222,
             "#7201a8"
            ],
            [
             0.3333333333333333,
             "#9c179e"
            ],
            [
             0.4444444444444444,
             "#bd3786"
            ],
            [
             0.5555555555555556,
             "#d8576b"
            ],
            [
             0.6666666666666666,
             "#ed7953"
            ],
            [
             0.7777777777777778,
             "#fb9f3a"
            ],
            [
             0.8888888888888888,
             "#fdca26"
            ],
            [
             1,
             "#f0f921"
            ]
           ],
           "sequentialminus": [
            [
             0,
             "#0d0887"
            ],
            [
             0.1111111111111111,
             "#46039f"
            ],
            [
             0.2222222222222222,
             "#7201a8"
            ],
            [
             0.3333333333333333,
             "#9c179e"
            ],
            [
             0.4444444444444444,
             "#bd3786"
            ],
            [
             0.5555555555555556,
             "#d8576b"
            ],
            [
             0.6666666666666666,
             "#ed7953"
            ],
            [
             0.7777777777777778,
             "#fb9f3a"
            ],
            [
             0.8888888888888888,
             "#fdca26"
            ],
            [
             1,
             "#f0f921"
            ]
           ]
          },
          "colorway": [
           "#636efa",
           "#EF553B",
           "#00cc96",
           "#ab63fa",
           "#FFA15A",
           "#19d3f3",
           "#FF6692",
           "#B6E880",
           "#FF97FF",
           "#FECB52"
          ],
          "font": {
           "color": "#2a3f5f"
          },
          "geo": {
           "bgcolor": "white",
           "lakecolor": "white",
           "landcolor": "#E5ECF6",
           "showlakes": true,
           "showland": true,
           "subunitcolor": "white"
          },
          "hoverlabel": {
           "align": "left"
          },
          "hovermode": "closest",
          "mapbox": {
           "style": "light"
          },
          "paper_bgcolor": "white",
          "plot_bgcolor": "#E5ECF6",
          "polar": {
           "angularaxis": {
            "gridcolor": "white",
            "linecolor": "white",
            "ticks": ""
           },
           "bgcolor": "#E5ECF6",
           "radialaxis": {
            "gridcolor": "white",
            "linecolor": "white",
            "ticks": ""
           }
          },
          "scene": {
           "xaxis": {
            "backgroundcolor": "#E5ECF6",
            "gridcolor": "white",
            "gridwidth": 2,
            "linecolor": "white",
            "showbackground": true,
            "ticks": "",
            "zerolinecolor": "white"
           },
           "yaxis": {
            "backgroundcolor": "#E5ECF6",
            "gridcolor": "white",
            "gridwidth": 2,
            "linecolor": "white",
            "showbackground": true,
            "ticks": "",
            "zerolinecolor": "white"
           },
           "zaxis": {
            "backgroundcolor": "#E5ECF6",
            "gridcolor": "white",
            "gridwidth": 2,
            "linecolor": "white",
            "showbackground": true,
            "ticks": "",
            "zerolinecolor": "white"
           }
          },
          "shapedefaults": {
           "line": {
            "color": "#2a3f5f"
           }
          },
          "ternary": {
           "aaxis": {
            "gridcolor": "white",
            "linecolor": "white",
            "ticks": ""
           },
           "baxis": {
            "gridcolor": "white",
            "linecolor": "white",
            "ticks": ""
           },
           "bgcolor": "#E5ECF6",
           "caxis": {
            "gridcolor": "white",
            "linecolor": "white",
            "ticks": ""
           }
          },
          "title": {
           "x": 0.05
          },
          "xaxis": {
           "automargin": true,
           "gridcolor": "white",
           "linecolor": "white",
           "ticks": "",
           "title": {
            "standoff": 15
           },
           "zerolinecolor": "white",
           "zerolinewidth": 2
          },
          "yaxis": {
           "automargin": true,
           "gridcolor": "white",
           "linecolor": "white",
           "ticks": "",
           "title": {
            "standoff": 15
           },
           "zerolinecolor": "white",
           "zerolinewidth": 2
          }
         }
        },
        "title": {
         "text": "Clusters con Gaussian Mixture Model"
        },
        "width": 700
       }
      }
     },
     "metadata": {},
     "output_type": "display_data"
    }
   ],
   "source": [
    "plot_3d(data_reduced, gmm_predic, 'Clusters con Gaussian Mixture Model')"
   ]
  },
  {
   "cell_type": "markdown",
   "metadata": {},
   "source": [
    "## DBSCAN"
   ]
  },
  {
   "cell_type": "code",
   "execution_count": 31,
   "metadata": {},
   "outputs": [
    {
     "name": "stdout",
     "output_type": "stream",
     "text": [
      "eps óptimo: 1.5\n",
      "samples óptimo: 4.0\n",
      "número de puntos de ruido: 6\n"
     ]
    }
   ],
   "source": [
    "from sklearn.cluster import DBSCAN\n",
    "from itertools import product\n",
    "\n",
    "# Experimentaciones para obtener el eps y samples óptimos\n",
    "eps_values = np.round(np.arange(0.6, 1.6, 0.05),2) # eps a evaluar\n",
    "min_samples = np.arange(4, 10) # samples a evaluar\n",
    "params = list(product(eps_values, min_samples))\n",
    "\n",
    "results = []\n",
    "results_labels_ = []\n",
    "for p in params:\n",
    "    dbscan = DBSCAN(eps=p[0], min_samples=p[1]).fit(data_reduced)\n",
    "    results.append(np.array([p[0], p[1]]))\n",
    "    results_labels_.append(dbscan.labels_)\n",
    "results = np.array(results)\n",
    "\n",
    "optimal_result_idx = 0\n",
    "min_noise = list(results_labels_[0]).count(-1)\n",
    "for i, r in enumerate(results):\n",
    "    noise = list(results_labels_[i]).count(-1)\n",
    "    dbscan_clusters = len(np.unique(results_labels_[i])) - 1\n",
    "    if noise < min_noise and dbscan_clusters == n_clusters:\n",
    "        min_noise = noise\n",
    "        optimal_result_idx = i\n",
    "\n",
    "optimal_eps = results[optimal_result_idx][0]\n",
    "optimal_samples = results[optimal_result_idx][1]\n",
    "\n",
    "print('eps óptimo:', optimal_eps)\n",
    "print('samples óptimo:', optimal_samples)\n",
    "print('número de puntos de ruido:', min_noise)"
   ]
  },
  {
   "cell_type": "code",
   "execution_count": 32,
   "metadata": {},
   "outputs": [
    {
     "data": {
      "image/png": "[encoded data removed]",
      "text/plain": [
       "<Figure size 1440x432 with 2 Axes>"
      ]
     },
     "metadata": {
      "needs_background": "light"
     },
     "output_type": "display_data"
    }
   ],
   "source": [
    "import seaborn as sns\n",
    "tmp = pd.DataFrame.from_records(params, columns =['Eps', 'Min_samples'])\n",
    "tmp['No_of_clusters'] = [list(i).count(-1) for i in results_labels_]\n",
    "\n",
    "pivot_1 = pd.pivot_table(tmp, values='No_of_clusters', index='Min_samples', columns='Eps')\n",
    "\n",
    "fig, ax = plt.subplots(figsize=(20,6))\n",
    "sns.heatmap(pivot_1, annot=True,annot_kws={\"size\": 14}, cmap=\"YlGnBu\", ax=ax)\n",
    "plt.show()"
   ]
  },
  {
   "cell_type": "code",
   "execution_count": 33,
   "metadata": {},
   "outputs": [
    {
     "data": {
      "text/html": [
       "<div>\n",
       "<style scoped>\n",
       "    .dataframe tbody tr th:only-of-type {\n",
       "        vertical-align: middle;\n",
       "    }\n",
       "\n",
       "    .dataframe tbody tr th {\n",
       "        vertical-align: top;\n",
       "    }\n",
       "\n",
       "    .dataframe thead th {\n",
       "        text-align: right;\n",
       "    }\n",
       "</style>\n",
       "<table border=\"1\" class=\"dataframe\">\n",
       "  <thead>\n",
       "    <tr style=\"text-align: right;\">\n",
       "      <th>cluster</th>\n",
       "      <th>-1</th>\n",
       "      <th>0</th>\n",
       "      <th>1</th>\n",
       "      <th>2</th>\n",
       "      <th>3</th>\n",
       "      <th>4</th>\n",
       "      <th>5</th>\n",
       "      <th>6</th>\n",
       "      <th>All</th>\n",
       "    </tr>\n",
       "    <tr>\n",
       "      <th>target</th>\n",
       "      <th></th>\n",
       "      <th></th>\n",
       "      <th></th>\n",
       "      <th></th>\n",
       "      <th></th>\n",
       "      <th></th>\n",
       "      <th></th>\n",
       "      <th></th>\n",
       "      <th></th>\n",
       "    </tr>\n",
       "  </thead>\n",
       "  <tbody>\n",
       "    <tr>\n",
       "      <th>cerebellum</th>\n",
       "      <td>2</td>\n",
       "      <td>0</td>\n",
       "      <td>0</td>\n",
       "      <td>36</td>\n",
       "      <td>0</td>\n",
       "      <td>0</td>\n",
       "      <td>0</td>\n",
       "      <td>0</td>\n",
       "      <td>38</td>\n",
       "    </tr>\n",
       "    <tr>\n",
       "      <th>colon</th>\n",
       "      <td>0</td>\n",
       "      <td>0</td>\n",
       "      <td>0</td>\n",
       "      <td>0</td>\n",
       "      <td>34</td>\n",
       "      <td>0</td>\n",
       "      <td>0</td>\n",
       "      <td>0</td>\n",
       "      <td>34</td>\n",
       "    </tr>\n",
       "    <tr>\n",
       "      <th>endometrium</th>\n",
       "      <td>0</td>\n",
       "      <td>0</td>\n",
       "      <td>0</td>\n",
       "      <td>0</td>\n",
       "      <td>0</td>\n",
       "      <td>0</td>\n",
       "      <td>15</td>\n",
       "      <td>0</td>\n",
       "      <td>15</td>\n",
       "    </tr>\n",
       "    <tr>\n",
       "      <th>hippocampus</th>\n",
       "      <td>0</td>\n",
       "      <td>0</td>\n",
       "      <td>31</td>\n",
       "      <td>0</td>\n",
       "      <td>0</td>\n",
       "      <td>0</td>\n",
       "      <td>0</td>\n",
       "      <td>0</td>\n",
       "      <td>31</td>\n",
       "    </tr>\n",
       "    <tr>\n",
       "      <th>kidney</th>\n",
       "      <td>2</td>\n",
       "      <td>37</td>\n",
       "      <td>0</td>\n",
       "      <td>0</td>\n",
       "      <td>0</td>\n",
       "      <td>0</td>\n",
       "      <td>0</td>\n",
       "      <td>0</td>\n",
       "      <td>39</td>\n",
       "    </tr>\n",
       "    <tr>\n",
       "      <th>liver</th>\n",
       "      <td>2</td>\n",
       "      <td>0</td>\n",
       "      <td>0</td>\n",
       "      <td>0</td>\n",
       "      <td>0</td>\n",
       "      <td>24</td>\n",
       "      <td>0</td>\n",
       "      <td>0</td>\n",
       "      <td>26</td>\n",
       "    </tr>\n",
       "    <tr>\n",
       "      <th>placenta</th>\n",
       "      <td>0</td>\n",
       "      <td>0</td>\n",
       "      <td>0</td>\n",
       "      <td>0</td>\n",
       "      <td>0</td>\n",
       "      <td>0</td>\n",
       "      <td>0</td>\n",
       "      <td>6</td>\n",
       "      <td>6</td>\n",
       "    </tr>\n",
       "    <tr>\n",
       "      <th>All</th>\n",
       "      <td>6</td>\n",
       "      <td>37</td>\n",
       "      <td>31</td>\n",
       "      <td>36</td>\n",
       "      <td>34</td>\n",
       "      <td>24</td>\n",
       "      <td>15</td>\n",
       "      <td>6</td>\n",
       "      <td>189</td>\n",
       "    </tr>\n",
       "  </tbody>\n",
       "</table>\n",
       "</div>"
      ],
      "text/plain": [
       "cluster      -1   0   1   2   3   4   5  6  All\n",
       "target                                         \n",
       "cerebellum    2   0   0  36   0   0   0  0   38\n",
       "colon         0   0   0   0  34   0   0  0   34\n",
       "endometrium   0   0   0   0   0   0  15  0   15\n",
       "hippocampus   0   0  31   0   0   0   0  0   31\n",
       "kidney        2  37   0   0   0   0   0  0   39\n",
       "liver         2   0   0   0   0  24   0  0   26\n",
       "placenta      0   0   0   0   0   0   0  6    6\n",
       "All           6  37  31  36  34  24  15  6  189"
      ]
     },
     "execution_count": 33,
     "metadata": {},
     "output_type": "execute_result"
    }
   ],
   "source": [
    "# DBSCAN - implementación de sklearn\n",
    "from sklearn.cluster import DBSCAN\n",
    "\n",
    "dbscan = DBSCAN(eps=optimal_eps, min_samples=optimal_samples).fit(data_reduced)\n",
    "\n",
    "pd.crosstab(targets, dbscan.labels_, rownames=['target'], colnames=['cluster'], margins=True)"
   ]
  },
  {
   "cell_type": "code",
   "execution_count": 34,
   "metadata": {},
   "outputs": [
    {
     "data": {
      "application/vnd.plotly.v1+json": {
       "config": {
        "linkText": "Export to plot.ly",
        "plotlyServerURL": "https://plot.ly",
        "showLink": false
       },
       "data": [
        {
         "marker": {
          "size": 5
         },
         "mode": "markers",
         "name": "-1",
         "type": "scatter3d",
         "x": [
          0.4948137130887639,
          0.4503490547726078,
          -1.0160468492574442,
          -1.0810138609280855,
          -0.694979527145473,
          -0.6999891955989634
         ],
         "y": [
          1.0133949928870318,
          0.969166873926715,
          2.0131266075527625,
          2.1180062521709226,
          0.9958654676005518,
          0.8695560890809844
         ],
         "z": [
          -2.102545318887176,
          -2.120302167739295,
          -2.066137791467695,
          -2.044522168073592,
          -1.6159270411399753,
          -1.1494144055583333
         ]
        },
        {
         "marker": {
          "size": 5
         },
         "mode": "markers",
         "name": "0",
         "type": "scatter3d",
         "x": [
          -0.5536770924327143,
          -0.6881950989432151,
          -0.6888007531181636,
          -0.6651059194827839,
          -0.6005985735491234,
          -0.6701648373002458,
          -0.5421945552052269,
          -0.7097247908884088,
          -0.5388081633087185,
          -0.7080454390035295,
          -0.6535316443273318,
          -0.6594784985614204,
          -0.6865961869776273,
          -0.7174374554750337,
          -0.5989365338194031,
          -0.681102114031526,
          -0.555018773178262,
          -0.5678065621361266,
          -0.5433159467101747,
          -0.5307265389027536,
          -0.5204847336523648,
          -0.560081534177529,
          -0.4701241575744581,
          -0.6887251176848473,
          -0.5623559805142019,
          -0.4410611451575902,
          -0.4410551684786598,
          -0.6789364527678021,
          -0.6742877166956821,
          -0.4749012394378939,
          -0.48218173991667207,
          -0.5081349493133506,
          -0.4644894099708087,
          -0.47675988730576785,
          -0.4573609782782627,
          -0.4905782354754522,
          -0.6724162612105202
         ],
         "y": [
          -0.6762913861638065,
          -0.919342224607266,
          0.11270634220651674,
          -0.22330160960955336,
          -0.48117178742789246,
          0.1664325404930697,
          -0.2842784428939539,
          0.08377059914873429,
          -0.6767331948830241,
          0.06079333437322551,
          -0.5856330182317289,
          0.21969415583780866,
          -0.4827531833537271,
          0.11522805598907168,
          -0.47124114928302513,
          -0.11507595669964728,
          -0.19716011979115772,
          -0.9137372530375455,
          -0.9039820598649396,
          -0.13322454698591224,
          -0.7988739446039698,
          -0.8535416572025363,
          -0.8604226351985529,
          -0.5905448403481751,
          0.038620153686398075,
          -0.8374275764808201,
          -0.9312560958078038,
          -0.6799321225183522,
          -0.6203303013362192,
          -0.42851807613270615,
          -0.4291121829782768,
          -0.05522580467431653,
          -0.617165696074897,
          -0.5623679155106291,
          -0.6605801733738209,
          -0.2688346671905568,
          -0.028006500681982068
         ],
         "z": [
          1.6411582727871339,
          1.1730486128421747,
          1.1593829209857374,
          1.00819479044129,
          1.4325859790945297,
          0.948422069526681,
          0.4796826596622351,
          1.2180392471967643,
          1.5086455064018913,
          1.1781440657439202,
          1.4250297797462224,
          0.8457107400766031,
          1.3353311516577235,
          1.212595847087323,
          1.1923267098659833,
          1.4181906757253777,
          1.5790870980927811,
          1.9174324807200933,
          1.6608942638233046,
          1.1237875273854059,
          1.7512472903096266,
          2.077634685777519,
          2.1188663990210217,
          1.3132729048323344,
          1.2188900150665258,
          2.0168004765329544,
          2.198440463496719,
          1.466395374254367,
          0.6915671362968726,
          0.5893249536541676,
          0.5361275822588855,
          -0.39236538360683176,
          1.0629558513353246,
          0.9343679980352569,
          1.1973411283169815,
          0.13059169757000905,
          0.26324562900886134
         ]
        },
        {
         "marker": {
          "size": 5
         },
         "mode": "markers",
         "name": "1",
         "type": "scatter3d",
         "x": [
          1.0140638866648035,
          1.2626307435847308,
          0.7547139503958953,
          1.1943645032725552,
          0.7540381852982921,
          1.1278226815936725,
          1.0694909695143417,
          1.3147170632177876,
          0.9713325250196191,
          0.8639280873777816,
          1.4408991740572348,
          1.4345011367821139,
          1.4552986613037746,
          1.470316584335254,
          1.5638173045159889,
          1.1561406109184067,
          1.2989712366996258,
          1.4103182253712796,
          1.267714621353281,
          1.297381738161784,
          1.2508366773430442,
          1.2602663599130772,
          1.0766786576309944,
          1.2171577538132017,
          1.1951672756462193,
          1.2961083281435546,
          0.987845078168513,
          1.0884383027681284,
          1.1754194744873891,
          1.2392443674570917,
          1.1942575382057983
         ],
         "y": [
          0.2576605555122831,
          0.30399254928918495,
          0.7064752208062436,
          0.10191642924270972,
          0.532267106235756,
          0.383201151752668,
          0.4116652862001389,
          0.3732445574951917,
          0.2927856783935109,
          0.3641141425869963,
          0.3793694866930051,
          0.279453478792559,
          0.3225372768956281,
          0.3504121764465503,
          0.26121576993631224,
          0.23419523105599468,
          0.28924154691536885,
          0.3389858987390162,
          0.27078909138284185,
          0.3324889739790915,
          0.14376217305007424,
          0.2090360956459182,
          0.2789539305909884,
          0.2493351248473477,
          0.22166598949207605,
          0.2032967258011568,
          0.23193174604965947,
          0.292870433560988,
          0.3867759364368719,
          0.3571936717144712,
          0.3253661601956773
         ],
         "z": [
          0.20189875216638956,
          0.1743207650662388,
          -0.7829649961301551,
          0.8637257345388379,
          -0.8235503983999682,
          0.11112268799399089,
          0.06589630299938265,
          0.46110654348442154,
          0.24064020572583927,
          -0.032847647287841085,
          0.22999185702773633,
          0.48409765508225694,
          0.5743379557027689,
          0.42087126120988044,
          0.6424390878552217,
          0.4983817446145229,
          0.6246935435198128,
          0.49044177596638755,
          0.6685603691532986,
          0.716489920554055,
          1.160905208004032,
          0.7288195832292019,
          0.20218277395403328,
          0.630215333838688,
          0.80558110409897,
          0.7460984919020295,
          0.5108387702818608,
          0.5216246237966689,
          0.3037102123333313,
          0.17685430732154706,
          -0.01122113539473749
         ]
        },
        {
         "marker": {
          "size": 5
         },
         "mode": "markers",
         "name": "2",
         "type": "scatter3d",
         "x": [
          1.355011994083587,
          1.3149691148717135,
          1.5427060526201721,
          1.570125311913703,
          1.4043230132467377,
          1.427576787588135,
          1.5462407226257455,
          1.3583151592281497,
          1.5029754796747659,
          1.3647417620225615,
          1.450052040214887,
          1.4924746760093304,
          1.391834738519418,
          1.536192239513637,
          1.5239175443366642,
          1.4823894401423057,
          1.5065355049496656,
          1.6085790713261474,
          1.4502874740195928,
          1.5321992393777504,
          1.329362505757647,
          1.386208656023163,
          1.3408806134129332,
          1.5535530794431953,
          1.4332556721137937,
          1.5127513141396784,
          1.4612282485842831,
          1.0884279639962087,
          0.403558409867759,
          0.8824418375219427,
          0.8242055134816274,
          0.6735641797859786,
          0.6159550050704671,
          1.4774525304002393,
          1.3209116522166793,
          1.652787925166354
         ],
         "y": [
          0.32814143954449604,
          0.3752835194131693,
          0.2728480842396148,
          0.2965737296462478,
          0.30518746117242807,
          0.33858958053921456,
          0.26111851129089125,
          0.30957213181593507,
          0.30346535882987574,
          0.4543894628915678,
          0.34261665007835296,
          0.24415680364064385,
          0.287189243338216,
          0.33941262733009026,
          0.2973714837095838,
          0.2839257144898518,
          0.3186564164521285,
          0.25660644900799756,
          0.36034799460269873,
          0.3139101428551269,
          0.38541668776814036,
          0.3042461703572207,
          0.4055329502672465,
          0.274914861689225,
          0.3673602474992463,
          0.31829853500587496,
          0.3042541971898968,
          0.5725331173421504,
          -0.17595109330802886,
          -0.1011673312317596,
          -0.3105942301008266,
          -0.32847174872002405,
          -0.25213093275322973,
          0.2821570539251291,
          -0.0111968361003553,
          0.20122221223537035
         ],
         "z": [
          -0.8772278580354161,
          -0.8192243200463027,
          -0.5684669038828879,
          -0.4013554583564394,
          -0.7458089208373897,
          -0.6834344450245311,
          -0.6586318351864106,
          -0.6355558220171594,
          -0.2723636364283362,
          -0.48861957639176484,
          -0.5016142884800782,
          -0.3697264650608827,
          -0.890858932531875,
          -0.3239125520861297,
          -0.5312886031652817,
          -0.6086462148174477,
          -0.8090387657313489,
          -0.42813195263131726,
          -0.6836989596485178,
          -0.605727972853336,
          -0.4880007383204615,
          -0.42068881521101537,
          -0.8185945629515419,
          -0.5684339310365433,
          -0.8013962965652078,
          -0.5262167846344327,
          -0.4167415548115252,
          -0.9642803020041348,
          0.9641677365438228,
          1.038651894721689,
          1.6113644768732514,
          1.445603231443064,
          1.2244871352483977,
          -0.09603343917935717,
          0.7778505917513975,
          0.16863130175410007
         ]
        },
        {
         "marker": {
          "size": 5
         },
         "mode": "markers",
         "name": "3",
         "type": "scatter3d",
         "x": [
          -0.7839039673620989,
          -0.6707020354381948,
          -0.6691752431380324,
          -0.6816177881145178,
          -0.7228742217611994,
          -0.6181954329436884,
          -0.6126248616873262,
          -0.5760736522284975,
          -0.5246947098551743,
          -0.5895810613352455,
          -0.6769582368294591,
          -0.651245369901977,
          -0.5883580547437537,
          -0.5831262364631031,
          -0.6234828014078343,
          -0.5670246555479178,
          -0.6031151618757673,
          -0.5615585102019601,
          -0.5782271938656377,
          -0.5509613780801129,
          -0.5856813790115447,
          -0.5254328703098697,
          -0.6260058628394741,
          -0.6485880741393114,
          -0.5989997517495843,
          -0.6064714095692536,
          -0.710518208150369,
          -0.7348073571567324,
          -0.5917427320058166,
          -0.6938466399287135,
          -0.6316329938313657,
          -0.5642099382177322,
          -0.5962215049626114,
          -0.5740949600296475
         ],
         "y": [
          -1.2106259122809695,
          -1.2237616500391844,
          -1.3122434560263765,
          -1.064585074945378,
          -1.2837009525060619,
          -1.0549225022601232,
          -1.2881104903422367,
          -1.2397929384968949,
          -1.0657014823085051,
          -1.3537495930243628,
          -1.2740437621373464,
          -1.1676304096946923,
          -1.282929587394784,
          -0.8781348175918803,
          -0.961279987538851,
          -1.227033523719272,
          -1.2261283009832784,
          -1.251479802658065,
          -1.2833622124411252,
          -0.7212335721111007,
          -1.4000034066073046,
          -1.2731341067584185,
          -1.064507528631691,
          -1.2802950621658105,
          -0.798645378455959,
          -1.1518133433473239,
          -1.208551628156878,
          -1.1693622863588589,
          -1.180483930078048,
          -1.1928355004996682,
          -1.1036404950506102,
          -1.0105429777713846,
          -1.031291213806652,
          -0.9675466010906324
         ],
         "z": [
          -1.114657014325191,
          -1.1047625743194278,
          -0.9330463831133154,
          -1.162572025139125,
          -0.8073528739544159,
          -0.9131441949552643,
          -1.1580239109923036,
          -1.5456068959585274,
          -1.8338371261396031,
          -1.103485628146077,
          -1.4778959763945483,
          -1.1442957786364523,
          -1.5257892620662146,
          -1.7843323204998247,
          -1.4425468942958368,
          -1.055919066322396,
          -1.3960127451438809,
          -1.272758671103158,
          -1.4517877613494365,
          -1.845577761534724,
          -1.1561181482725262,
          -1.0619807313684182,
          -1.335014410660609,
          -0.9730337779148567,
          -1.3320477722895203,
          -1.3816830754228917,
          -1.1670419480827765,
          -1.310433002451224,
          -1.5469523175981488,
          -0.8700789360048506,
          -1.4263193476865506,
          -1.2951924825317902,
          -1.1520231780751988,
          -1.4233739991858054
         ]
        },
        {
         "marker": {
          "size": 5
         },
         "mode": "markers",
         "name": "4",
         "type": "scatter3d",
         "x": [
          -1.1528079475610375,
          -1.161600981697713,
          -1.148454437267562,
          -1.2074440413322491,
          -1.3085240563362623,
          -1.2234040727301692,
          -1.1414480206472284,
          -1.1373601084161489,
          -1.178816507212754,
          -1.2060922495684314,
          -1.1711464820369535,
          -1.3221307273887497,
          -1.4287761962970065,
          -1.3625242236719433,
          -1.350163067359462,
          -1.395425901204041,
          -1.4287761962970065,
          -1.350163067359462,
          -1.395425901204041,
          -1.3625242236719433,
          -1.3089942740018812,
          -1.3505506007386223,
          -1.3261179717788298,
          -1.3969738909470208
         ],
         "y": [
          1.6652814252408066,
          1.7336208491456777,
          1.6627404588674946,
          1.4375502270236657,
          1.7353955690247516,
          1.4270087654170245,
          1.7503459359404674,
          1.6979038152054928,
          1.9327844079544076,
          1.5978464009078337,
          1.9874897287477948,
          2.0278825238845326,
          2.134580115736782,
          2.267368360139262,
          2.006304824821388,
          2.1560678501326374,
          2.134580115736782,
          2.006304824821388,
          2.1560678501326374,
          2.267368360139262,
          2.196969860900216,
          2.24912555837456,
          2.448238393995241,
          2.3591129862935056
         ],
         "z": [
          -0.39320009509599224,
          -0.5788358729876425,
          -0.46634106044618306,
          0.5639877410732286,
          -0.005689857713088713,
          0.6565693264551329,
          -0.47382783471149104,
          0.5755739600472034,
          -0.043332302247032564,
          0.6364267037164613,
          -0.49241044734088024,
          -0.058927776677374324,
          -0.03535767806562002,
          -0.009642743882169626,
          -0.09265608011358116,
          0.4267629592758193,
          -0.03535767806562002,
          -0.09265608011358116,
          0.4267629592758193,
          -0.009642743882169626,
          0.15893677277600382,
          0.13477282018741127,
          -0.3230532144185536,
          -0.027990204888324394
         ]
        },
        {
         "marker": {
          "size": 5
         },
         "mode": "markers",
         "name": "5",
         "type": "scatter3d",
         "x": [
          -0.5015990775311889,
          -0.19575507074156948,
          -0.49069445040609316,
          -0.467988359798827,
          -0.5148704477018763,
          -0.3333147083139774,
          -0.4387649133955874,
          -0.4848451081284401,
          -0.25650799473117986,
          -0.26018069993448356,
          -0.2426524945438818,
          -0.12325948592006616,
          -0.2092248800310625,
          -0.46445038936411365,
          -0.41076107741644247
         ],
         "y": [
          -0.8547286252378684,
          -0.6366708710109152,
          -1.0093587478302148,
          -0.906510343583318,
          -0.9170427735025761,
          -1.0458439231905345,
          -0.7816136347106549,
          -0.787388565918785,
          -0.887405017072128,
          -0.8062879603228603,
          -0.6085443607351539,
          -0.8941372893520255,
          -0.6678134779897577,
          -0.8030069829625284,
          -0.8835831385968372
         ],
         "z": [
          0.24342059514925674,
          0.7282914332210172,
          0.3566698217663277,
          -0.05462365164520132,
          0.2581974162363736,
          0.5243285936542926,
          -0.1231684362147447,
          0.029923320287258023,
          1.1787753400550287,
          1.088091357455928,
          0.5024714976498015,
          1.3286404668351297,
          1.1311629816445588,
          0.9357039431097325,
          1.083336353439632
         ]
        },
        {
         "marker": {
          "size": 5
         },
         "mode": "markers",
         "name": "6",
         "type": "scatter3d",
         "x": [
          -0.5021371059527342,
          -0.41239225423809417,
          -0.6584491387326344,
          -0.7281590428940571,
          -0.7561239731355339,
          -0.862277251927697
         ],
         "y": [
          -1.4829658736658047,
          -1.3137603643888092,
          -1.1397246924499465,
          -0.9140278374479094,
          -0.6288905945896476,
          -0.5678122504422766
         ],
         "z": [
          0.4334208373982842,
          0.24570860187305507,
          -0.3056863752711856,
          -0.3508145961574626,
          -0.6733349515630676,
          -0.8625326919219549
         ]
        }
       ],
       "layout": {
        "height": 600,
        "scene": {
         "xaxis": {
          "title": {
           "text": "comp 0"
          }
         },
         "yaxis": {
          "title": {
           "text": "comp 1"
          }
         },
         "zaxis": {
          "title": {
           "text": "comp 2"
          }
         }
        },
        "template": {
         "data": {
          "bar": [
           {
            "error_x": {
             "color": "#2a3f5f"
            },
            "error_y": {
             "color": "#2a3f5f"
            },
            "marker": {
             "line": {
              "color": "#E5ECF6",
              "width": 0.5
             },
             "pattern": {
              "fillmode": "overlay",
              "size": 10,
              "solidity": 0.2
             }
            },
            "type": "bar"
           }
          ],
          "barpolar": [
           {
            "marker": {
             "line": {
              "color": "#E5ECF6",
              "width": 0.5
             },
             "pattern": {
              "fillmode": "overlay",
              "size": 10,
              "solidity": 0.2
             }
            },
            "type": "barpolar"
           }
          ],
          "carpet": [
           {
            "aaxis": {
             "endlinecolor": "#2a3f5f",
             "gridcolor": "white",
             "linecolor": "white",
             "minorgridcolor": "white",
             "startlinecolor": "#2a3f5f"
            },
            "baxis": {
             "endlinecolor": "#2a3f5f",
             "gridcolor": "white",
             "linecolor": "white",
             "minorgridcolor": "white",
             "startlinecolor": "#2a3f5f"
            },
            "type": "carpet"
           }
          ],
          "choropleth": [
           {
            "colorbar": {
             "outlinewidth": 0,
             "ticks": ""
            },
            "type": "choropleth"
           }
          ],
          "contour": [
           {
            "colorbar": {
             "outlinewidth": 0,
             "ticks": ""
            },
            "colorscale": [
             [
              0,
              "#0d0887"
             ],
             [
              0.1111111111111111,
              "#46039f"
             ],
             [
              0.2222222222222222,
              "#7201a8"
             ],
             [
              0.3333333333333333,
              "#9c179e"
             ],
             [
              0.4444444444444444,
              "#bd3786"
             ],
             [
              0.5555555555555556,
              "#d8576b"
             ],
             [
              0.6666666666666666,
              "#ed7953"
             ],
             [
              0.7777777777777778,
              "#fb9f3a"
             ],
             [
              0.8888888888888888,
              "#fdca26"
             ],
             [
              1,
              "#f0f921"
             ]
            ],
            "type": "contour"
           }
          ],
          "contourcarpet": [
           {
            "colorbar": {
             "outlinewidth": 0,
             "ticks": ""
            },
            "type": "contourcarpet"
           }
          ],
          "heatmap": [
           {
            "colorbar": {
             "outlinewidth": 0,
             "ticks": ""
            },
            "colorscale": [
             [
              0,
              "#0d0887"
             ],
             [
              0.1111111111111111,
              "#46039f"
             ],
             [
              0.2222222222222222,
              "#7201a8"
             ],
             [
              0.3333333333333333,
              "#9c179e"
             ],
             [
              0.4444444444444444,
              "#bd3786"
             ],
             [
              0.5555555555555556,
              "#d8576b"
             ],
             [
              0.6666666666666666,
              "#ed7953"
             ],
             [
              0.7777777777777778,
              "#fb9f3a"
             ],
             [
              0.8888888888888888,
              "#fdca26"
             ],
             [
              1,
              "#f0f921"
             ]
            ],
            "type": "heatmap"
           }
          ],
          "heatmapgl": [
           {
            "colorbar": {
             "outlinewidth": 0,
             "ticks": ""
            },
            "colorscale": [
             [
              0,
              "#0d0887"
             ],
             [
              0.1111111111111111,
              "#46039f"
             ],
             [
              0.2222222222222222,
              "#7201a8"
             ],
             [
              0.3333333333333333,
              "#9c179e"
             ],
             [
              0.4444444444444444,
              "#bd3786"
             ],
             [
              0.5555555555555556,
              "#d8576b"
             ],
             [
              0.6666666666666666,
              "#ed7953"
             ],
             [
              0.7777777777777778,
              "#fb9f3a"
             ],
             [
              0.8888888888888888,
              "#fdca26"
             ],
             [
              1,
              "#f0f921"
             ]
            ],
            "type": "heatmapgl"
           }
          ],
          "histogram": [
           {
            "marker": {
             "pattern": {
              "fillmode": "overlay",
              "size": 10,
              "solidity": 0.2
             }
            },
            "type": "histogram"
           }
          ],
          "histogram2d": [
           {
            "colorbar": {
             "outlinewidth": 0,
             "ticks": ""
            },
            "colorscale": [
             [
              0,
              "#0d0887"
             ],
             [
              0.1111111111111111,
              "#46039f"
             ],
             [
              0.2222222222222222,
              "#7201a8"
             ],
             [
              0.3333333333333333,
              "#9c179e"
             ],
             [
              0.4444444444444444,
              "#bd3786"
             ],
             [
              0.5555555555555556,
              "#d8576b"
             ],
             [
              0.6666666666666666,
              "#ed7953"
             ],
             [
              0.7777777777777778,
              "#fb9f3a"
             ],
             [
              0.8888888888888888,
              "#fdca26"
             ],
             [
              1,
              "#f0f921"
             ]
            ],
            "type": "histogram2d"
           }
          ],
          "histogram2dcontour": [
           {
            "colorbar": {
             "outlinewidth": 0,
             "ticks": ""
            },
            "colorscale": [
             [
              0,
              "#0d0887"
             ],
             [
              0.1111111111111111,
              "#46039f"
             ],
             [
              0.2222222222222222,
              "#7201a8"
             ],
             [
              0.3333333333333333,
              "#9c179e"
             ],
             [
              0.4444444444444444,
              "#bd3786"
             ],
             [
              0.5555555555555556,
              "#d8576b"
             ],
             [
              0.6666666666666666,
              "#ed7953"
             ],
             [
              0.7777777777777778,
              "#fb9f3a"
             ],
             [
              0.8888888888888888,
              "#fdca26"
             ],
             [
              1,
              "#f0f921"
             ]
            ],
            "type": "histogram2dcontour"
           }
          ],
          "mesh3d": [
           {
            "colorbar": {
             "outlinewidth": 0,
             "ticks": ""
            },
            "type": "mesh3d"
           }
          ],
          "parcoords": [
           {
            "line": {
             "colorbar": {
              "outlinewidth": 0,
              "ticks": ""
             }
            },
            "type": "parcoords"
           }
          ],
          "pie": [
           {
            "automargin": true,
            "type": "pie"
           }
          ],
          "scatter": [
           {
            "marker": {
             "colorbar": {
              "outlinewidth": 0,
              "ticks": ""
             }
            },
            "type": "scatter"
           }
          ],
          "scatter3d": [
           {
            "line": {
             "colorbar": {
              "outlinewidth": 0,
              "ticks": ""
             }
            },
            "marker": {
             "colorbar": {
              "outlinewidth": 0,
              "ticks": ""
             }
            },
            "type": "scatter3d"
           }
          ],
          "scattercarpet": [
           {
            "marker": {
             "colorbar": {
              "outlinewidth": 0,
              "ticks": ""
             }
            },
            "type": "scattercarpet"
           }
          ],
          "scattergeo": [
           {
            "marker": {
             "colorbar": {
              "outlinewidth": 0,
              "ticks": ""
             }
            },
            "type": "scattergeo"
           }
          ],
          "scattergl": [
           {
            "marker": {
             "colorbar": {
              "outlinewidth": 0,
              "ticks": ""
             }
            },
            "type": "scattergl"
           }
          ],
          "scattermapbox": [
           {
            "marker": {
             "colorbar": {
              "outlinewidth": 0,
              "ticks": ""
             }
            },
            "type": "scattermapbox"
           }
          ],
          "scatterpolar": [
           {
            "marker": {
             "colorbar": {
              "outlinewidth": 0,
              "ticks": ""
             }
            },
            "type": "scatterpolar"
           }
          ],
          "scatterpolargl": [
           {
            "marker": {
             "colorbar": {
              "outlinewidth": 0,
              "ticks": ""
             }
            },
            "type": "scatterpolargl"
           }
          ],
          "scatterternary": [
           {
            "marker": {
             "colorbar": {
              "outlinewidth": 0,
              "ticks": ""
             }
            },
            "type": "scatterternary"
           }
          ],
          "surface": [
           {
            "colorbar": {
             "outlinewidth": 0,
             "ticks": ""
            },
            "colorscale": [
             [
              0,
              "#0d0887"
             ],
             [
              0.1111111111111111,
              "#46039f"
             ],
             [
              0.2222222222222222,
              "#7201a8"
             ],
             [
              0.3333333333333333,
              "#9c179e"
             ],
             [
              0.4444444444444444,
              "#bd3786"
             ],
             [
              0.5555555555555556,
              "#d8576b"
             ],
             [
              0.6666666666666666,
              "#ed7953"
             ],
             [
              0.7777777777777778,
              "#fb9f3a"
             ],
             [
              0.8888888888888888,
              "#fdca26"
             ],
             [
              1,
              "#f0f921"
             ]
            ],
            "type": "surface"
           }
          ],
          "table": [
           {
            "cells": {
             "fill": {
              "color": "#EBF0F8"
             },
             "line": {
              "color": "white"
             }
            },
            "header": {
             "fill": {
              "color": "#C8D4E3"
             },
             "line": {
              "color": "white"
             }
            },
            "type": "table"
           }
          ]
         },
         "layout": {
          "annotationdefaults": {
           "arrowcolor": "#2a3f5f",
           "arrowhead": 0,
           "arrowwidth": 1
          },
          "autotypenumbers": "strict",
          "coloraxis": {
           "colorbar": {
            "outlinewidth": 0,
            "ticks": ""
           }
          },
          "colorscale": {
           "diverging": [
            [
             0,
             "#8e0152"
            ],
            [
             0.1,
             "#c51b7d"
            ],
            [
             0.2,
             "#de77ae"
            ],
            [
             0.3,
             "#f1b6da"
            ],
            [
             0.4,
             "#fde0ef"
            ],
            [
             0.5,
             "#f7f7f7"
            ],
            [
             0.6,
             "#e6f5d0"
            ],
            [
             0.7,
             "#b8e186"
            ],
            [
             0.8,
             "#7fbc41"
            ],
            [
             0.9,
             "#4d9221"
            ],
            [
             1,
             "#276419"
            ]
           ],
           "sequential": [
            [
             0,
             "#0d0887"
            ],
            [
             0.1111111111111111,
             "#46039f"
            ],
            [
             0.2222222222222222,
             "#7201a8"
            ],
            [
             0.3333333333333333,
             "#9c179e"
            ],
            [
             0.4444444444444444,
             "#bd3786"
            ],
            [
             0.5555555555555556,
             "#d8576b"
            ],
            [
             0.6666666666666666,
             "#ed7953"
            ],
            [
             0.7777777777777778,
             "#fb9f3a"
            ],
            [
             0.8888888888888888,
             "#fdca26"
            ],
            [
             1,
             "#f0f921"
            ]
           ],
           "sequentialminus": [
            [
             0,
             "#0d0887"
            ],
            [
             0.1111111111111111,
             "#46039f"
            ],
            [
             0.2222222222222222,
             "#7201a8"
            ],
            [
             0.3333333333333333,
             "#9c179e"
            ],
            [
             0.4444444444444444,
             "#bd3786"
            ],
            [
             0.5555555555555556,
             "#d8576b"
            ],
            [
             0.6666666666666666,
             "#ed7953"
            ],
            [
             0.7777777777777778,
             "#fb9f3a"
            ],
            [
             0.8888888888888888,
             "#fdca26"
            ],
            [
             1,
             "#f0f921"
            ]
           ]
          },
          "colorway": [
           "#636efa",
           "#EF553B",
           "#00cc96",
           "#ab63fa",
           "#FFA15A",
           "#19d3f3",
           "#FF6692",
           "#B6E880",
           "#FF97FF",
           "#FECB52"
          ],
          "font": {
           "color": "#2a3f5f"
          },
          "geo": {
           "bgcolor": "white",
           "lakecolor": "white",
           "landcolor": "#E5ECF6",
           "showlakes": true,
           "showland": true,
           "subunitcolor": "white"
          },
          "hoverlabel": {
           "align": "left"
          },
          "hovermode": "closest",
          "mapbox": {
           "style": "light"
          },
          "paper_bgcolor": "white",
          "plot_bgcolor": "#E5ECF6",
          "polar": {
           "angularaxis": {
            "gridcolor": "white",
            "linecolor": "white",
            "ticks": ""
           },
           "bgcolor": "#E5ECF6",
           "radialaxis": {
            "gridcolor": "white",
            "linecolor": "white",
            "ticks": ""
           }
          },
          "scene": {
           "xaxis": {
            "backgroundcolor": "#E5ECF6",
            "gridcolor": "white",
            "gridwidth": 2,
            "linecolor": "white",
            "showbackground": true,
            "ticks": "",
            "zerolinecolor": "white"
           },
           "yaxis": {
            "backgroundcolor": "#E5ECF6",
            "gridcolor": "white",
            "gridwidth": 2,
            "linecolor": "white",
            "showbackground": true,
            "ticks": "",
            "zerolinecolor": "white"
           },
           "zaxis": {
            "backgroundcolor": "#E5ECF6",
            "gridcolor": "white",
            "gridwidth": 2,
            "linecolor": "white",
            "showbackground": true,
            "ticks": "",
            "zerolinecolor": "white"
           }
          },
          "shapedefaults": {
           "line": {
            "color": "#2a3f5f"
           }
          },
          "ternary": {
           "aaxis": {
            "gridcolor": "white",
            "linecolor": "white",
            "ticks": ""
           },
           "baxis": {
            "gridcolor": "white",
            "linecolor": "white",
            "ticks": ""
           },
           "bgcolor": "#E5ECF6",
           "caxis": {
            "gridcolor": "white",
            "linecolor": "white",
            "ticks": ""
           }
          },
          "title": {
           "x": 0.05
          },
          "xaxis": {
           "automargin": true,
           "gridcolor": "white",
           "linecolor": "white",
           "ticks": "",
           "title": {
            "standoff": 15
           },
           "zerolinecolor": "white",
           "zerolinewidth": 2
          },
          "yaxis": {
           "automargin": true,
           "gridcolor": "white",
           "linecolor": "white",
           "ticks": "",
           "title": {
            "standoff": 15
           },
           "zerolinecolor": "white",
           "zerolinewidth": 2
          }
         }
        },
        "title": {
         "text": "Clusters con DBSCAN"
        },
        "width": 700
       }
      }
     },
     "metadata": {},
     "output_type": "display_data"
    }
   ],
   "source": [
    "plot_3d(data_reduced, dbscan.labels_, 'Clusters con DBSCAN')"
   ]
  }
 ],
 "metadata": {
  "interpreter": {
   "hash": "1c836ea1838598e769062a9cf5fa60bfd2e0efc946eee0512711b4e28a236389"
  },
  "kernelspec": {
   "display_name": "Python 3.8.8 64-bit ('base': conda)",
   "name": "python3"
  },
  "language_info": {
   "codemirror_mode": {
    "name": "ipython",
    "version": 3
   },
   "file_extension": ".py",
   "mimetype": "text/x-python",
   "name": "python",
   "nbconvert_exporter": "python",
   "pygments_lexer": "ipython3",
   "version": "3.8.8"
  },
  "orig_nbformat": 4
 },
 "nbformat": 4,
 "nbformat_minor": 2
}
